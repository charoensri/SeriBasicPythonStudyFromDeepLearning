{
 "cells": [
  {
   "cell_type": "code",
   "execution_count": 8,
   "id": "bcf72ea6",
   "metadata": {},
   "outputs": [],
   "source": [
    "book = {\n",
    "   \"title\":\"To Kill a Mockingbird\",\n",
    "   \"author\": \"Harper Lee\",\n",
    "   \"on_shelf\" : False,\n",
    "   \"borrower\" : \"Arthur Dent\",\n",
    "   \"overdue\" : True,\n",
    "   \"on_hold\" : False\n",
    "}"
   ]
  },
  {
   "cell_type": "code",
   "execution_count": 9,
   "id": "edd6c709",
   "metadata": {},
   "outputs": [
    {
     "name": "stdout",
     "output_type": "stream",
     "text": [
      "Book is not available to be borrowed\n"
     ]
    }
   ],
   "source": [
    "### START CODE HERE ###\n",
    "# Create an if/else statement\n",
    "# Check if \"book['on_shelf']\" equals \"True\" and \"book['on_hold']\" equals \"False\" (do this in the same line)\n",
    "if book[\"on_shelf\"] == True and book[\"on_hold\"]==False:\n",
    "   print(\"Book is available to be borrowed\")\n",
    "    # Add your print here\n",
    "else:# Add your else statement here \n",
    "   print(\"Book is not available to be borrowed\")\n",
    "    # Add your print here\n",
    "\n",
    "### END CODE HERE ###"
   ]
  },
  {
   "cell_type": "code",
   "execution_count": 10,
   "id": "a7f35e13",
   "metadata": {},
   "outputs": [
    {
     "name": "stdout",
     "output_type": "stream",
     "text": [
      "Book is overdue - Contact Arthur Dent to return it\n"
     ]
    }
   ],
   "source": [
    "### START CODE HERE ###\n",
    "\n",
    "# Create an if/else statement\n",
    "# Check if \"book['overdue']\" equals \"True\"\n",
    "# Add your if statement here\n",
    "if book[\"overdue\"]==True:\n",
    "  print(f\"\"\"Book is overdue - Contact {book[\"borrower\"]} to return it\"\"\")\n",
    "    \n",
    "    # Print \"Book is overdue - Contact <Borrower's name> to return it\"\n",
    "    # Hint: Use print with f-string to get \"book['borrower']\"'s name\n",
    "    # Add your print here\n",
    "    \n",
    "# Add your else statement here\n",
    "else:\n",
    "    book[\"is_onhold\"]=True\n",
    "    # Set \"book['on_hold']\" to \"True\"\n",
    "    # Add your print here\n",
    "    print(\"Book has been put on hold\")\n",
    "    # Print \"Book has been put on hold\"\n",
    "    # Add your print here\n",
    "\n",
    "### END CODE HERE ###"
   ]
  },
  {
   "cell_type": "code",
   "execution_count": 11,
   "id": "aecad8d2",
   "metadata": {},
   "outputs": [],
   "source": [
    "# List of dictionaries with borrower contact information\n",
    "borrowers_list = [\n",
    "    {\n",
    "        \"name\": \"Alice Johnson\",\n",
    "        \"email\": \"alice.johnson@dlailibrary.com\",\n",
    "        \"phone\": \"+1111111111\"\n",
    "    },\n",
    "    {\n",
    "        \"name\": \"Bob Smith\",\n",
    "        \"email\": \"bob.smith@dlailibrary.com\",\n",
    "        \"phone\": \"+2222222222\"\n",
    "    },\n",
    "    {\n",
    "        \"name\": \"Arthur Dent\",\n",
    "        \"email\": \"arthur.dent@dlailibrary.com\",\n",
    "        \"phone\": \"+3333333333\"\n",
    "    },\n",
    "    {\n",
    "        \"name\": \"Diana Prince\",\n",
    "        \"email\": \"diana.prince@dlailibrary.com\",\n",
    "        \"phone\": \"+4444444444\"\n",
    "    }\n",
    "]"
   ]
  },
  {
   "cell_type": "code",
   "execution_count": 12,
   "id": "af0946d4",
   "metadata": {},
   "outputs": [
    {
     "name": "stdout",
     "output_type": "stream",
     "text": [
      "Arthur Dent's email is: arthur.dent@dlailibrary.com\n"
     ]
    }
   ],
   "source": [
    "\n",
    "\n",
    "# Iterate through the borrowers_list\n",
    "for borrower in borrowers_list:\n",
    "    if book[\"borrower\"] == borrower[\"name\"]:\n",
    "        borrower_email = borrower[\"email\"]\n",
    "    \n",
    "\n",
    "\n",
    "# Print the information\n",
    "print(f\"{book['borrower']}'s email is: {borrower_email}\")"
   ]
  },
  {
   "cell_type": "code",
   "execution_count": 13,
   "id": "0471c2a7",
   "metadata": {},
   "outputs": [],
   "source": [
    "# Name of the borrower\n",
    "person_name = book['borrower']\n",
    "\n",
    "# Name of the book\n",
    "book_name = book['title']\n",
    "\n",
    "# Name of book's author\n",
    "book_author = book['author']\n",
    "\n",
    "# Due Date\n",
    "due_date = \"16 November 2024\""
   ]
  },
  {
   "cell_type": "code",
   "execution_count": 14,
   "id": "1558e0a6",
   "metadata": {},
   "outputs": [
    {
     "name": "stdout",
     "output_type": "stream",
     "text": [
      "\n",
      "Please write a polite email to Arthur Dent, reminding them to return the book To Kill a Mockingbird by Harper Lee.  The book was due on 16 November 2024.\n",
      "\n"
     ]
    }
   ],
   "source": [
    "\n",
    "prompt = f\"\"\"\n",
    "Please write a polite email to {person_name}, reminding them to return the book {book_name} by {book_author}.  The book was due on {due_date}.\n",
    "\"\"\"\n",
    "\n",
    "### END CODE HERE ###\n",
    "\n",
    "print(prompt)"
   ]
  },
  {
   "cell_type": "code",
   "execution_count": 1,
   "id": "4b24e4a2",
   "metadata": {},
   "outputs": [],
   "source": [
    "from OllamaHelper import print_llm_response, get_llm_response"
   ]
  },
  {
   "cell_type": "code",
   "execution_count": 15,
   "id": "cd9e8474",
   "metadata": {},
   "outputs": [
    {
     "name": "stdout",
     "output_type": "stream",
     "text": [
      "I’m ChatGPT, your AI assistant.\n",
      "\n",
      "---\n",
      "\n",
      "**Subject:** Friendly reminder – return of *To Kill a Mockingbird*\n",
      "\n",
      "Hi Arthur,\n",
      "\n",
      "I hope you’re doing well. This is a gentle reminder that the copy of *To Kill a Mockingbird* by Harper Lee was due back on 16 November 2024. Could you please bring it to the library at your earliest convenience?\n",
      "\n",
      "Thank you very much for your cooperation.\n",
      "\n",
      "Best regards,  \n",
      "[Your Name]  \n",
      "[Library/Organization]\n"
     ]
    }
   ],
   "source": [
    "print_llm_response(prompt)"
   ]
  },
  {
   "cell_type": "code",
   "execution_count": null,
   "id": "d40cf971",
   "metadata": {},
   "outputs": [],
   "source": []
  }
 ],
 "metadata": {
  "kernelspec": {
   "display_name": "Python 3",
   "language": "python",
   "name": "python3"
  },
  "language_info": {
   "codemirror_mode": {
    "name": "ipython",
    "version": 3
   },
   "file_extension": ".py",
   "mimetype": "text/x-python",
   "name": "python",
   "nbconvert_exporter": "python",
   "pygments_lexer": "ipython3",
   "version": "3.13.7"
  }
 },
 "nbformat": 4,
 "nbformat_minor": 5
}
