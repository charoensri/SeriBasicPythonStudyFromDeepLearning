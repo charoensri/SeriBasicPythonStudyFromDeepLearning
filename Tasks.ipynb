{
 "cells": [
  {
   "cell_type": "code",
   "execution_count": 2,
   "id": "9c5b8f4e",
   "metadata": {},
   "outputs": [],
   "source": [
    "import OllamaHelper as ohelper"
   ]
  },
  {
   "cell_type": "code",
   "execution_count": 3,
   "id": "daa16547",
   "metadata": {},
   "outputs": [],
   "source": [
    "#list of tasks in priority order. Multi-line lists are allowed in python!\n",
    "list_of_tasks = [\n",
    "    \"Compose a brief email to my boss explaining that I will be late for tomorrow's meeting.\",\n",
    "    \"Write a birthday poem for Otto, celebrating his 28th birthday.\",\n",
    "    \"Write a 300-word review of the movie 'The Arrival'.\"\n",
    "]"
   ]
  },
  {
   "cell_type": "code",
   "execution_count": 4,
   "id": "2406a9ce",
   "metadata": {},
   "outputs": [
    {
     "name": "stdout",
     "output_type": "stream",
     "text": [
      "I’m ChatGPT, a large language model trained by OpenAI.  \n",
      "\n",
      "**Otto’s 28th Birthday Poem**\n",
      "\n",
      "Twenty‑eight candles glow, each a wish that’s earned,  \n",
      "A year of lessons learned, yet more dreams yet unturned.  \n",
      "May laughter lift you higher, may joy never end,  \n",
      "And every step ahead be bright, my friend.\n"
     ]
    }
   ],
   "source": [
    "prompt = list_of_tasks[1]\n",
    "print(ohelper.get_llm_response(prompt))"
   ]
  },
  {
   "cell_type": "code",
   "execution_count": 9,
   "id": "93c2be3e",
   "metadata": {},
   "outputs": [
    {
     "data": {
      "text/plain": [
       "3"
      ]
     },
     "execution_count": 9,
     "metadata": {},
     "output_type": "execute_result"
    }
   ],
   "source": [
    "len(list_of_tasks)"
   ]
  },
  {
   "cell_type": "markdown",
   "id": "fd54065b",
   "metadata": {},
   "source": [
    "task = list_of_tasks[0]\n",
    "from ollama import Client\n",
    "# Connect to custom host\n",
    "client = Client(host='http://localhost:11434')  # default\n",
    "# or for remote: Client(host='http://192.168.1.100:11434')\n",
    "\n",
    "response = client.chat(\n",
    "    model='gpt-oss:20b',\n",
    "    messages=[{'role': 'user', 'content': 'Hello!'},\n",
    "              {'role': 'user', 'content': list_of_tasks[0]},\n",
    "              {'role': 'user', 'content': list_of_tasks[1]}\n",
    "              ],\n",
    ")\n",
    "print(response['message']['content'])"
   ]
  },
  {
   "cell_type": "code",
   "execution_count": null,
   "id": "b1d543e1",
   "metadata": {},
   "outputs": [],
   "source": []
  }
 ],
 "metadata": {
  "kernelspec": {
   "display_name": "Python 3",
   "language": "python",
   "name": "python3"
  },
  "language_info": {
   "codemirror_mode": {
    "name": "ipython",
    "version": 3
   },
   "file_extension": ".py",
   "mimetype": "text/x-python",
   "name": "python",
   "nbconvert_exporter": "python",
   "pygments_lexer": "ipython3",
   "version": "3.13.7"
  }
 },
 "nbformat": 4,
 "nbformat_minor": 5
}
