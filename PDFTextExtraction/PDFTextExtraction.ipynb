{
 "cells": [
  {
   "cell_type": "code",
   "execution_count": 3,
   "id": "4f3b2600",
   "metadata": {},
   "outputs": [
    {
     "name": "stdout",
     "output_type": "stream",
     "text": [
      "Defaulting to user installation because normal site-packages is not writeable\n",
      "Collecting PyPDF2\n",
      "  Downloading pypdf2-3.0.1-py3-none-any.whl.metadata (6.8 kB)\n",
      "Downloading pypdf2-3.0.1-py3-none-any.whl (232 kB)\n",
      "Installing collected packages: PyPDF2\n",
      "Successfully installed PyPDF2-3.0.1\n"
     ]
    }
   ],
   "source": [
    "!pip install PyPDF2"
   ]
  },
  {
   "cell_type": "code",
   "execution_count": 6,
   "id": "0e5411c7",
   "metadata": {},
   "outputs": [
    {
     "name": "stdout",
     "output_type": "stream",
     "text": [
      "Defaulting to user installation because normal site-packages is not writeable\n",
      "Collecting pdfplumber\n",
      "  Downloading pdfplumber-0.11.7-py3-none-any.whl.metadata (42 kB)\n",
      "Collecting pdfminer.six==20250506 (from pdfplumber)\n",
      "  Downloading pdfminer_six-20250506-py3-none-any.whl.metadata (4.2 kB)\n",
      "Requirement already satisfied: Pillow>=9.1 in c:\\users\\chars1\\appdata\\roaming\\python\\python313\\site-packages (from pdfplumber) (12.0.0)\n",
      "Collecting pypdfium2>=4.18.0 (from pdfplumber)\n",
      "  Downloading pypdfium2-4.30.0-py3-none-win_amd64.whl.metadata (48 kB)\n",
      "Requirement already satisfied: charset-normalizer>=2.0.0 in c:\\users\\chars1\\appdata\\roaming\\python\\python313\\site-packages (from pdfminer.six==20250506->pdfplumber) (3.4.2)\n",
      "Collecting cryptography>=36.0.0 (from pdfminer.six==20250506->pdfplumber)\n",
      "  Downloading cryptography-46.0.3-cp311-abi3-win_amd64.whl.metadata (5.7 kB)\n",
      "Collecting cffi>=2.0.0 (from cryptography>=36.0.0->pdfminer.six==20250506->pdfplumber)\n",
      "  Downloading cffi-2.0.0-cp313-cp313-win_amd64.whl.metadata (2.6 kB)\n",
      "Requirement already satisfied: pycparser in c:\\users\\chars1\\appdata\\roaming\\python\\python313\\site-packages (from cffi>=2.0.0->cryptography>=36.0.0->pdfminer.six==20250506->pdfplumber) (2.22)\n",
      "Downloading pdfplumber-0.11.7-py3-none-any.whl (60 kB)\n",
      "Downloading pdfminer_six-20250506-py3-none-any.whl (5.6 MB)\n",
      "   ---------------------------------------- 0.0/5.6 MB ? eta -:--:--\n",
      "   --------- ------------------------------ 1.3/5.6 MB 6.5 MB/s eta 0:00:01\n",
      "   ------------------ --------------------- 2.6/5.6 MB 6.6 MB/s eta 0:00:01\n",
      "   --------------------------- ------------ 3.9/5.6 MB 6.6 MB/s eta 0:00:01\n",
      "   ------------------------------------- -- 5.2/5.6 MB 6.7 MB/s eta 0:00:01\n",
      "   ---------------------------------------- 5.6/5.6 MB 6.4 MB/s  0:00:00\n",
      "Downloading cryptography-46.0.3-cp311-abi3-win_amd64.whl (3.5 MB)\n",
      "   ---------------------------------------- 0.0/3.5 MB ? eta -:--:--\n",
      "   -------------- ------------------------- 1.3/3.5 MB 6.8 MB/s eta 0:00:01\n",
      "   ----------------------------- ---------- 2.6/3.5 MB 6.7 MB/s eta 0:00:01\n",
      "   ---------------------------------------- 3.5/3.5 MB 6.3 MB/s  0:00:00\n",
      "Downloading cffi-2.0.0-cp313-cp313-win_amd64.whl (183 kB)\n",
      "Downloading pypdfium2-4.30.0-py3-none-win_amd64.whl (2.9 MB)\n",
      "   ---------------------------------------- 0.0/2.9 MB ? eta -:--:--\n",
      "   ------------------ --------------------- 1.3/2.9 MB 6.7 MB/s eta 0:00:01\n",
      "   ------------------------------------ --- 2.6/2.9 MB 6.7 MB/s eta 0:00:01\n",
      "   ---------------------------------------- 2.9/2.9 MB 6.2 MB/s  0:00:00\n",
      "Installing collected packages: pypdfium2, cffi, cryptography, pdfminer.six, pdfplumber\n",
      "\n",
      "   ---------------------------------------- 0/5 [pypdfium2]\n",
      "   ---------------------------------------- 0/5 [pypdfium2]\n",
      "   ---------------------------------------- 0/5 [pypdfium2]\n",
      "  Attempting uninstall: cffi\n",
      "   ---------------------------------------- 0/5 [pypdfium2]\n",
      "   -------- ------------------------------- 1/5 [cffi]\n",
      "    Found existing installation: cffi 1.17.1\n",
      "   -------- ------------------------------- 1/5 [cffi]\n",
      "    Uninstalling cffi-1.17.1:\n",
      "   -------- ------------------------------- 1/5 [cffi]\n",
      "   -------- ------------------------------- 1/5 [cffi]\n",
      "   -------- ------------------------------- 1/5 [cffi]\n",
      "   -------- ------------------------------- 1/5 [cffi]\n",
      "   -------- ------------------------------- 1/5 [cffi]\n",
      "   -------- ------------------------------- 1/5 [cffi]\n",
      "   -------- ------------------------------- 1/5 [cffi]\n",
      "   -------- ------------------------------- 1/5 [cffi]\n",
      "   -------- ------------------------------- 1/5 [cffi]\n",
      "   -------- ------------------------------- 1/5 [cffi]\n",
      "   -------- ------------------------------- 1/5 [cffi]\n",
      "   -------- ------------------------------- 1/5 [cffi]\n",
      "   -------- ------------------------------- 1/5 [cffi]\n",
      "   -------- ------------------------------- 1/5 [cffi]\n",
      "   -------- ------------------------------- 1/5 [cffi]\n",
      "      Successfully uninstalled cffi-1.17.1\n",
      "   -------- ------------------------------- 1/5 [cffi]\n",
      "   -------- ------------------------------- 1/5 [cffi]\n",
      "   -------- ------------------------------- 1/5 [cffi]\n",
      "   ---------------- ----------------------- 2/5 [cryptography]\n",
      "   ---------------- ----------------------- 2/5 [cryptography]\n",
      "   ---------------- ----------------------- 2/5 [cryptography]\n",
      "   ---------------- ----------------------- 2/5 [cryptography]\n",
      "   ---------------- ----------------------- 2/5 [cryptography]\n",
      "   ---------------- ----------------------- 2/5 [cryptography]\n",
      "   ---------------- ----------------------- 2/5 [cryptography]\n",
      "   ---------------- ----------------------- 2/5 [cryptography]\n",
      "   ------------------------ --------------- 3/5 [pdfminer.six]\n",
      "   ------------------------ --------------- 3/5 [pdfminer.six]\n",
      "   ------------------------ --------------- 3/5 [pdfminer.six]\n",
      "   ------------------------ --------------- 3/5 [pdfminer.six]\n",
      "   ------------------------ --------------- 3/5 [pdfminer.six]\n",
      "   ------------------------ --------------- 3/5 [pdfminer.six]\n",
      "   ------------------------ --------------- 3/5 [pdfminer.six]\n",
      "   -------------------------------- ------- 4/5 [pdfplumber]\n",
      "   -------------------------------- ------- 4/5 [pdfplumber]\n",
      "   ---------------------------------------- 5/5 [pdfplumber]\n",
      "\n",
      "Successfully installed cffi-2.0.0 cryptography-46.0.3 pdfminer.six-20250506 pdfplumber-0.11.7 pypdfium2-4.30.0\n"
     ]
    }
   ],
   "source": [
    "!pip install pdfplumber"
   ]
  },
  {
   "cell_type": "code",
   "execution_count": null,
   "id": "27cccbc8",
   "metadata": {},
   "outputs": [],
   "source": [
    "# Using pdfplumber (better for tables/complex layouts)\n",
    "import pdfplumber\n",
    "\n",
    "with pdfplumber.open('commondiddoc.pdf') as pdf:\n",
    "    for page in pdf.pages:\n",
    "        text = page.extract_text()\n",
    "        print(text)"
   ]
  },
  {
   "cell_type": "code",
   "execution_count": 9,
   "id": "d55e0985",
   "metadata": {},
   "outputs": [
    {
     "name": "stderr",
     "output_type": "stream",
     "text": [
      "incorrect startxref pointer(1)\n"
     ]
    },
    {
     "name": "stdout",
     "output_type": "stream",
     "text": [
      "\n",
      "\n",
      "\n",
      "\n",
      "\n",
      "\n",
      "\n",
      "\n",
      "\n",
      "\n",
      "\n",
      "\n",
      "\n",
      "\n",
      "\n",
      "\n",
      "\n",
      "\n",
      "\n",
      "\n",
      "\n",
      "\n",
      "\n",
      "\n",
      "\n",
      "\n",
      "\n",
      "\n",
      "\n",
      "\n",
      "\n",
      "\n",
      "\n",
      "\n",
      "\n",
      "\n",
      "\n",
      "\n",
      "\n",
      "\n",
      "\n",
      "\n",
      "\n",
      "\n",
      "\n",
      "\n",
      "\n"
     ]
    }
   ],
   "source": [
    "# Using PyPDF2\n",
    "import PyPDF2\n",
    "\n",
    "with open('commondiddoc.pdf', 'rb') as file:\n",
    "    reader = PyPDF2.PdfReader(file)\n",
    "    for page in reader.pages:\n",
    "        text = page.extract_text()\n",
    "        print(text)\n",
    "\n"
   ]
  },
  {
   "cell_type": "code",
   "execution_count": null,
   "id": "17f5f41b",
   "metadata": {},
   "outputs": [],
   "source": []
  }
 ],
 "metadata": {
  "kernelspec": {
   "display_name": "Python 3",
   "language": "python",
   "name": "python3"
  },
  "language_info": {
   "codemirror_mode": {
    "name": "ipython",
    "version": 3
   },
   "file_extension": ".py",
   "mimetype": "text/x-python",
   "name": "python",
   "nbconvert_exporter": "python",
   "pygments_lexer": "ipython3",
   "version": "3.13.7"
  }
 },
 "nbformat": 4,
 "nbformat_minor": 5
}
