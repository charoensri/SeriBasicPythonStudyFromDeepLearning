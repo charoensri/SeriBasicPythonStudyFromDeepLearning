{
 "cells": [
  {
   "cell_type": "code",
   "execution_count": null,
   "id": "fcab6153",
   "metadata": {},
   "outputs": [
    {
     "name": "stdout",
     "output_type": "stream",
     "text": [
      "Defaulting to user installation because normal site-packages is not writeable\n",
      "Collecting ollama\n",
      "  Downloading ollama-0.6.0-py3-none-any.whl.metadata (4.3 kB)\n",
      "Requirement already satisfied: httpx>=0.27 in c:\\users\\chars1\\appdata\\roaming\\python\\python313\\site-packages (from ollama) (0.28.1)\n",
      "Requirement already satisfied: pydantic>=2.9 in c:\\users\\chars1\\appdata\\roaming\\python\\python313\\site-packages (from ollama) (2.11.7)\n",
      "Requirement already satisfied: anyio in c:\\users\\chars1\\appdata\\roaming\\python\\python313\\site-packages (from httpx>=0.27->ollama) (4.9.0)\n",
      "Requirement already satisfied: certifi in c:\\users\\chars1\\appdata\\roaming\\python\\python313\\site-packages (from httpx>=0.27->ollama) (2025.7.9)\n",
      "Requirement already satisfied: httpcore==1.* in c:\\users\\chars1\\appdata\\roaming\\python\\python313\\site-packages (from httpx>=0.27->ollama) (1.0.9)\n",
      "Requirement already satisfied: idna in c:\\users\\chars1\\appdata\\roaming\\python\\python313\\site-packages (from httpx>=0.27->ollama) (3.10)\n",
      "Requirement already satisfied: h11>=0.16 in c:\\users\\chars1\\appdata\\roaming\\python\\python313\\site-packages (from httpcore==1.*->httpx>=0.27->ollama) (0.16.0)\n",
      "Requirement already satisfied: annotated-types>=0.6.0 in c:\\users\\chars1\\appdata\\roaming\\python\\python313\\site-packages (from pydantic>=2.9->ollama) (0.7.0)\n",
      "Requirement already satisfied: pydantic-core==2.33.2 in c:\\users\\chars1\\appdata\\roaming\\python\\python313\\site-packages (from pydantic>=2.9->ollama) (2.33.2)\n",
      "Requirement already satisfied: typing-extensions>=4.12.2 in c:\\users\\chars1\\appdata\\roaming\\python\\python313\\site-packages (from pydantic>=2.9->ollama) (4.14.1)\n",
      "Requirement already satisfied: typing-inspection>=0.4.0 in c:\\users\\chars1\\appdata\\roaming\\python\\python313\\site-packages (from pydantic>=2.9->ollama) (0.4.1)\n",
      "Requirement already satisfied: sniffio>=1.1 in c:\\users\\chars1\\appdata\\roaming\\python\\python313\\site-packages (from anyio->httpx>=0.27->ollama) (1.3.1)\n",
      "Downloading ollama-0.6.0-py3-none-any.whl (14 kB)\n",
      "Installing collected packages: ollama\n",
      "Successfully installed ollama-0.6.0\n",
      "Note: you may need to restart the kernel to use updated packages.\n"
     ]
    }
   ],
   "source": [
    "pip install ollama\n"
   ]
  },
  {
   "cell_type": "code",
   "execution_count": null,
   "id": "23d1d04b",
   "metadata": {},
   "outputs": [],
   "source": [
    "\n"
   ]
  },
  {
   "cell_type": "code",
   "execution_count": null,
   "id": "6d366788",
   "metadata": {},
   "outputs": [],
   "source": [
    "# Simple prompt\n",
    "import ollama\n",
    "response = ollama.chat(\n",
    "    model='gpt-oss:20b',  # or 'mistral', 'codellama', etc.\n",
    "    messages=[\n",
    "        {\n",
    "            'role': 'user',\n",
    "            'content': 'Why is the sky blue?',\n",
    "        },\n",
    "    ]\n",
    ")\n",
    "\n",
    "print(response['message']['content'])"
   ]
  },
  {
   "cell_type": "code",
   "execution_count": 8,
   "id": "78db3111",
   "metadata": {},
   "outputs": [
    {
     "name": "stdout",
     "output_type": "stream",
     "text": [
      "Hello!  \n",
      "\n",
      "- The capital of France is **Paris**.  \n",
      "- The capital of Thailand is **Bangkok**.\n"
     ]
    }
   ],
   "source": [
    "from ollama import Client\n",
    "\n",
    "# Connect to custom host\n",
    "client = Client(host='http://localhost:11434')  # default\n",
    "# or for remote: Client(host='http://192.168.1.100:11434')\n",
    "\n",
    "response = client.chat(\n",
    "    model='gpt-oss:20b',\n",
    "    messages=[{'role': 'user', 'content': 'Hello!'},\n",
    "              {'role': 'user', 'content': 'What is the capital of France?'},\n",
    "              {'role': 'user', 'content': 'What is the capital of Thailand?'}\n",
    "              ],\n",
    ")\n",
    "print(response['message']['content'])"
   ]
  },
  {
   "cell_type": "markdown",
   "id": "054cdfc2",
   "metadata": {},
   "source": [
    "Using Requests Library (Alternative)\n",
    "If you prefer using the REST API directly:"
   ]
  },
  {
   "cell_type": "code",
   "execution_count": 14,
   "id": "84f4f6ba",
   "metadata": {},
   "outputs": [
    {
     "name": "stdout",
     "output_type": "stream",
     "text": [
      "4\n"
     ]
    }
   ],
   "source": [
    "import requests\n",
    "import json\n",
    "\n",
    "url = \"http://localhost:11434/api/chat\"\n",
    "\n",
    "data = {\n",
    "    \"model\": \"gpt-oss:20b\",\n",
    "    \"messages\": [\n",
    "        {\"role\": \"user\", \"content\": \"What is 2+2?\"}\n",
    "    ],\n",
    "    \"stream\": False}\n",
    "\n",
    "response = requests.post(url, json=data)\n",
    "result = response.json()\n",
    "print(result['message']['content'])"
   ]
  },
  {
   "cell_type": "code",
   "execution_count": null,
   "id": "fcbfccf9",
   "metadata": {},
   "outputs": [],
   "source": []
  },
  {
   "cell_type": "code",
   "execution_count": null,
   "id": "4c7b2509",
   "metadata": {},
   "outputs": [],
   "source": []
  }
 ],
 "metadata": {
  "kernelspec": {
   "display_name": "Python 3",
   "language": "python",
   "name": "python3"
  },
  "language_info": {
   "codemirror_mode": {
    "name": "ipython",
    "version": 3
   },
   "file_extension": ".py",
   "mimetype": "text/x-python",
   "name": "python",
   "nbconvert_exporter": "python",
   "pygments_lexer": "ipython3",
   "version": "3.13.7"
  }
 },
 "nbformat": 4,
 "nbformat_minor": 5
}
