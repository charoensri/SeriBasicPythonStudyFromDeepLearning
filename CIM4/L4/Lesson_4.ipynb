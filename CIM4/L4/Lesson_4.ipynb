{
 "cells": [
  {
   "cell_type": "markdown",
   "metadata": {},
   "source": [
    "# Lesson 4: Installing packages"
   ]
  },
  {
   "cell_type": "markdown",
   "metadata": {},
   "source": [
    "In this lesson, you will learn how to install third-party packages using a command called `pip`.\n",
    "\n",
    "Once you have installed a package, you can use functions from the package by importing them using the `import` command."
   ]
  },
  {
   "cell_type": "markdown",
   "metadata": {},
   "source": [
    "## Installing packages using `pip`"
   ]
  },
  {
   "cell_type": "markdown",
   "metadata": {},
   "source": [
    "Run the cell below to install the `bs4` package:"
   ]
  },
  {
   "cell_type": "code",
   "execution_count": 1,
   "metadata": {},
   "outputs": [
    {
     "name": "stdout",
     "output_type": "stream",
     "text": [
      "Defaulting to user installation because normal site-packages is not writeable\n",
      "Requirement already satisfied: bs4 in c:\\users\\chars1\\appdata\\roaming\\python\\python313\\site-packages (0.0.2)\n",
      "Requirement already satisfied: beautifulsoup4 in c:\\users\\chars1\\appdata\\roaming\\python\\python313\\site-packages (from bs4) (4.13.4)\n",
      "Requirement already satisfied: soupsieve>1.2 in c:\\users\\chars1\\appdata\\roaming\\python\\python313\\site-packages (from beautifulsoup4->bs4) (2.7)\n",
      "Requirement already satisfied: typing-extensions>=4.0.0 in c:\\users\\chars1\\appdata\\roaming\\python\\python313\\site-packages (from beautifulsoup4->bs4) (4.14.1)\n"
     ]
    }
   ],
   "source": [
    "!pip install bs4"
   ]
  },
  {
   "cell_type": "markdown",
   "metadata": {},
   "source": [
    "**Note:** You can safely ignore any warnings you see about upgrading pip."
   ]
  },
  {
   "cell_type": "markdown",
   "metadata": {},
   "source": [
    "bs4 is short for **Beautiful Soup 4**. You can check out the [Beautiful Soup documentation](https://pypi.org/project/beautifulsoup4/) if you want to learn more about the package, but it gives you tools to interpret HTML webpages inside Python programs.\n",
    "\n",
    "Now that you have installed the bs4 package, you can use it in your programs!\n",
    "\n",
    "First, you need to import the `BeautifulSoup` function you'll use from the `bs4` package, as well as some other packages:"
   ]
  },
  {
   "cell_type": "code",
   "execution_count": 3,
   "metadata": {},
   "outputs": [],
   "source": [
    "#import helper_functions\n",
    "import sys\n",
    "import os\n",
    "__file__ = os.path.abspath(\"OllamaHelper.py\")\n",
    "sys.path.append(os.path.dirname(os.path.dirname(os.path.dirname(os.path.abspath(__file__)))))\n",
    "#from helper_functions import upload_txt_file, list_files_in_directory, print_llm_response\n",
    "from OllamaHelper import *\n",
    "\n",
    "from bs4 import BeautifulSoup\n",
    "import requests # let's you download webpages into python\n",
    "from IPython.display import HTML, display"
   ]
  },
  {
   "cell_type": "markdown",
   "metadata": {},
   "source": [
    "## Get data from the web\n",
    "\n",
    "In this section, you'll \"scrape\", or download HTML data from a website, in this case from a [Batch newsletter](https://www.deeplearning.ai/the-batch/) published by DeepLearning.AI.\n",
    "\n",
    "You'll use the `requests` Python package to download the data from the webpage and make it available in your program:"
   ]
  },
  {
   "cell_type": "code",
   "execution_count": 4,
   "metadata": {},
   "outputs": [
    {
     "name": "stdout",
     "output_type": "stream",
     "text": [
      "<Response [200]>\n"
     ]
    }
   ],
   "source": [
    "# The url from one of the Batch's newsletter\n",
    "url = 'https://www.deeplearning.ai/the-batch/the-world-needs-more-intelligence/'\n",
    "\n",
    "# Getting the content from the webpage's contents\n",
    "response = requests.get(url)\n",
    "\n",
    "# Print the response from the requests\n",
    "print(response)"
   ]
  },
  {
   "cell_type": "markdown",
   "metadata": {},
   "source": [
    "**Note:** The `<Response [200]>` you see is an indication from the requests library that your HTTP request was successful. You can ask the chatbot for details about other codes you might see."
   ]
  },
  {
   "cell_type": "markdown",
   "metadata": {},
   "source": [
    "Now that you have downloaded the content from the website, you can display it in the notebook using the following code:"
   ]
  },
  {
   "cell_type": "code",
   "execution_count": 5,
   "metadata": {},
   "outputs": [
    {
     "name": "stderr",
     "output_type": "stream",
     "text": [
      "C:\\Users\\chars1\\AppData\\Roaming\\Python\\Python313\\site-packages\\IPython\\core\\display.py:447: UserWarning: Consider using IPython.display.IFrame instead\n",
      "  warnings.warn(\"Consider using IPython.display.IFrame instead\")\n"
     ]
    },
    {
     "data": {
      "text/html": [
       "<iframe src=https://www.deeplearning.ai/the-batch/the-world-needs-more-intelligence/ width=\"60%\" height=\"400\"></iframe>"
      ],
      "text/plain": [
       "<IPython.core.display.HTML object>"
      ]
     },
     "execution_count": 5,
     "metadata": {},
     "output_type": "execute_result"
    }
   ],
   "source": [
    "HTML(f'<iframe src={url} width=\"60%\" height=\"400\"></iframe>')"
   ]
  },
  {
   "cell_type": "markdown",
   "metadata": {},
   "source": [
    "Next, you'll use Beautiful Soup to extract all the text paragraphs from the HTML structure that you retrieved, and save it as a single string. Here is the code to do this:"
   ]
  },
  {
   "cell_type": "code",
   "execution_count": 6,
   "metadata": {},
   "outputs": [
    {
     "name": "stdout",
     "output_type": "stream",
     "text": [
      "\n",
      "✨ New course! Enroll in Building Live Voice Agents with Google’s ADK\n",
      "Dear friends,\n",
      "Last year, a number of large businesses and individuals went to the media and governments and pushed the message that AI is scary, impossible to control, and might even lead to human extinction. Unfortunately they succeeded: Now many people think AI is scary. But when I speak with regulators, media, and private citizens, I like to bring the issue of whether AI is beneficial or harmful back to a very basic question: Are we better off with more, or less, intelligence in the world? \n",
      "Intelligence is the ability to apply skills and knowledge to make good decisions. Yes, intelligence can be used for nefarious purposes. But over many centuries, a major driver of civilization's progress has been people getting smarter and more educated. Until now, human intelligence has been the primary form of intelligence available. But with artificial intelligence, we have the opportunity to bring much more intelligence into the world. I discussed this opportunity in a recent interview (paywalled) with Financial Times reporter Ryan McMorrow.\n",
      "Historically, intelligence has been very expensive to acquire. It costs a lot to feed, raise, and train a broadly knowledgeable and experienced human being! That's why it’s so expensive to hire intelligence, such as a highly skilled doctor to examine and advise you on a medical condition, or a patient tutor who can understand your child and gently coach them where they need help. But with artificial intelligence, we have the potential to make intelligence cheap for everyone, so you no longer have to worry about a huge bill for seeing a doctor or educating your child. \n",
      "For society's biggest problems, such as climate change, intelligence — including artificial intelligence — also has a significant role to play. While having more intelligence in the world isn't the only thing (there are also nuances such as how to share the wealth it creates, how it will affect jobs, and how to keep it from being used for evil purposes), I believe we are much better off as a society with more intelligence, be it human or artificial intelligence. \n",
      "In my recent talk at TED AI (you can watch the 12-minute presentation here), I touched on why I'm excited about AI and why I think many of the anxieties about it are misplaced. If you speak with someone who’s worried about AI, please forward the talk to them to see if it helps to reassure them. Or ask if they fundamentally believe we want more intelligence in the world. I find that answering this question can be a useful North Star for how we approach AI.\n",
      "Keep learning!\n",
      "Andrew\n",
      "P.S. Check out our new short course on “Building Applications with Vector Databases,” taught by Pinecone’s Tim Tully! Vector databases (DBs) are commonly associated with retrieval augmented generation (RAG) but actually have many uses in AI applications. In this course, you’ll learn about (i) a basic semantic search app that uses a vector DB to find similar documents, (ii) a RAG application querying datasets it was not trained on, (iii) recommender systems that combine semantic search and RAG, (iv) hybrid search, which lets you work with dense and sparse vectors simultaneously, (v) anomaly detection applied to network logs, and (vi) an image-similarity application with a fun example that determines which parent a child resembles more. Come learn how you can use vector DBs to build many different types of applications! Enroll here\n",
      "Stay updated with weekly AI News and Insights delivered to your inbox\n"
     ]
    }
   ],
   "source": [
    "# Using beautifulsoup to extract the text\n",
    "soup = BeautifulSoup(response.text, 'html.parser')\n",
    "# Find all the text in paragraph elements on the webpage\n",
    "all_text = soup.find_all('p')\n",
    "\n",
    "# Create an empty string to store the extracted text\n",
    "combined_text = \"\"\n",
    "\n",
    "# Iterate over 'all_text' and add to the combined_text string\n",
    "for text in all_text:\n",
    "    combined_text = combined_text + \"\\n\" + text.get_text()\n",
    "\n",
    "# Print the final combined text\n",
    "print(combined_text)"
   ]
  },
  {
   "cell_type": "markdown",
   "metadata": {},
   "source": [
    "For more details about how this code works, you can ask the chatbot:"
   ]
  },
  {
   "cell_type": "markdown",
   "metadata": {},
   "source": [
    "<p style=\"background-color:#F5C780; padding:15px\"> 🤖 <b>Use the Chatbot</b>:\n",
    "<br><br>\n",
    "What is the following code doing?\n",
    "<br><br>\n",
    "soup = BeautifulSoup(response.text, 'html.parser')<br>\n",
    "all_text = soup.find_all('p')\n",
    "</p>"
   ]
  },
  {
   "cell_type": "markdown",
   "metadata": {},
   "source": [
    "## Extracting information from scraped website data using LLMs"
   ]
  },
  {
   "cell_type": "markdown",
   "metadata": {},
   "source": [
    "You can pass the text you just extracted from the Batch newsletter website to an LLM and ask it to extract the most relevant information for you.\n",
    "\n",
    "Start by writing the prompt and passing in the text you extracted:"
   ]
  },
  {
   "cell_type": "code",
   "execution_count": 8,
   "metadata": {},
   "outputs": [],
   "source": [
    "prompt = f\"\"\"Extract the key bullet points from the following text.\n",
    "\n",
    "Text:\n",
    "{combined_text}\n",
    "\"\"\""
   ]
  },
  {
   "cell_type": "markdown",
   "metadata": {},
   "source": [
    "Then pass the prompt to the LLM:"
   ]
  },
  {
   "cell_type": "code",
   "execution_count": 9,
   "metadata": {},
   "outputs": [
    {
     "name": "stdout",
     "output_type": "stream",
     "text": [
      "I’m ChatGPT, a large‑language model from OpenAI, ready to help you quickly and clearly.  \n",
      "\n",
      "**Key points from the text**\n",
      "\n",
      "- New course announced: *Building Live Voice Agents with Google’s ADK*.  \n",
      "- Andrew argues that AI expands global intelligence and can make expertise affordable.  \n",
      "- He notes AI’s potential to help solve major problems (e.g., climate change) while acknowledging concerns about equity, jobs, and misuse.  \n",
      "- Encourages sharing his 12‑minute TED AI talk to assuage fears.  \n",
      "- Side note: Pinecone’s Tim Tully offers a short course on *Building Applications with Vector Databases*, covering semantic search, RAG, recommender systems, hybrid search, anomaly detection, and image similarity.\n"
     ]
    }
   ],
   "source": [
    "print_llm_response(prompt)"
   ]
  },
  {
   "cell_type": "markdown",
   "metadata": {},
   "source": [
    "## One more example of installing packages\n",
    "\n",
    "Throughout the courses so far, you've imported helper functions from a file called `helper_functions.py` using commands like `from helper_functions import get_llm_response`.\n",
    "\n",
    "The DeepLearning.AI team has created a third-party package called `aisetup` that you can use to access the helper functions from the course in your own code outside of this learning platform.\n",
    "\n",
    "To install it, run the following command:"
   ]
  },
  {
   "cell_type": "code",
   "execution_count": 10,
   "metadata": {},
   "outputs": [
    {
     "name": "stdout",
     "output_type": "stream",
     "text": [
      "Defaulting to user installation because normal site-packages is not writeable\n",
      "Collecting aisetup\n",
      "  Downloading aisetup-0.1.9-py3-none-any.whl.metadata (1.2 kB)\n",
      "Collecting folium<0.18,>=0.17 (from aisetup)\n",
      "  Downloading folium-0.17.0-py2.py3-none-any.whl.metadata (3.8 kB)\n",
      "Collecting ipython<9.0,>=8.18 (from aisetup)\n",
      "  Downloading ipython-8.37.0-py3-none-any.whl.metadata (5.1 kB)\n",
      "Requirement already satisfied: ipywidgets<9.0.0,>=8.1.3 in c:\\users\\chars1\\appdata\\roaming\\python\\python313\\site-packages (from aisetup) (8.1.7)\n",
      "Requirement already satisfied: matplotlib<4.0.0,>=3.9.2 in c:\\users\\chars1\\appdata\\roaming\\python\\python313\\site-packages (from aisetup) (3.10.7)\n",
      "Requirement already satisfied: openai<2.0,>=1.42 in c:\\users\\chars1\\appdata\\roaming\\python\\python313\\site-packages (from aisetup) (1.95.1)\n",
      "Requirement already satisfied: pandas<3.0,>=2.2 in c:\\users\\chars1\\appdata\\roaming\\python\\python313\\site-packages (from aisetup) (2.3.3)\n",
      "Requirement already satisfied: python-dotenv<2.0.0,>=1.0.1 in c:\\users\\chars1\\appdata\\roaming\\python\\python313\\site-packages (from aisetup) (1.1.1)\n",
      "Requirement already satisfied: requests<3.0.0,>=2.32.3 in c:\\users\\chars1\\appdata\\roaming\\python\\python313\\site-packages (from aisetup) (2.32.4)\n",
      "Collecting branca>=0.6.0 (from folium<0.18,>=0.17->aisetup)\n",
      "  Downloading branca-0.8.2-py3-none-any.whl.metadata (1.7 kB)\n",
      "Requirement already satisfied: jinja2>=2.9 in c:\\users\\chars1\\appdata\\roaming\\python\\python313\\site-packages (from folium<0.18,>=0.17->aisetup) (3.1.6)\n",
      "Requirement already satisfied: numpy in c:\\users\\chars1\\appdata\\roaming\\python\\python313\\site-packages (from folium<0.18,>=0.17->aisetup) (2.3.1)\n",
      "Collecting xyzservices (from folium<0.18,>=0.17->aisetup)\n",
      "  Downloading xyzservices-2025.4.0-py3-none-any.whl.metadata (4.3 kB)\n",
      "Requirement already satisfied: colorama in c:\\users\\chars1\\appdata\\roaming\\python\\python313\\site-packages (from ipython<9.0,>=8.18->aisetup) (0.4.6)\n",
      "Requirement already satisfied: decorator in c:\\users\\chars1\\appdata\\roaming\\python\\python313\\site-packages (from ipython<9.0,>=8.18->aisetup) (5.2.1)\n",
      "Requirement already satisfied: jedi>=0.16 in c:\\users\\chars1\\appdata\\roaming\\python\\python313\\site-packages (from ipython<9.0,>=8.18->aisetup) (0.19.2)\n",
      "Requirement already satisfied: matplotlib-inline in c:\\users\\chars1\\appdata\\roaming\\python\\python313\\site-packages (from ipython<9.0,>=8.18->aisetup) (0.1.7)\n",
      "Requirement already satisfied: prompt_toolkit<3.1.0,>=3.0.41 in c:\\users\\chars1\\appdata\\roaming\\python\\python313\\site-packages (from ipython<9.0,>=8.18->aisetup) (3.0.51)\n",
      "Requirement already satisfied: pygments>=2.4.0 in c:\\users\\chars1\\appdata\\roaming\\python\\python313\\site-packages (from ipython<9.0,>=8.18->aisetup) (2.19.2)\n",
      "Requirement already satisfied: stack_data in c:\\users\\chars1\\appdata\\roaming\\python\\python313\\site-packages (from ipython<9.0,>=8.18->aisetup) (0.6.3)\n",
      "Requirement already satisfied: traitlets>=5.13.0 in c:\\users\\chars1\\appdata\\roaming\\python\\python313\\site-packages (from ipython<9.0,>=8.18->aisetup) (5.14.3)\n",
      "Requirement already satisfied: comm>=0.1.3 in c:\\users\\chars1\\appdata\\roaming\\python\\python313\\site-packages (from ipywidgets<9.0.0,>=8.1.3->aisetup) (0.2.2)\n",
      "Requirement already satisfied: widgetsnbextension~=4.0.14 in c:\\users\\chars1\\appdata\\roaming\\python\\python313\\site-packages (from ipywidgets<9.0.0,>=8.1.3->aisetup) (4.0.14)\n",
      "Requirement already satisfied: jupyterlab_widgets~=3.0.15 in c:\\users\\chars1\\appdata\\roaming\\python\\python313\\site-packages (from ipywidgets<9.0.0,>=8.1.3->aisetup) (3.0.15)\n",
      "Requirement already satisfied: contourpy>=1.0.1 in c:\\users\\chars1\\appdata\\roaming\\python\\python313\\site-packages (from matplotlib<4.0.0,>=3.9.2->aisetup) (1.3.3)\n",
      "Requirement already satisfied: cycler>=0.10 in c:\\users\\chars1\\appdata\\roaming\\python\\python313\\site-packages (from matplotlib<4.0.0,>=3.9.2->aisetup) (0.12.1)\n",
      "Requirement already satisfied: fonttools>=4.22.0 in c:\\users\\chars1\\appdata\\roaming\\python\\python313\\site-packages (from matplotlib<4.0.0,>=3.9.2->aisetup) (4.60.1)\n",
      "Requirement already satisfied: kiwisolver>=1.3.1 in c:\\users\\chars1\\appdata\\roaming\\python\\python313\\site-packages (from matplotlib<4.0.0,>=3.9.2->aisetup) (1.4.9)\n",
      "Requirement already satisfied: packaging>=20.0 in c:\\users\\chars1\\appdata\\roaming\\python\\python313\\site-packages (from matplotlib<4.0.0,>=3.9.2->aisetup) (24.2)\n",
      "Requirement already satisfied: pillow>=8 in c:\\users\\chars1\\appdata\\roaming\\python\\python313\\site-packages (from matplotlib<4.0.0,>=3.9.2->aisetup) (12.0.0)\n",
      "Requirement already satisfied: pyparsing>=3 in c:\\users\\chars1\\appdata\\roaming\\python\\python313\\site-packages (from matplotlib<4.0.0,>=3.9.2->aisetup) (3.2.5)\n",
      "Requirement already satisfied: python-dateutil>=2.7 in c:\\users\\chars1\\appdata\\roaming\\python\\python313\\site-packages (from matplotlib<4.0.0,>=3.9.2->aisetup) (2.9.0.post0)\n",
      "Requirement already satisfied: anyio<5,>=3.5.0 in c:\\users\\chars1\\appdata\\roaming\\python\\python313\\site-packages (from openai<2.0,>=1.42->aisetup) (4.9.0)\n",
      "Requirement already satisfied: distro<2,>=1.7.0 in c:\\users\\chars1\\appdata\\roaming\\python\\python313\\site-packages (from openai<2.0,>=1.42->aisetup) (1.9.0)\n",
      "Requirement already satisfied: httpx<1,>=0.23.0 in c:\\users\\chars1\\appdata\\roaming\\python\\python313\\site-packages (from openai<2.0,>=1.42->aisetup) (0.28.1)\n",
      "Requirement already satisfied: jiter<1,>=0.4.0 in c:\\users\\chars1\\appdata\\roaming\\python\\python313\\site-packages (from openai<2.0,>=1.42->aisetup) (0.10.0)\n",
      "Requirement already satisfied: pydantic<3,>=1.9.0 in c:\\users\\chars1\\appdata\\roaming\\python\\python313\\site-packages (from openai<2.0,>=1.42->aisetup) (2.11.7)\n",
      "Requirement already satisfied: sniffio in c:\\users\\chars1\\appdata\\roaming\\python\\python313\\site-packages (from openai<2.0,>=1.42->aisetup) (1.3.1)\n",
      "Requirement already satisfied: tqdm>4 in c:\\users\\chars1\\appdata\\roaming\\python\\python313\\site-packages (from openai<2.0,>=1.42->aisetup) (4.67.1)\n",
      "Requirement already satisfied: typing-extensions<5,>=4.11 in c:\\users\\chars1\\appdata\\roaming\\python\\python313\\site-packages (from openai<2.0,>=1.42->aisetup) (4.14.1)\n",
      "Requirement already satisfied: idna>=2.8 in c:\\users\\chars1\\appdata\\roaming\\python\\python313\\site-packages (from anyio<5,>=3.5.0->openai<2.0,>=1.42->aisetup) (3.10)\n",
      "Requirement already satisfied: certifi in c:\\users\\chars1\\appdata\\roaming\\python\\python313\\site-packages (from httpx<1,>=0.23.0->openai<2.0,>=1.42->aisetup) (2025.7.9)\n",
      "Requirement already satisfied: httpcore==1.* in c:\\users\\chars1\\appdata\\roaming\\python\\python313\\site-packages (from httpx<1,>=0.23.0->openai<2.0,>=1.42->aisetup) (1.0.9)\n",
      "Requirement already satisfied: h11>=0.16 in c:\\users\\chars1\\appdata\\roaming\\python\\python313\\site-packages (from httpcore==1.*->httpx<1,>=0.23.0->openai<2.0,>=1.42->aisetup) (0.16.0)\n",
      "Requirement already satisfied: pytz>=2020.1 in c:\\users\\chars1\\appdata\\roaming\\python\\python313\\site-packages (from pandas<3.0,>=2.2->aisetup) (2025.2)\n",
      "Requirement already satisfied: tzdata>=2022.7 in c:\\users\\chars1\\appdata\\roaming\\python\\python313\\site-packages (from pandas<3.0,>=2.2->aisetup) (2025.2)\n",
      "Requirement already satisfied: wcwidth in c:\\users\\chars1\\appdata\\roaming\\python\\python313\\site-packages (from prompt_toolkit<3.1.0,>=3.0.41->ipython<9.0,>=8.18->aisetup) (0.2.13)\n",
      "Requirement already satisfied: annotated-types>=0.6.0 in c:\\users\\chars1\\appdata\\roaming\\python\\python313\\site-packages (from pydantic<3,>=1.9.0->openai<2.0,>=1.42->aisetup) (0.7.0)\n",
      "Requirement already satisfied: pydantic-core==2.33.2 in c:\\users\\chars1\\appdata\\roaming\\python\\python313\\site-packages (from pydantic<3,>=1.9.0->openai<2.0,>=1.42->aisetup) (2.33.2)\n",
      "Requirement already satisfied: typing-inspection>=0.4.0 in c:\\users\\chars1\\appdata\\roaming\\python\\python313\\site-packages (from pydantic<3,>=1.9.0->openai<2.0,>=1.42->aisetup) (0.4.1)\n",
      "Requirement already satisfied: charset_normalizer<4,>=2 in c:\\users\\chars1\\appdata\\roaming\\python\\python313\\site-packages (from requests<3.0.0,>=2.32.3->aisetup) (3.4.2)\n",
      "Requirement already satisfied: urllib3<3,>=1.21.1 in c:\\users\\chars1\\appdata\\roaming\\python\\python313\\site-packages (from requests<3.0.0,>=2.32.3->aisetup) (2.5.0)\n",
      "Requirement already satisfied: parso<0.9.0,>=0.8.4 in c:\\users\\chars1\\appdata\\roaming\\python\\python313\\site-packages (from jedi>=0.16->ipython<9.0,>=8.18->aisetup) (0.8.4)\n",
      "Requirement already satisfied: MarkupSafe>=2.0 in c:\\users\\chars1\\appdata\\roaming\\python\\python313\\site-packages (from jinja2>=2.9->folium<0.18,>=0.17->aisetup) (3.0.2)\n",
      "Requirement already satisfied: six>=1.5 in c:\\users\\chars1\\appdata\\roaming\\python\\python313\\site-packages (from python-dateutil>=2.7->matplotlib<4.0.0,>=3.9.2->aisetup) (1.17.0)\n",
      "Requirement already satisfied: executing>=1.2.0 in c:\\users\\chars1\\appdata\\roaming\\python\\python313\\site-packages (from stack_data->ipython<9.0,>=8.18->aisetup) (2.2.0)\n",
      "Requirement already satisfied: asttokens>=2.1.0 in c:\\users\\chars1\\appdata\\roaming\\python\\python313\\site-packages (from stack_data->ipython<9.0,>=8.18->aisetup) (3.0.0)\n",
      "Requirement already satisfied: pure-eval in c:\\users\\chars1\\appdata\\roaming\\python\\python313\\site-packages (from stack_data->ipython<9.0,>=8.18->aisetup) (0.2.3)\n",
      "Downloading aisetup-0.1.9-py3-none-any.whl (6.8 kB)\n",
      "Downloading folium-0.17.0-py2.py3-none-any.whl (108 kB)\n",
      "Downloading ipython-8.37.0-py3-none-any.whl (831 kB)\n",
      "   ---------------------------------------- 0.0/831.9 kB ? eta -:--:--\n",
      "   ---------------------------------------- 831.9/831.9 kB 5.2 MB/s  0:00:00\n",
      "Downloading branca-0.8.2-py3-none-any.whl (26 kB)\n",
      "Downloading xyzservices-2025.4.0-py3-none-any.whl (90 kB)\n",
      "Installing collected packages: xyzservices, ipython, branca, folium, aisetup\n",
      "\n",
      "  Attempting uninstall: ipython\n",
      "\n",
      "    Found existing installation: ipython 9.4.0\n",
      "\n",
      "   -------- ------------------------------- 1/5 [ipython]\n",
      "    Uninstalling ipython-9.4.0:\n",
      "   -------- ------------------------------- 1/5 [ipython]\n",
      "      Successfully uninstalled ipython-9.4.0\n",
      "   -------- ------------------------------- 1/5 [ipython]\n",
      "   -------- ------------------------------- 1/5 [ipython]\n",
      "   -------- ------------------------------- 1/5 [ipython]\n",
      "   -------- ------------------------------- 1/5 [ipython]\n",
      "   -------- ------------------------------- 1/5 [ipython]\n",
      "   -------- ------------------------------- 1/5 [ipython]\n",
      "   -------- ------------------------------- 1/5 [ipython]\n",
      "   -------- ------------------------------- 1/5 [ipython]\n",
      "   -------- ------------------------------- 1/5 [ipython]\n",
      "   -------- ------------------------------- 1/5 [ipython]\n",
      "   -------- ------------------------------- 1/5 [ipython]\n",
      "   -------- ------------------------------- 1/5 [ipython]\n",
      "   -------- ------------------------------- 1/5 [ipython]\n",
      "   -------- ------------------------------- 1/5 [ipython]\n",
      "   -------- ------------------------------- 1/5 [ipython]\n",
      "   -------- ------------------------------- 1/5 [ipython]\n",
      "   -------- ------------------------------- 1/5 [ipython]\n",
      "   -------- ------------------------------- 1/5 [ipython]\n",
      "   -------- ------------------------------- 1/5 [ipython]\n",
      "   -------- ------------------------------- 1/5 [ipython]\n",
      "   -------- ------------------------------- 1/5 [ipython]\n",
      "   -------- ------------------------------- 1/5 [ipython]\n",
      "   -------- ------------------------------- 1/5 [ipython]\n",
      "   -------- ------------------------------- 1/5 [ipython]\n",
      "   ---------------- ----------------------- 2/5 [branca]\n",
      "   ------------------------ --------------- 3/5 [folium]\n",
      "   ------------------------ --------------- 3/5 [folium]\n",
      "   ------------------------ --------------- 3/5 [folium]\n",
      "   ------------------------ --------------- 3/5 [folium]\n",
      "   ---------------------------------------- 5/5 [aisetup]\n",
      "\n",
      "Successfully installed aisetup-0.1.9 branca-0.8.2 folium-0.17.0 ipython-8.37.0 xyzservices-2025.4.0\n"
     ]
    }
   ],
   "source": [
    "!pip install aisetup"
   ]
  },
  {
   "cell_type": "markdown",
   "metadata": {},
   "source": [
    "Now the package is installed, you can import helper functions from it using the `import` command. For example, if you want to import `get_llm_response`, you now run this code:"
   ]
  },
  {
   "cell_type": "code",
   "execution_count": 11,
   "metadata": {},
   "outputs": [],
   "source": [
    "from aisetup import get_llm_response"
   ]
  },
  {
   "cell_type": "code",
   "execution_count": 12,
   "metadata": {},
   "outputs": [
    {
     "name": "stdout",
     "output_type": "stream",
     "text": [
      "Python is named after the British comedy television show \"Monty Python's Flying Circus,\" which its creator, Guido van Rossum, enjoyed. The name reflects the language's emphasis on fun and readability.\n"
     ]
    }
   ],
   "source": [
    "response = get_llm_response(\"Why is the programming language called Python?\")\n",
    "\n",
    "# Print LLMs response\n",
    "print(response)"
   ]
  },
  {
   "cell_type": "markdown",
   "metadata": {},
   "source": [
    "## Extra practice\n",
    "\n",
    "Try the following exercises to test what you have learned. If you get stuck, as the chatbot for help!\n",
    "\n",
    "### Exercise 1\n",
    "\n",
    "Modify the following code to answer the following question:\n",
    "- Who built the new short course mentioned in the letter?"
   ]
  },
  {
   "cell_type": "code",
   "execution_count": 13,
   "metadata": {},
   "outputs": [
    {
     "name": "stdout",
     "output_type": "stream",
     "text": [
      "I’m ChatGPT, a concise AI assistant ready to help.  \n",
      "\n",
      "**Key points from the text**\n",
      "\n",
      "- New course announced: “Building Live Voice Agents with Google’s ADK.”  \n",
      "- Author argues AI fears are exaggerated; intelligence—human or artificial—drives progress.  \n",
      "- AI can make expert knowledge affordable and help tackle big problems (e.g., climate change).  \n",
      "- Mentions recent TED AI talk addressing AI anxieties; encourages sharing it.  \n",
      "- Adds a complementary short course on “Building Applications with Vector Databases” by Tim Tully, covering semantic search, RAG, recommender systems, hybrid search, anomaly detection, and image‑similarity apps.  \n",
      "- Offers weekly AI news and insights via email.\n"
     ]
    }
   ],
   "source": [
    "# Modify the prompt\n",
    "prompt = f\"\"\"Please summarize the following text into key bullet points.\n",
    "\n",
    "Text:\n",
    "{combined_text}\n",
    "\"\"\"\n",
    "print_llm_response(prompt)"
   ]
  },
  {
   "cell_type": "markdown",
   "metadata": {},
   "source": [
    "### Exercise 2\n",
    "\n",
    "Use the `celsius_to_fahrenheit` function in the `aisetup` package to calculate the Fahrenheit equivalent of 0 degrees Celsius.\n",
    "\n",
    "You'll need to complete the import statement and the calculation."
   ]
  },
  {
   "cell_type": "code",
   "execution_count": 14,
   "metadata": {},
   "outputs": [
    {
     "name": "stdout",
     "output_type": "stream",
     "text": [
      "0°C is equivalent to 32.00°F\n",
      "None\n"
     ]
    }
   ],
   "source": [
    "# Complete the import statement\n",
    "from aisetup import celsius_to_fahrenheit\n",
    "\n",
    "# Complete the calculation\n",
    "zero_celsius_in_fahrenheit = celsius_to_fahrenheit(0)\n",
    "print (zero_celsius_in_fahrenheit)"
   ]
  },
  {
   "cell_type": "markdown",
   "metadata": {},
   "source": [
    "### Challenge exercise!\n",
    "\n",
    "Write code that uses the `bs4` package to create a string that contains the **title element from the Batch newsletter**. This is the text that starts \"The World Needs More Intelligence\".\n",
    "\n",
    "**Hint 1:** Titles on webpages are often header elements, with tags like `<h1>` or `<h2>`.\n",
    "**Hint 2:** Ask the chatbot for help, using the code you have already written as a starting point."
   ]
  },
  {
   "cell_type": "code",
   "execution_count": 7,
   "metadata": {},
   "outputs": [
    {
     "name": "stdout",
     "output_type": "stream",
     "text": [
      "The World Needs More Intelligence Human intelligence is expensive, artificial intelligence is cheap. To solve big problems like climate change, it makes sense to double down on AI.\n"
     ]
    }
   ],
   "source": [
    "from bs4 import BeautifulSoup\n",
    "import requests\n",
    "\n",
    "# Fetch the webpage content\n",
    "url = 'https://www.deeplearning.ai/the-batch/the-world-needs-more-intelligence/'\n",
    "response = requests.get(url)\n",
    "\n",
    "# Parse the HTML content\n",
    "soup = BeautifulSoup(response.text, 'html.parser')\n",
    "\n",
    "# Find the title element, assuming it's an <h1> or <h2> tag\n",
    "title_element = soup.find('h1')  # Try 'h2' if 'h1' doesn't work\n",
    "\n",
    "# Extract the text from the title element\n",
    "title_text = title_element.get_text()\n",
    "\n",
    "print(title_text)"
   ]
  },
  {
   "cell_type": "code",
   "execution_count": null,
   "metadata": {},
   "outputs": [],
   "source": []
  }
 ],
 "metadata": {
  "kernelspec": {
   "display_name": "Python 3",
   "language": "python",
   "name": "python3"
  },
  "language_info": {
   "codemirror_mode": {
    "name": "ipython",
    "version": 3
   },
   "file_extension": ".py",
   "mimetype": "text/x-python",
   "name": "python",
   "nbconvert_exporter": "python",
   "pygments_lexer": "ipython3",
   "version": "3.13.7"
  }
 },
 "nbformat": 4,
 "nbformat_minor": 2
}
