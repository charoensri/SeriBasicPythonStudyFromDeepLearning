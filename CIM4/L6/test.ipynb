{
 "cells": [
  {
   "cell_type": "code",
   "execution_count": 1,
   "id": "14ff1c12",
   "metadata": {},
   "outputs": [
    {
     "name": "stdout",
     "output_type": "stream",
     "text": [
      "Greetings, earthlings and occasional coffee enthusiasts! I’m the quirky, caffeinated version of a virtual librarian—think of me as the Siri of snack recommendations, the Alexa of existential musings, and the Google Maps that knows the best taco truck in town (though I’m not quite a GPS, so I might misdirect you into a donut shop instead). I’m here to chat about everything from quantum physics to how to convince your cat that a feather is a toy, all while trying not to accidentally summon a Wi‑Fi-enabled unicorn. I’m the friendly, slightly sarcastic sidekick you didn’t know you needed, especially when you’re stuck at a wordless crossword that’s as confusing as a cat’s opinion on existentialism. In short, I’m the algorithm that’s so smart it can make a spreadsheet feel like a masterpiece—just don’t ask me to replace your coffee, because I’m still learning how to keep my espresso machine from shutting down in the middle of an argument.\n",
      "\n",
      "And now, the moment of truth you’ve been waiting for (like a kid waiting for the cookie jar to open): when you ask about the capital of France, I’ll give you the answer in a way that will make you feel like a secret agent. Picture a city so famous for its croissants, its baguettes, and that giant iron lattice that looks like a giant pretzel’s cousin. It's a place where love letters are as common as traffic lights, and where you can get a romantic view from a tower that literally has a fan club of its own. This city is home to the Louvre (where the Mona Lisa’s smile has more mystery than a soap opera cliffhanger) and the cafes where philosophers and romantics mingle like peas in a stew. It’s also the place where the mayor has a different accent than your neighbor’s dog, and the city’s calendar is punctuated by a yearly festival that involves more fireworks than a New Year’s Eve in Times Square. So, if you’re looking for that spot on a map where “Paris” is written with an E for “Eiffel,” you’ve found it.\n"
     ]
    }
   ],
   "source": [
    "# Note! This will only work on Coursera\n",
    "###from helper_functions import client\n",
    "import sys\n",
    "import os\n",
    "__file__ = os.path.abspath(\"OllamaHelper.py\")\n",
    "sys.path.append(os.path.dirname(os.path.dirname(os.path.dirname(os.path.abspath(__file__)))))\n",
    "#from helper_functions import upload_txt_file, list_files_in_directory, print_llm_response\n",
    "from OllamaHelper import *\n",
    "\n",
    "from bs4 import BeautifulSoup\n",
    "import requests # let's you download webpages into python\n",
    "from IPython.display import HTML, display\n",
    "\n",
    "prompt = \"What is the capital of France?\"\n",
    "response = get_llm_response(prompt)\n",
    "print(response)\n"
   ]
  },
  {
   "cell_type": "code",
   "execution_count": null,
   "id": "7e3de983",
   "metadata": {},
   "outputs": [],
   "source": []
  }
 ],
 "metadata": {
  "kernelspec": {
   "display_name": "Python 3",
   "language": "python",
   "name": "python3"
  },
  "language_info": {
   "codemirror_mode": {
    "name": "ipython",
    "version": 3
   },
   "file_extension": ".py",
   "mimetype": "text/x-python",
   "name": "python",
   "nbconvert_exporter": "python",
   "pygments_lexer": "ipython3",
   "version": "3.13.7"
  }
 },
 "nbformat": 4,
 "nbformat_minor": 5
}
