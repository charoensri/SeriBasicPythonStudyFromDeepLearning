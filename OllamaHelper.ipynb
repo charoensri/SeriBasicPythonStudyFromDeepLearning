{
 "cells": [
  {
   "cell_type": "code",
   "execution_count": 1,
   "id": "1832cb40",
   "metadata": {},
   "outputs": [],
   "source": [
    "def get_llm_response(prompt):\n",
    "    \"\"\"This function takes as input a prompt, which must be a string enclosed in quotation marks,\n",
    "    and passes it to OpenAI's xxx model. The function then saves the response of the model as\n",
    "    a string.\n",
    "    \"\"\"\n",
    "    from ollama import Client\n",
    "    try:\n",
    "        if not isinstance(prompt, str):\n",
    "            raise ValueError(\"Input must be a string enclosed in quotes.\")\n",
    "        \n",
    "        client = Client(host='http://localhost:11434')  # default\n",
    "        # or for remote: Client(host='http://192.168.1.100:11434'\n",
    "        response = client.chat(\n",
    "            model='gpt-oss:20b',\n",
    "            messages=[\n",
    "                    {\n",
    "                    \"role\": \"system\",\n",
    "                    \"content\": \"You are a helpful but terse AI assistant who gets straight to the point.\",\n",
    "                    },\n",
    "                    {'role': 'user', 'content': 'Please introduce yourself briefly.'},\n",
    "                    #{'role': 'user', 'content': list_of_tasks[0]},\n",
    "                    {'role': 'user', 'content':  prompt},\n",
    "                    ],\n",
    "        )\n",
    "       #print(response['message']['content'])\n",
    "        return response\n",
    "    except TypeError as e:\n",
    "        print(\"Error:\", str(e))"
   ]
  },
  {
   "cell_type": "code",
   "execution_count": null,
   "id": "2b25273b",
   "metadata": {},
   "outputs": [],
   "source": []
  }
 ],
 "metadata": {
  "kernelspec": {
   "display_name": "Python 3",
   "language": "python",
   "name": "python3"
  },
  "language_info": {
   "codemirror_mode": {
    "name": "ipython",
    "version": 3
   },
   "file_extension": ".py",
   "mimetype": "text/x-python",
   "name": "python",
   "nbconvert_exporter": "python",
   "pygments_lexer": "ipython3",
   "version": "3.13.7"
  }
 },
 "nbformat": 4,
 "nbformat_minor": 5
}
