{
 "cells": [
  {
   "cell_type": "code",
   "execution_count": 1,
   "id": "03b356cc",
   "metadata": {},
   "outputs": [],
   "source": [
    "from OllamaHelper import print_llm_response, get_llm_response"
   ]
  },
  {
   "cell_type": "code",
   "execution_count": 2,
   "id": "01b79a7d",
   "metadata": {},
   "outputs": [],
   "source": [
    "food_preferences_tommy = {\n",
    "    #\"dietary_restrictions\": \"vegetarian\",\n",
    "    \"favorite_ingredients\": [\"mushrooms\", \"olives\"],\n",
    "    \"experience_level\": \"intermediate\",\n",
    "    \"maximum_spice_level\": 6\n",
    "}"
   ]
  },
  {
   "cell_type": "code",
   "execution_count": 3,
   "id": "3889c7ee",
   "metadata": {},
   "outputs": [],
   "source": [
    "food_preferences_tommy[\"is_vegetarian\"] = True"
   ]
  },
  {
   "cell_type": "code",
   "execution_count": 4,
   "id": "1caf2e6b",
   "metadata": {},
   "outputs": [
    {
     "name": "stdout",
     "output_type": "stream",
     "text": [
      "{'favorite_ingredients': ['mushrooms', 'olives'], 'experience_level': 'intermediate', 'maximum_spice_level': 6, 'is_vegetarian': True}\n"
     ]
    }
   ],
   "source": [
    "print(food_preferences_tommy)"
   ]
  },
  {
   "cell_type": "code",
   "execution_count": 5,
   "id": "224469c7",
   "metadata": {},
   "outputs": [
    {
     "name": "stdout",
     "output_type": "stream",
     "text": [
      "True\n",
      "False\n"
     ]
    }
   ],
   "source": [
    "print(True)\n",
    "print(False)"
   ]
  },
  {
   "cell_type": "code",
   "execution_count": 7,
   "id": "149a06b5",
   "metadata": {},
   "outputs": [
    {
     "data": {
      "text/plain": [
       "bool"
      ]
     },
     "execution_count": 7,
     "metadata": {},
     "output_type": "execute_result"
    }
   ],
   "source": [
    "type(True)\n"
   ]
  },
  {
   "cell_type": "code",
   "execution_count": 8,
   "id": "0609e1a3",
   "metadata": {},
   "outputs": [],
   "source": [
    "is_tommy_my_friend = True"
   ]
  },
  {
   "cell_type": "code",
   "execution_count": 9,
   "id": "04818a3c",
   "metadata": {},
   "outputs": [],
   "source": [
    "is_isabel_older_than_me = False\n"
   ]
  },
  {
   "cell_type": "code",
   "execution_count": 10,
   "id": "cd34a7dc",
   "metadata": {},
   "outputs": [
    {
     "name": "stdout",
     "output_type": "stream",
     "text": [
      "True\n"
     ]
    }
   ],
   "source": [
    "print(is_tommy_my_friend)"
   ]
  },
  {
   "cell_type": "code",
   "execution_count": 11,
   "id": "3a499acb",
   "metadata": {},
   "outputs": [
    {
     "name": "stdout",
     "output_type": "stream",
     "text": [
      "False\n"
     ]
    }
   ],
   "source": [
    "print(is_isabel_older_than_me)\n"
   ]
  },
  {
   "cell_type": "code",
   "execution_count": 12,
   "id": "077ae5d2",
   "metadata": {},
   "outputs": [
    {
     "data": {
      "text/plain": [
       "bool"
      ]
     },
     "execution_count": 12,
     "metadata": {},
     "output_type": "execute_result"
    }
   ],
   "source": [
    "type(is_isabel_older_than_me)"
   ]
  },
  {
   "cell_type": "code",
   "execution_count": 13,
   "id": "eee96a80",
   "metadata": {},
   "outputs": [],
   "source": [
    "isabel_age = 28\n",
    "daniel_age = 30\n",
    "tommy_age = 30"
   ]
  },
  {
   "cell_type": "code",
   "execution_count": 14,
   "id": "935c8a17",
   "metadata": {},
   "outputs": [
    {
     "name": "stdout",
     "output_type": "stream",
     "text": [
      "False\n"
     ]
    }
   ],
   "source": [
    "print(isabel_age > daniel_age)   "
   ]
  },
  {
   "cell_type": "code",
   "execution_count": 15,
   "id": "a1287bef",
   "metadata": {},
   "outputs": [
    {
     "name": "stdout",
     "output_type": "stream",
     "text": [
      "False\n"
     ]
    }
   ],
   "source": [
    "is_isabel_older_than_daniel = isabel_age > daniel_age\n",
    "print(is_isabel_older_than_daniel)"
   ]
  },
  {
   "cell_type": "code",
   "execution_count": 16,
   "id": "76b46047",
   "metadata": {},
   "outputs": [
    {
     "name": "stdout",
     "output_type": "stream",
     "text": [
      "True\n"
     ]
    }
   ],
   "source": [
    "print(isabel_age <= daniel_age)"
   ]
  },
  {
   "cell_type": "code",
   "execution_count": 17,
   "id": "bbd0f333",
   "metadata": {},
   "outputs": [
    {
     "name": "stdout",
     "output_type": "stream",
     "text": [
      "True\n"
     ]
    }
   ],
   "source": [
    "print(tommy_age <= daniel_age)"
   ]
  },
  {
   "cell_type": "code",
   "execution_count": 18,
   "id": "7759c515",
   "metadata": {},
   "outputs": [
    {
     "name": "stdout",
     "output_type": "stream",
     "text": [
      "False\n"
     ]
    }
   ],
   "source": [
    "print(tommy_age < daniel_age)"
   ]
  },
  {
   "cell_type": "code",
   "execution_count": 19,
   "id": "fc4e3c0f",
   "metadata": {},
   "outputs": [
    {
     "name": "stdout",
     "output_type": "stream",
     "text": [
      "True\n"
     ]
    }
   ],
   "source": [
    "print(tommy_age == daniel_age)"
   ]
  },
  {
   "cell_type": "code",
   "execution_count": 20,
   "id": "398a3fe6",
   "metadata": {},
   "outputs": [
    {
     "name": "stdout",
     "output_type": "stream",
     "text": [
      "False\n"
     ]
    }
   ],
   "source": [
    "#strings\n",
    "print(\"vegetarian\" == \"vegan\")"
   ]
  },
  {
   "cell_type": "code",
   "execution_count": null,
   "id": "35522187",
   "metadata": {},
   "outputs": [
    {
     "name": "stdout",
     "output_type": "stream",
     "text": [
      "True\n",
      "False\n"
     ]
    }
   ],
   "source": [
    "#strings\n",
    "print(\"vegetarian\" == \"vegetarian\")\n",
    "print(\"vegetarian\" == \"Vegetarian\") #False because of case sensitivity"
   ]
  },
  {
   "cell_type": "code",
   "execution_count": 24,
   "id": "50baeece",
   "metadata": {},
   "outputs": [],
   "source": [
    "is_isabel_younger_than_tommy = isabel_age < tommy_age\n",
    "is_isabel_younger_than_daniel = isabel_age < daniel_age"
   ]
  },
  {
   "cell_type": "code",
   "execution_count": 25,
   "id": "700555f9",
   "metadata": {},
   "outputs": [
    {
     "name": "stdout",
     "output_type": "stream",
     "text": [
      "True\n"
     ]
    }
   ],
   "source": [
    "print(is_isabel_younger_than_tommy and is_isabel_younger_than_daniel)"
   ]
  },
  {
   "cell_type": "code",
   "execution_count": null,
   "id": "1e951638",
   "metadata": {},
   "outputs": [],
   "source": [
    "# Check whether Isabel is older\n",
    "# than at least one of my friends (Tommy and Daniel)\n",
    "\n",
    "### EDIT THE FOLLOWING CODE ###\n",
    "# Hint: Replace the \"?\" with the correct comparison operator\n",
    "is_isabel_older_than_tommy = isabel_age > tommy_age\n",
    "is_isabel_older_than_daniel = isabel_age > daniel_age\n",
    "### --------------- ###\n",
    "\n",
    "### EDIT THE FOLLOWING CODE ###\n",
    "#Hint: Recall the logical operators \"and\" and \"or\" \n",
    "print(\"Check if Isabel is older than at least one of my friends\")\n",
    "### --------------- ###"
   ]
  },
  {
   "cell_type": "code",
   "execution_count": 27,
   "id": "a133d43b",
   "metadata": {},
   "outputs": [
    {
     "name": "stdout",
     "output_type": "stream",
     "text": [
      "True\n",
      "True\n"
     ]
    }
   ],
   "source": [
    "is_tommy_my_friend = True\n",
    "is_isabel_my_friend = True\n",
    "print(is_tommy_my_friend and is_isabel_my_friend)\n",
    "print(is_tommy_my_friend or is_isabel_my_friend)"
   ]
  },
  {
   "cell_type": "code",
   "execution_count": 29,
   "id": "b89c73b5",
   "metadata": {},
   "outputs": [
    {
     "name": "stdout",
     "output_type": "stream",
     "text": [
      "True\n"
     ]
    }
   ],
   "source": [
    "isabel_age = 28\n",
    "daniel_age = 30\n",
    "tommy_age = 30\n",
    "is_isabel_younger_than_tommy = isabel_age < tommy_age\n",
    "is_isabel_younger_than_daniel = isabel_age < daniel_age\n",
    "print(is_isabel_younger_than_tommy and is_isabel_younger_than_daniel)\n",
    "\n"
   ]
  },
  {
   "cell_type": "code",
   "execution_count": null,
   "id": "d0aac086",
   "metadata": {},
   "outputs": [],
   "source": []
  }
 ],
 "metadata": {
  "kernelspec": {
   "display_name": "Python 3",
   "language": "python",
   "name": "python3"
  },
  "language_info": {
   "codemirror_mode": {
    "name": "ipython",
    "version": 3
   },
   "file_extension": ".py",
   "mimetype": "text/x-python",
   "name": "python",
   "nbconvert_exporter": "python",
   "pygments_lexer": "ipython3",
   "version": "3.13.7"
  }
 },
 "nbformat": 4,
 "nbformat_minor": 5
}
