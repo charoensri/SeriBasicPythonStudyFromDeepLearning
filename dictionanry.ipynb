{
 "cells": [
  {
   "cell_type": "code",
   "execution_count": null,
   "id": "266486c5",
   "metadata": {},
   "outputs": [],
   "source": [
    "from OllamaHelper import get_llm_response, print_llm_response        \n"
   ]
  },
  {
   "cell_type": "code",
   "execution_count": 7,
   "id": "9e1a7946",
   "metadata": {},
   "outputs": [],
   "source": [
    "ice_cream_flavorsX = {\n",
    "    \"Mint Chocolate Chip\": \"Refreshing mint ice cream studded with decadent chocolate chips.\",\n",
    "    \"Cookie Dough\": \"Vanilla ice cream loaded with chunks of chocolate chip cookie dough.\",\n",
    "    \"Salted Caramel\": \"Sweet and salty with a smooth caramel swirl and a hint of sea salt.\",\n",
    "    \"SeriKey\": \"SeriKeyValue.\",\n",
    "}   "
   ]
  },
  {
   "cell_type": "code",
   "execution_count": 8,
   "id": "22f2c51b",
   "metadata": {},
   "outputs": [
    {
     "name": "stdout",
     "output_type": "stream",
     "text": [
      "dict_keys(['Mint Chocolate Chip', 'Cookie Dough', 'Salted Caramel', 'SeriKey'])\n"
     ]
    }
   ],
   "source": [
    "print(ice_cream_flavorsX.keys())"
   ]
  },
  {
   "cell_type": "code",
   "execution_count": 9,
   "id": "10e88341",
   "metadata": {},
   "outputs": [
    {
     "name": "stdout",
     "output_type": "stream",
     "text": [
      "dict_values(['Refreshing mint ice cream studded with decadent chocolate chips.', 'Vanilla ice cream loaded with chunks of chocolate chip cookie dough.', 'Sweet and salty with a smooth caramel swirl and a hint of sea salt.', 'SeriKeyValue.'])\n"
     ]
    }
   ],
   "source": [
    "print(ice_cream_flavorsX.values())"
   ]
  },
  {
   "cell_type": "code",
   "execution_count": 10,
   "id": "6115576b",
   "metadata": {},
   "outputs": [
    {
     "name": "stdout",
     "output_type": "stream",
     "text": [
      "{'age': 28, 'Favorite color': 'red'}\n"
     ]
    }
   ],
   "source": [
    "isabel_facts = {\n",
    "    \"age\": 28,\n",
    "    \"Favorite color\": \"red\"\n",
    "}\n",
    "print(isabel_facts)"
   ]
  },
  {
   "cell_type": "code",
   "execution_count": 12,
   "id": "b08d1d1c",
   "metadata": {},
   "outputs": [
    {
     "name": "stdout",
     "output_type": "stream",
     "text": [
      "{'age': 28, 'Favorite color': 'red', 'Cat names': ['Charlie', 'Smokey', 'Tabitha']}\n"
     ]
    }
   ],
   "source": [
    "isabel_facts[\"Cat names\"] = [\"Charlie\", \"Smokey\", \"Tabitha\"]\n",
    "print(isabel_facts)"
   ]
  },
  {
   "cell_type": "code",
   "execution_count": 14,
   "id": "473f22d1",
   "metadata": {},
   "outputs": [
    {
     "name": "stdout",
     "output_type": "stream",
     "text": [
      "{'age': 28, 'Favorite color': 'red', 'Cat names': ['Charlie', 'Smokey', 'Tabitha'], 'Favorite Snacks': ['pineapple cake', 'candy']}\n"
     ]
    }
   ],
   "source": [
    "isabel_facts[\"Favorite Snacks\"] = [\"pineapple cake\",\"candy\"]\n",
    "print(isabel_facts)"
   ]
  },
  {
   "cell_type": "code",
   "execution_count": 15,
   "id": "377709af",
   "metadata": {},
   "outputs": [],
   "source": [
    "#instead of that unorganized large list, divide tasks by priority\n",
    "high_priority_tasks = [\n",
    "    \"Compose a brief email to my boss explaining that I will be late for tomorrow's meeting.\",\n",
    "    \"Create an outline for a presentation on the benefits of remote work.\"\n",
    "]\n",
    "\n",
    "medium_priority_tasks = [\n",
    "    \"Write a birthday poem for Otto, celebrating his 28th birthday.\",\n",
    "    \"Draft a thank-you note for my neighbor Dapinder who helped water my plants while I was on vacation.\"\n",
    "]\n",
    "\n",
    "low_priority_tasks = [\n",
    "    \"Write a 300-word review of the movie 'The Arrival'.\"\n",
    "]"
   ]
  },
  {
   "cell_type": "code",
   "execution_count": 20,
   "id": "e873ed24",
   "metadata": {},
   "outputs": [
    {
     "name": "stdout",
     "output_type": "stream",
     "text": [
      "['Write a birthday poem for Otto, celebrating his 28th birthday.', 'Draft a thank-you note for my neighbor Dapinder who helped water my plants while I was on vacation.']\n"
     ]
    }
   ],
   "source": [
    "#create dictionary with all tasks\n",
    "#dictionaries can contain lists!\n",
    "prioritized_tasks = {\n",
    "    \"high_priority\": high_priority_tasks,\n",
    "    \"medium_priority\": medium_priority_tasks,\n",
    "    \"low_priority\": low_priority_tasks\n",
    "}\n",
    "#print(prioritized_tasks)\n",
    "print(prioritized_tasks[\"medium_priority\"])  # Accessing first medium priority task\n"
   ]
  },
  {
   "cell_type": "code",
   "execution_count": 23,
   "id": "063aef92",
   "metadata": {},
   "outputs": [
    {
     "data": {
      "text/plain": [
       "'I’m ChatGPT, a language model trained by OpenAI.  \\nRocky Road: chocolate‑flavored ice cream studded with marshmallows and almonds.'"
      ]
     },
     "execution_count": 23,
     "metadata": {},
     "output_type": "execute_result"
    }
   ],
   "source": [
    "# Update the description for the \n",
    "# Rocky Road flavor using get_llm_response()\n",
    "\n",
    "flavor = \"Rocky Road\" \n",
    "prompt = f\"Provide a brief description for the {flavor} ice cream flavor\"\n",
    "\n",
    "### EDIT THE FOLLOWING CODE ###\n",
    "ice_cream_flavors[\"Rocky Road\"] = prompt\n",
    "get_llm_response(ice_cream_flavors[\"Rocky Road\"])\n",
    "### --------------- ###"
   ]
  },
  {
   "cell_type": "code",
   "execution_count": 24,
   "id": "828a24d0",
   "metadata": {},
   "outputs": [
    {
     "name": "stdout",
     "output_type": "stream",
     "text": [
      "I’m ChatGPT, your quick‑and‑friendly AI helper.\n",
      "\n",
      "**Birthday Poem for Otto (28th Birthday)**  \n",
      "A year older, a year wiser,  \n",
      "Otto, today’s your shining hour.  \n",
      "Twenty‑eight candles blaze with cheer,  \n",
      "May laughter and joy follow you near.  \n",
      "\n",
      "New adventures on the horizon call,  \n",
      "With courage, dreams, and goals that enthrall.  \n",
      "Celebrate, dance, and let your spirit soar—  \n",
      "Happy 28th, Otto, cheers forevermore!\n",
      "I’m ChatGPT, a language model trained by OpenAI to assist with writing, questions, and more.\n",
      "\n",
      "**Thank‑you note**\n",
      "\n",
      "Dear Dapinder,\n",
      "\n",
      "Thank you for watering my plants while I was on vacation. Your help made my trip worry‑free. I appreciate your kindness and would be happy to return the favor anytime.\n",
      "\n",
      "Best,  \n",
      "[Your Name]\n"
     ]
    }
   ],
   "source": [
    "# Complete the medium priority tasks\n",
    "# by modifying the following code\n",
    "\n",
    "### EDIT THE FOLLOWING CODE ###\n",
    "for task in prioritized_tasks[\"medium_priority\"]:\n",
    "    print_llm_response(task)\n",
    "### --------------- ###"
   ]
  }
 ],
 "metadata": {
  "kernelspec": {
   "display_name": "Python 3",
   "language": "python",
   "name": "python3"
  },
  "language_info": {
   "codemirror_mode": {
    "name": "ipython",
    "version": 3
   },
   "file_extension": ".py",
   "mimetype": "text/x-python",
   "name": "python",
   "nbconvert_exporter": "python",
   "pygments_lexer": "ipython3",
   "version": "3.13.7"
  }
 },
 "nbformat": 4,
 "nbformat_minor": 5
}
