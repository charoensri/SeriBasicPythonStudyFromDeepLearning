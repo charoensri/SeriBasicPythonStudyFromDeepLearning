{
 "cells": [
  {
   "cell_type": "code",
   "execution_count": null,
   "id": "c34636ce",
   "metadata": {},
   "outputs": [],
   "source": [
    "from openai import AzureOpenAI, DefaultHttpxClient"
   ]
  },
  {
   "cell_type": "code",
   "execution_count": null,
   "id": "c20bc924",
   "metadata": {
    "lines_to_next_cell": 1
   },
   "outputs": [],
   "source": [
    "client = AzureOpenAI(\n",
    "    api_key=\"abcdefg\",\n",
    "    api_version=\"2024-02-01\",\n",
    "    azure_endpoint = \"https://cour-external-playground.openai.azure.com/\",\n",
    "    http_client=DefaultHttpxClient(verify=False)\n",
    "    )"
   ]
  },
  {
   "cell_type": "code",
   "execution_count": null,
   "id": "e1cfdca4",
   "metadata": {},
   "outputs": [],
   "source": [
    "\n",
    "# ### If you want to use your own OpenAI key, uncomment these cells below and comment out the other get_llm_response function cells:\n",
    "\n",
    "# from openai import OpenAI\n",
    "\n",
    "# ### Add your key as a string\n",
    "# openai_api_key = \"Add your key in here\"\n",
    "\n",
    "# # Set up the OpenAI client\n",
    "# client = OpenAI(api_key=openai_api_key)\n",
    "\n",
    "# def get_llm_response(prompt):\n",
    "#     \"\"\"This function takes as input a prompt, which must be a string enclosed in quotation marks,\n",
    "#     and passes it to OpenAI's GPT3.5 model. The function then saves the response of the model as\n",
    "#     a string.\n",
    "#     \"\"\"\n",
    "#     try:\n",
    "#         if not isinstance(prompt, str):\n",
    "#             raise ValueError(\"Input must be a string enclosed in quotes.\")\n",
    "#         completion = client.chat.completions.create(\n",
    "#             model=\"gpt-3.5-turbo-0125\",\n",
    "#             messages=[\n",
    "#                 {\n",
    "#                     \"role\": \"system\",\n",
    "#                     \"content\": \"You are a helpful but terse AI assistant who gets straight to the point.\",\n",
    "#                 },\n",
    "#                 {\"role\": \"user\", \"content\": prompt},\n",
    "#             ],\n",
    "#             temperature=0.0,\n",
    "#         )\n",
    "#         response = completion.choices[0].message.content\n",
    "#         return response\n",
    "#     except TypeError as e:\n",
    "#         print(\"Error:\", str(e))\n"
   ]
  },
  {
   "cell_type": "code",
   "execution_count": null,
   "id": "b460a34d",
   "metadata": {
    "lines_to_next_cell": 1
   },
   "outputs": [],
   "source": [
    "def get_llm_response(prompt):\n",
    "    \"\"\"This function takes as input a prompt, which must be a string enclosed in quotation marks,\n",
    "    and passes it to OpenAI's GPT3.5 model. The function then saves the response of the model as\n",
    "    a string.\n",
    "    \"\"\"\n",
    "    try:\n",
    "        if not isinstance(prompt, str):\n",
    "            raise ValueError(\"Input must be a string enclosed in quotes.\")\n",
    "        completion = client.chat.completions.create(\n",
    "            model=\"gpt-35-turbo\",\n",
    "            messages = [\n",
    "                {\n",
    "                    \"role\": \"system\",\n",
    "                    \"content\": \"You are a helpful but terse AI assistant who gets straight to the point.\",\n",
    "                },\n",
    "                {\"role\": \"user\", \"content\": prompt},\n",
    "            ],\n",
    "            temperature=0.0,\n",
    "        )\n",
    "        response = completion.choices[0].message.content\n",
    "        return response\n",
    "    except TypeError as e:\n",
    "        print(\"Error:\", str(e))"
   ]
  },
  {
   "cell_type": "code",
   "execution_count": null,
   "id": "61ba74a5",
   "metadata": {},
   "outputs": [],
   "source": [
    "def print_llm_response(prompt):\n",
    "    \"\"\"This function takes as input a prompt, which must be a string enclosed in quotation marks,\n",
    "    and passes it to OpenAI's GPT3.5 model. The function then prints the response of the model.\n",
    "    \"\"\"\n",
    "    llm_response = get_llm_response(prompt)\n",
    "    print(llm_response)"
   ]
  }
 ],
 "metadata": {
  "jupytext": {
   "cell_metadata_filter": "-all",
   "notebook_metadata_filter": "-all",
   "text_representation": {
    "extension": ".py",
    "format_name": "light"
   }
  },
  "kernelspec": {
   "display_name": "Python 3 (ipykernel)",
   "language": "python",
   "name": "python3"
  }
 },
 "nbformat": 4,
 "nbformat_minor": 5
}
