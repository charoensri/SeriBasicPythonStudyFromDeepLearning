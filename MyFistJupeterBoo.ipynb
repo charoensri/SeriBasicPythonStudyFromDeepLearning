{
 "cells": [
  {
   "cell_type": "markdown",
   "id": "5dd15c4e",
   "metadata": {},
   "source": [
    "# Heading 1\n",
    "## Heading 2\n",
    "### Heading 3\n",
    "\n",
    "**bold text**\n",
    "*italic text*\n",
    "\n",
    "- Bullet point\n",
    "1. Numbered list\n",
    "\n",
    "[Link text](https://example.com)\n",
    "\n",
    "![Image](image.png)\n",
    "\n",
    "`inline code`\n",
    "\n",
    "$$E = mc^2$$ (for LaTeX math)"
   ]
  },
  {
   "cell_type": "code",
   "execution_count": 11,
   "id": "d5af0e24",
   "metadata": {},
   "outputs": [
    {
     "name": "stdout",
     "output_type": "stream",
     "text": [
      "Hello, Andrew!\n",
      "How is your day going?\n"
     ]
    }
   ],
   "source": [
    "# This is an example of code with multiple\n",
    "# comments, including this one which\n",
    "# spans multiple lines\n",
    "print(\"Hello, Andrew!\")\n",
    "# Follow up with an additional print command\n",
    "print(\"How is your day going?\")"
   ]
  },
  {
   "cell_type": "code",
   "execution_count": null,
   "id": "379ff303",
   "metadata": {},
   "outputs": [],
   "source": [
    "print(\"Hello, Andrew!)"
   ]
  },
  {
   "cell_type": "code",
   "execution_count": 17,
   "id": "401220b8",
   "metadata": {},
   "outputs": [
    {
     "name": "stdout",
     "output_type": "stream",
     "text": [
      "¯\\_(ツ)_/¯\n"
     ]
    }
   ],
   "source": [
    "print(\"¯\\\\_(ツ)_/¯\")"
   ]
  },
  {
   "cell_type": "code",
   "execution_count": 2,
   "id": "78791166",
   "metadata": {},
   "outputs": [
    {
     "name": "stdout",
     "output_type": "stream",
     "text": [
      "Hello, World!\n",
      "      It's great to be here!\n"
     ]
    }
   ],
   "source": [
    "print(\"\"\"Hello, World!\n",
    "      It's great to be here!\"\"\")"
   ]
  },
  {
   "cell_type": "code",
   "execution_count": 12,
   "id": "e1797df9",
   "metadata": {},
   "outputs": [
    {
     "name": "stdout",
     "output_type": "stream",
     "text": [
      "Hissss\n"
     ]
    }
   ],
   "source": [
    "print(\"Hissss\")"
   ]
  },
  {
   "cell_type": "code",
   "execution_count": 5,
   "id": "ab3ed150",
   "metadata": {},
   "outputs": [
    {
     "name": "stdout",
     "output_type": "stream",
     "text": [
      "23.88888888888889\n"
     ]
    }
   ],
   "source": [
    "print((75 - 32) * 5 / 9)"
   ]
  },
  {
   "cell_type": "code",
   "execution_count": 6,
   "id": "c22076bf",
   "metadata": {},
   "outputs": [
    {
     "name": "stdout",
     "output_type": "stream",
     "text": [
      "Convert 6 feet to meters\n",
      "1.8288000000000002\n"
     ]
    }
   ],
   "source": [
    "# Write code to convert 6 feet to meters\n",
    "print(\"Convert 6 feet to meters\")\n",
    "feet = 6\n",
    "meters = feet * 0.3048\n",
    "print(meters)"
   ]
  },
  {
   "cell_type": "code",
   "execution_count": 9,
   "id": "32a20ebb",
   "metadata": {},
   "outputs": [
    {
     "name": "stdout",
     "output_type": "stream",
     "text": [
      "The temperature 75F in degrees celsius is 23.88888888888889C\n"
     ]
    }
   ],
   "source": [
    "print(f\"The temperature 75F in degrees celsius is {(75 - 32) * 5 / 9}C\")"
   ]
  },
  {
   "cell_type": "code",
   "execution_count": 10,
   "id": "1608ff5a",
   "metadata": {},
   "outputs": [
    {
     "name": "stdout",
     "output_type": "stream",
     "text": [
      "Isabel is 4.0 dog years old.\n"
     ]
    }
   ],
   "source": [
    "print(f\"Isabel is {28/7} dog years old.\")\n"
   ]
  },
  {
   "cell_type": "markdown",
   "id": "ea472f28",
   "metadata": {},
   "source": []
  },
  {
   "cell_type": "code",
   "execution_count": 11,
   "id": "d07ca94b",
   "metadata": {},
   "outputs": [
    {
     "name": "stdout",
     "output_type": "stream",
     "text": [
      "Isabel's dog age is 4.\n"
     ]
    }
   ],
   "source": [
    "print(f\"Isabel's dog age is {int(28/7)}.\")"
   ]
  },
  {
   "cell_type": "code",
   "execution_count": 13,
   "id": "91488d81",
   "metadata": {},
   "outputs": [
    {
     "name": "stdout",
     "output_type": "stream",
     "text": [
      "Isabel is 4.0000 dog years old.\n"
     ]
    }
   ],
   "source": [
    "print(f\"Isabel is {28/7:.4f} dog years old.\")"
   ]
  },
  {
   "cell_type": "code",
   "execution_count": 16,
   "id": "8005df47",
   "metadata": {},
   "outputs": [
    {
     "name": "stdout",
     "output_type": "stream",
     "text": [
      "\n",
      "    Most countries use the metric system for recipe measurement, \n",
      "    but American bakers use a different system. For example, they use \n",
      "    fluid ounces to measure liquids instead of milliliters (ml).\n",
      "\n",
      "    So you need to convert recipe units to your local measuring system!\n",
      "\n",
      "    For example, 8 fluid ounces of milk is 236.59 ml.\n",
      "    And 100ml of water is 3.38 fluid ounces.\n",
      "\n"
     ]
    }
   ],
   "source": [
    "print(f\"\"\"\n",
    "    Most countries use the metric system for recipe measurement, \n",
    "    but American bakers use a different system. For example, they use \n",
    "    fluid ounces to measure liquids instead of milliliters (ml).\n",
    "    \n",
    "    So you need to convert recipe units to your local measuring system!\n",
    "    \n",
    "    For example, 8 fluid ounces of milk is {8 * 29.5735:.2f} ml.\n",
    "    And 100ml of water is {100 / 29.5735:.2f} fluid ounces.\n",
    "\"\"\")"
   ]
  },
  {
   "cell_type": "code",
   "execution_count": 25,
   "id": "3e82a5cb",
   "metadata": {},
   "outputs": [
    {
     "name": "stdout",
     "output_type": "stream",
     "text": [
      "I am 0.5 years old.\n"
     ]
    }
   ],
   "source": [
    "# Modify the code to print your age\n",
    "print(f\"I am {1/2 } years old.\")"
   ]
  },
  {
   "cell_type": "code",
   "execution_count": 19,
   "id": "575706a5",
   "metadata": {},
   "outputs": [
    {
     "name": "stdout",
     "output_type": "stream",
     "text": [
      "There are 52.142857142857146 weeks in a year\n"
     ]
    }
   ],
   "source": [
    "print(f\"There are {365/7} weeks in a year\")\n"
   ]
  },
  {
   "cell_type": "code",
   "execution_count": 29,
   "id": "45eb0670",
   "metadata": {},
   "outputs": [
    {
     "name": "stdout",
     "output_type": "stream",
     "text": [
      "The area of a square with side 5 cm is 25 cm squared.\n"
     ]
    }
   ],
   "source": [
    "print(f\"The area of a square with side 5 cm is {5*5} cm squared.\")"
   ]
  },
  {
   "cell_type": "code",
   "execution_count": 31,
   "id": "2701124b",
   "metadata": {},
   "outputs": [],
   "source": [
    "age=123"
   ]
  },
  {
   "cell_type": "code",
   "execution_count": 32,
   "id": "b71ed41f",
   "metadata": {},
   "outputs": [
    {
     "name": "stdout",
     "output_type": "stream",
     "text": [
      "The house was a good size: 1200 square feet, or 111.5 meters squared! 123\n"
     ]
    }
   ],
   "source": [
    "print(f\"The house was a good size: 1200 square feet, or {1200 * 0.092903:.1f} meters squared! {age}\")"
   ]
  },
  {
   "cell_type": "code",
   "execution_count": 33,
   "id": "0913a9bd",
   "metadata": {},
   "outputs": [],
   "source": [
    "age = 5\n"
   ]
  },
  {
   "cell_type": "code",
   "execution_count": 36,
   "id": "f65afa66",
   "metadata": {},
   "outputs": [
    {
     "name": "stdout",
     "output_type": "stream",
     "text": [
      "my age is 5\n"
     ]
    }
   ],
   "source": [
    "print(f\"my age is {age}\")\n"
   ]
  },
  {
   "cell_type": "code",
   "execution_count": 42,
   "id": "e7682514",
   "metadata": {},
   "outputs": [
    {
     "name": "stdout",
     "output_type": "stream",
     "text": [
      "Name: Otto\n",
      "Gnome height: 12.7\n"
     ]
    }
   ],
   "source": [
    "name = \"Otto\"\n",
    "gnome_height = 12.7  # in centimeters\n",
    "gnome_weight = 1.5   # in kilograms      \n",
    "print(f\"Name: {name}\")\n",
    "print(f\"Gnome height: {gnome_height}\")   \n"
   ]
  },
  {
   "cell_type": "code",
   "execution_count": 44,
   "id": "0c3bbc22",
   "metadata": {},
   "outputs": [
    {
     "name": "stdout",
     "output_type": "stream",
     "text": [
      "10\n"
     ]
    }
   ],
   "source": [
    "score = 0 # now score is 0\n",
    "score += 5 # now score is 5\n",
    "score *= 2 # now score is 10\n",
    "print(score)"
   ]
  },
  {
   "cell_type": "code",
   "execution_count": 45,
   "id": "41ed7827",
   "metadata": {},
   "outputs": [
    {
     "name": "stdout",
     "output_type": "stream",
     "text": [
      "Otto's age in dog years is 7.0\n"
     ]
    }
   ],
   "source": [
    "print(f\"Otto's age in dog years is {49 / 7}\")\n"
   ]
  },
  {
   "cell_type": "code",
   "execution_count": 46,
   "id": "2640fe50",
   "metadata": {},
   "outputs": [
    {
     "name": "stdout",
     "output_type": "stream",
     "text": [
      "Otto's dog age is 7.0. So a dog that's about\n",
      "7.0 would be the same age as Otto. Any dog born about 7.0\n",
      "years ago would be in the same stage of life as Otto.\n"
     ]
    }
   ],
   "source": [
    "print(f\"\"\"Otto's dog age is {49/7}. So a dog that's about\n",
    "{49/7} would be the same age as Otto. Any dog born about {49/7}\n",
    "years ago would be in the same stage of life as Otto.\"\"\")\n"
   ]
  },
  {
   "cell_type": "code",
   "execution_count": 49,
   "id": "3ef655ac",
   "metadata": {},
   "outputs": [
    {
     "name": "stdout",
     "output_type": "stream",
     "text": [
      "Otto's dog age is 7.0. So a dog that's about\n",
      "7.0 would be the same age as Otto. Any dog born about 7.0\n",
      "years ago would be in the same stage of life as Otto.\n"
     ]
    }
   ],
   "source": [
    "dog_age = 49 / 7\n",
    "\n",
    "print(f\"\"\"Otto's dog age is {dog_age}. So a dog that's about\n",
    "{dog_age} would be the same age as Otto. Any dog born about {dog_age}\n",
    "years ago would be in the same stage of life as Otto.\"\"\")\n"
   ]
  },
  {
   "cell_type": "code",
   "execution_count": 50,
   "id": "ed67a4db",
   "metadata": {},
   "outputs": [
    {
     "name": "stdout",
     "output_type": "stream",
     "text": [
      "Otto's dog age is 7.0. So a dog that's about\n",
      "7.0 would be the same age as Otto. Any dog born about 7.0\n",
      "years ago would be in the same stage of life as Otto.\n"
     ]
    }
   ],
   "source": [
    "print(f\"\"\"{name}'s dog age is {dog_age}. So a dog that's about\n",
    "{dog_age} would be the same age as {name}. Any dog born about {dog_age}\n",
    "years ago would be in the same stage of life as {name}.\"\"\")"
   ]
  },
  {
   "cell_type": "code",
   "execution_count": 52,
   "id": "0e7e9748",
   "metadata": {},
   "outputs": [
    {
     "name": "stdout",
     "output_type": "stream",
     "text": [
      "Seri\n"
     ]
    }
   ],
   "source": [
    "# Create a variable called 'my_name' and assign it the value of your name as a string.\n",
    "# Then print out a greeting using the variable, like \"Hello, Andrew!\"\n",
    "my_name = \"Seri\"\n",
    "print(my_name)"
   ]
  },
  {
   "cell_type": "code",
   "execution_count": 56,
   "id": "c0e392bf",
   "metadata": {},
   "outputs": [
    {
     "name": "stdout",
     "output_type": "stream",
     "text": [
      "Your favorite number plus 10 is 15.\n"
     ]
    }
   ],
   "source": [
    "# Enter your favorite number below and store it in a variable called 'fav_num'. \n",
    "# Print out a message telling you what your favorite number plus 10 is.\n",
    "fav_num = 5\n",
    "print(f\"Your favorite number plus 10 is {fav_num  + 10}.\")"
   ]
  },
  {
   "cell_type": "code",
   "execution_count": 57,
   "id": "990475ad",
   "metadata": {},
   "outputs": [
    {
     "name": "stdout",
     "output_type": "stream",
     "text": [
      "I have visited 3 countries. I plan to visit 10 more countries, \n",
      "      and when I'm done I will have visited 13 countries.\n"
     ]
    }
   ],
   "source": [
    "# Create two variables, 'countries_visited' and 'countries_to_visit' and assign them the number of\n",
    "# countries you've been to and the number of countries you hope to visit. Then complete the print statement.\n",
    "\n",
    "countries_visited = 3\n",
    "countries_to_visit = 10\n",
    "\n",
    "print(f\"\"\"I have visited {countries_visited} countries. I plan to visit {countries_to_visit} more countries, \n",
    "      and when I'm done I will have visited {countries_to_visit + countries_visited} countries.\"\"\")"
   ]
  },
  {
   "cell_type": "code",
   "execution_count": null,
   "id": "06ddfdbd",
   "metadata": {},
   "outputs": [],
   "source": []
  }
 ],
 "metadata": {
  "kernelspec": {
   "display_name": "Python 3",
   "language": "python",
   "name": "python3"
  },
  "language_info": {
   "codemirror_mode": {
    "name": "ipython",
    "version": 3
   },
   "file_extension": ".py",
   "mimetype": "text/x-python",
   "name": "python",
   "nbconvert_exporter": "python",
   "pygments_lexer": "ipython3",
   "version": "3.13.7"
  }
 },
 "nbformat": 4,
 "nbformat_minor": 5
}
