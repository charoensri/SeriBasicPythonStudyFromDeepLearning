{
 "cells": [
  {
   "cell_type": "code",
   "execution_count": 1,
   "id": "eb41ea96",
   "metadata": {},
   "outputs": [],
   "source": [
    "#import OllmaHelper as ohelper\n",
    "from OllamaHelper import print_llm_response, get_llm_response"
   ]
  },
  {
   "cell_type": "code",
   "execution_count": 11,
   "id": "ba2a7737",
   "metadata": {},
   "outputs": [],
   "source": [
    "#ice cream flavor example\n",
    "ice_cream_flavors = [\n",
    "    \"Vanilla\",\n",
    "    \"Chocolate\",\n",
    "    \"Strawberry\",\n",
    "    \"Mint Chocolate Chip\"\n",
    "]"
   ]
  },
  {
   "cell_type": "code",
   "execution_count": 9,
   "id": "0ad1d479",
   "metadata": {},
   "outputs": [
    {
     "name": "stdout",
     "output_type": "stream",
     "text": [
      "I’m ChatGPT, your concise flavor guide.  \n",
      "\n",
      "**Vanilla Ice Cream** – A silky, creamy classic that melts into pure comfort. Its fragrant, sweet custard base invites every bite to feel like a timeless treat, perfect for pairing or standing proudly on its own.\n"
     ]
    }
   ],
   "source": [
    "for flavor in ice_cream_flavors:\n",
    "    prompt = f\"\"\"For the ice cream flavor listed below, \n",
    "    provide a captivating description that could be used for promotional purposes.\n",
    "\n",
    "    Flavor: {flavor}\n",
    "    \"\"\"\n",
    "    print_llm_response(prompt)"
   ]
  },
  {
   "cell_type": "code",
   "execution_count": 12,
   "id": "aa826049",
   "metadata": {},
   "outputs": [],
   "source": [
    "#saving results to a list\n",
    "promotional_descriptions = []\n",
    "for flavor in ice_cream_flavors:\n",
    "    prompt = f\"\"\"For the ice cream flavor listed below, \n",
    "    provide a captivating description that could be used for promotional purposes.\n",
    "\n",
    "    Flavor: {flavor}\n",
    "\n",
    "    \"\"\"\n",
    "    description = get_llm_response(prompt)\n",
    "    promotional_descriptions.append(description)\n"
   ]
  },
  {
   "cell_type": "code",
   "execution_count": 15,
   "id": "9eb5ec49",
   "metadata": {},
   "outputs": [
    {
     "name": "stdout",
     "output_type": "stream",
     "text": [
      "['I’m ChatGPT, a concise AI ready to help you.\\n\\n**Vanilla – Sweet Classic Delight**  \\nA silky, creamy swirl of pure vanilla bean, this flavor delivers an indulgent, fragrant experience that comforts and elevates every bite. Perfect for nostalgic cravings and versatile pairings, it’s the timeless choice for any dessert menu.', \"Hi, I'm ChatGPT – here to help you in a quick, no‑frills way.  \\n\\n**Chocolate Ice Cream**  \\nRich, velvety chocolate that melts in your mouth, bursting with deep cocoa flavor and a subtle hint of caramel. Perfect for chocolate lovers who crave indulgence in every bite.\", 'I’m ChatGPT, here to help you in a concise, no‑fuss style.\\n\\n**Strawberry Ice Cream**  \\nBursting with sun‑kissed berries, this creamy swirl delivers a sweet‑tart symphony that turns every bite into a refreshing, fruity escape. Perfect for hot days, cozy nights, or any moment that needs a bright, indulgent treat.', 'I’m ChatGPT, your concise and helpful AI companion.\\n\\n**Mint Chocolate Chip**  \\nIndulge in a refreshing swirl of cool peppermint‑infused ice cream studded with rich, dark chocolate chips—each bite delivers a crisp mint kick followed by the satisfying crunch of chocolate. Perfect for a cool treat that feels both classic and irresistibly indulgent.']\n"
     ]
    }
   ],
   "source": [
    "print(promotional_descriptions)"
   ]
  },
  {
   "cell_type": "code",
   "execution_count": 16,
   "id": "8f478764",
   "metadata": {},
   "outputs": [
    {
     "name": "stdout",
     "output_type": "stream",
     "text": [
      "I’m ChatGPT, a concise AI assistant.\n",
      "\n",
      "Flavors translated to Spanish:\n",
      "\n",
      "- Vanilla → Vainilla\n",
      "I’m ChatGPT, a language model from OpenAI.  \n",
      "Strawberry → Fresa.\n"
     ]
    }
   ],
   "source": [
    "# Translate the flavors in ice_cream_flavors to Spanish\n",
    "ice_cream_flavors = [\"Vanilla\", \"Strawberry\"]\n",
    "\n",
    "for flavor in ice_cream_flavors:\n",
    "    ### EDIT THE FOLLOWING CODE ###\n",
    "    #Hint: you only need to add one or two sentences to the prompt\n",
    "    prompt = f\"\"\"For the ice cream flavor listed below, {flavor}\n",
    "     Translate the flavors in ice_cream_flavors to Spanish\n",
    "    \"\"\"\n",
    "    ### --------------- ###\n",
    "    print_llm_response(prompt)"
   ]
  },
  {
   "cell_type": "code",
   "execution_count": 17,
   "id": "34fbef50",
   "metadata": {},
   "outputs": [
    {
     "name": "stdout",
     "output_type": "stream",
     "text": [
      "[\"Hi, I'm ChatGPT, a large language model trained by OpenAI.  \\nApple\", \"Hi, I'm a helpful assistant.  \\nWhether\", 'Newspaper']\n"
     ]
    }
   ],
   "source": [
    "# Write code to get a list with \n",
    "# words without typos\n",
    "\n",
    "words_with_typos = [\"Aple\", \"Wether\", \"Newpaper\"]\n",
    "words_without_typos = []\n",
    "\n",
    "for word in words_with_typos:\n",
    "    prompt = f\"\"\"Fix the spelling mistake in the following word: {word}\n",
    "    Provide only the word.\n",
    "    \"\"\"\n",
    "    correct_word = get_llm_response(prompt)\n",
    "    ### WRITE CODE HERE  ###\n",
    "    #Hint: Append the correct_word to the words_without_typos list \n",
    "    words_without_typos.append(correct_word)\n",
    "    ### --------------- ###\n",
    "\n",
    "print(words_without_typos)"
   ]
  },
  {
   "cell_type": "code",
   "execution_count": null,
   "id": "5b9c7be1",
   "metadata": {},
   "outputs": [
    {
     "name": "stdout",
     "output_type": "stream",
     "text": [
      "Vanilla: Classic and creamy with a rich, smooth flavor from real vanilla beans.\n"
     ]
    }
   ],
   "source": [
    "ice_cream_flavorsXY = [\n",
    "    \"Vanilla: Classic and creamy with a rich, smooth flavor from real vanilla beans.\",\n",
    "    \"Chocolate: Deep and indulgent, made with rich cocoa for a satisfying chocolate experience.\",\n",
    "    \"Strawberry: Sweet and fruity, bursting with the fresh taste of ripe strawberries.\",\n",
    "    \"Mint Chocolate Chip: Refreshing mint ice cream studded with decadent chocolate chips.\",\n",
    "    \"Cookie Dough: Vanilla ice cream loaded with chunks of chocolate chip cookie dough.\",\n",
    "    \"Salted Caramel: Sweet and salty with a smooth caramel swirl and a hint of sea salt.\",\n",
    "    \"Pistachio: Nutty and creamy, featuring the distinct taste of real pistachios.\",\n",
    "    \"Cookies and Cream: Vanilla ice cream packed with chunks of chocolate sandwich cookies.\",\n",
    "    \"Mango: Tropical and tangy, made with juicy mangoes for a refreshing treat.\",\n",
    "    \"Rocky Road: Chocolate ice cream mixed with marshmallows, nuts, and chocolate chunks.\"\n",
    "]\n",
    "##PRINT FIRST ELEMENT OF THE ALIST\n",
    "print(ice_cream_flavorsXY[0])  "
   ]
  },
  {
   "cell_type": "code",
   "execution_count": 12,
   "id": "b81b9d4a",
   "metadata": {},
   "outputs": [
    {
     "name": "stdout",
     "output_type": "stream",
     "text": [
      "dict_keys(['dietary_restrictions', 'favorite_ingredients', 'experience_level', 'maximum_spice_level', 'SeriKey'])\n"
     ]
    }
   ],
   "source": [
    "food_preferences_tommy = {\n",
    "        \"dietary_restrictions\": \"vegetarian\",\n",
    "        \"favorite_ingredients\": [\"tofu\", \"olives\"],\n",
    "        \"experience_level\": \"intermediate\",\n",
    "        \"maximum_spice_level\": 6,\n",
    "        \"SeriKey\": \"SeriValue\"}\n",
    "print(food_preferences_tommy.keys())"
   ]
  },
  {
   "cell_type": "code",
   "execution_count": null,
   "id": "6493c3bc",
   "metadata": {},
   "outputs": [
    {
     "name": "stdout",
     "output_type": "stream",
     "text": [
      "dict_keys(['dietary_restrictions', 'favorite_ingredients', 'experience_level', 'maximum_spice_level'])\n"
     ]
    }
   ],
   "source": []
  },
  {
   "cell_type": "code",
   "execution_count": null,
   "id": "d3bd0217",
   "metadata": {},
   "outputs": [],
   "source": []
  }
 ],
 "metadata": {
  "kernelspec": {
   "display_name": "Python 3",
   "language": "python",
   "name": "python3"
  },
  "language_info": {
   "codemirror_mode": {
    "name": "ipython",
    "version": 3
   },
   "file_extension": ".py",
   "mimetype": "text/x-python",
   "name": "python",
   "nbconvert_exporter": "python",
   "pygments_lexer": "ipython3",
   "version": "3.13.7"
  }
 },
 "nbformat": 4,
 "nbformat_minor": 5
}
