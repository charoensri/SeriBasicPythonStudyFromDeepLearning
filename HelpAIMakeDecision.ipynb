{
 "cells": [
  {
   "cell_type": "code",
   "execution_count": 28,
   "id": "687fc98b",
   "metadata": {},
   "outputs": [],
   "source": [
    "from OllamaHelper import get_llm_response, print_llm_response       "
   ]
  },
  {
   "cell_type": "code",
   "execution_count": 27,
   "id": "2cc08651",
   "metadata": {},
   "outputs": [],
   "source": [
    "task_list = [\n",
    "    {\n",
    "        \"description\": \"Compose a brief email to my boss explaining that I will be late for next week's meeting.\",\n",
    "        \"time_to_complete\": 3\n",
    "    },\n",
    "    {\n",
    "        \"description\": \"Create an outline for a presentation on the benefits of remote work.\",\n",
    "        \"time_to_complete\": 60\n",
    "    },\n",
    "    {\n",
    "        \"description\": \"Write a 300-word review of the movie 'The Arrival'.\",\n",
    "        \"time_to_complete\": 30\n",
    "    },\n",
    "    {\n",
    "        \"description\": \"Create a shopping list for tofu and olive stir fry.\",\n",
    "        \"time_to_complete\": 5\n",
    "    }\n",
    "]"
   ]
  },
  {
   "cell_type": "code",
   "execution_count": 18,
   "id": "6c9ee83c",
   "metadata": {},
   "outputs": [
    {
     "name": "stdout",
     "output_type": "stream",
     "text": [
      "{'description': \"Compose a brief email to my boss explaining that I will be late for next week's meeting.\", 'time_to_complete': 3}\n"
     ]
    }
   ],
   "source": [
    "task = task_list[0]\n",
    "print(task)"
   ]
  },
  {
   "cell_type": "code",
   "execution_count": 31,
   "id": "3a1f6036",
   "metadata": {},
   "outputs": [
    {
     "name": "stdout",
     "output_type": "stream",
     "text": [
      "task zero - task descripiton:\"\t Compose a brief email to my boss explaining that I will be late for next week's meeting.\n",
      "task time to complete:\"\t\t 3\n"
     ]
    }
   ],
   "source": [
    "task = task_list[0]\n",
    "print(f\"\"\"task zero - task descripiton:\"\\t {task[\"description\"]}\"\"\")\n",
    "print(f\"\"\"task time to complete:\"\\t\\t {task[\"time_to_complete\"]}\"\"\")"
   ]
  },
  {
   "cell_type": "code",
   "execution_count": 19,
   "id": "8c94123d",
   "metadata": {},
   "outputs": [
    {
     "data": {
      "text/plain": [
       "True"
      ]
     },
     "execution_count": 19,
     "metadata": {},
     "output_type": "execute_result"
    }
   ],
   "source": [
    "task[\"time_to_complete\"] <= 5 "
   ]
  },
  {
   "cell_type": "code",
   "execution_count": 20,
   "id": "5cb46eb6",
   "metadata": {},
   "outputs": [
    {
     "name": "stdout",
     "output_type": "stream",
     "text": [
      "I’m ChatGPT, a language model trained by OpenAI to help with writing and information tasks.  \n",
      "\n",
      "**Draft email**\n",
      "\n",
      "> **Subject:** Late to next week’s meeting  \n",
      ">   \n",
      "> Hi [Boss’s Name],  \n",
      ">   \n",
      "> I’m writing to let you know that I’ll be late to next week’s meeting due to a scheduling conflict. I plan to join at [time]. I apologize for any inconvenience.  \n",
      ">   \n",
      "> Thanks,  \n",
      "> [Your Name]\n"
     ]
    }
   ],
   "source": [
    "if task[\"time_to_complete\"] <= 5:\n",
    "    task_to_do = task[\"description\"]\n",
    "    print_llm_response(task_to_do)"
   ]
  },
  {
   "cell_type": "code",
   "execution_count": 21,
   "id": "91f1a598",
   "metadata": {},
   "outputs": [],
   "source": [
    "task = task_list[1]\n",
    "if task[\"time_to_complete\"] <= 5:\n",
    "    task_to_do = task[\"description\"]\n",
    "    print_llm_response(task_to_do)"
   ]
  },
  {
   "cell_type": "code",
   "execution_count": 22,
   "id": "9640390c",
   "metadata": {},
   "outputs": [
    {
     "data": {
      "text/plain": [
       "False"
      ]
     },
     "execution_count": 22,
     "metadata": {},
     "output_type": "execute_result"
    }
   ],
   "source": [
    "task[\"time_to_complete\"] <= 5\n"
   ]
  },
  {
   "cell_type": "code",
   "execution_count": 23,
   "id": "ed116ded",
   "metadata": {},
   "outputs": [],
   "source": [
    "task = task_list[2]\n",
    "if task[\"time_to_complete\"] <= 5:\n",
    "    task_to_do = task[\"description\"]\n",
    "    print_llm_response(task_to_do)"
   ]
  },
  {
   "cell_type": "code",
   "execution_count": 24,
   "id": "c73fefd6",
   "metadata": {},
   "outputs": [
    {
     "name": "stdout",
     "output_type": "stream",
     "text": [
      "I’m ChatGPT, a concise AI assistant.\n",
      "\n",
      "**Shopping list – Tofu & Olive Stir‑Fry**\n",
      "\n",
      "- Firm tofu – 1 block  \n",
      "- Olive oil – 2 Tbsp  \n",
      "- Soy sauce – 1 Tbsp  \n",
      "- Garlic – 2 cloves  \n",
      "- Fresh ginger – 1 thumb  \n",
      "- Bell pepper – 1 (any color)  \n",
      "- Broccoli florets – 1 cup  \n",
      "- Carrots – 2 (sliced)  \n",
      "- Onion – 1 (sliced)  \n",
      "- Green onions – 2 (chopped, for garnish)  \n",
      "- Salt & pepper – to taste  \n",
      "- Optional: crushed red pepper flakes, lime wedges, sesame seeds.\n"
     ]
    }
   ],
   "source": [
    "task = task_list[3]\n",
    "if task[\"time_to_complete\"] <= 5:\n",
    "    task_to_do = task[\"description\"]\n",
    "    print_llm_response(task_to_do)"
   ]
  },
  {
   "cell_type": "code",
   "execution_count": null,
   "id": "f7b64230",
   "metadata": {},
   "outputs": [
    {
     "name": "stdout",
     "output_type": "stream",
     "text": [
      "I’m ChatGPT, a large‑language model from OpenAI designed to help with information, writing, and problem solving.\n",
      "\n",
      "---\n",
      "\n",
      "**Subject:** Late Arrival at Next Week’s Meeting  \n",
      "\n",
      "Hi [Boss’s Name],\n",
      "\n",
      "I wanted to let you know I’ll be late to the meeting on [date] because of a prior commitment that can’t be rescheduled. I’ll join as soon as I’m able and will catch up on any missed points.\n",
      "\n",
      "Thanks for understanding.\n",
      "\n",
      "Best,  \n",
      "[Your Name]\n",
      "Hi—quickly here to help.\n",
      "\n",
      "**Tofu & Olive Stir‑Fry Shopping List**\n",
      "\n",
      "| Item | Amount |\n",
      "|------|--------|\n",
      "| Firm tofu | 400 g (1 block) |\n",
      "| Olive oil | 2 Tbsp |\n",
      "| Garlic | 2 cloves, minced |\n",
      "| Onion | 1 small, sliced |\n",
      "| Bell pepper | 1, sliced |\n",
      "| Broccoli florets | 1 cup |\n",
      "| Carrot | 1, julienned |\n",
      "| Soy sauce | 3 Tbsp |\n",
      "| Ginger | 1 inch piece, grated |\n",
      "| Sesame seeds (optional) | 1 Tbsp |\n",
      "| Salt & pepper | to taste |\n",
      "| Rice or noodles | for serving (optional) |\n",
      "\n",
      "That’s it! Enjoy your stir‑fry.\n"
     ]
    }
   ],
   "source": [
    "tasks_for_later = []\n",
    "\n",
    "for task in task_list:\n",
    "    if task[\"time_to_complete\"] <= 5:\n",
    "        task_to_do = task[\"description\"]\n",
    "        print_llm_response(task_to_do)\n",
    "    else:\n",
    "        tasks_for_later.append(task)"
   ]
  },
  {
   "cell_type": "code",
   "execution_count": null,
   "id": "db0d4fa9",
   "metadata": {},
   "outputs": [
    {
     "name": "stdout",
     "output_type": "stream",
     "text": [
      "[{'description': 'Create an outline for a presentation on the benefits of remote work.', 'time_to_complete': 60}, {'description': \"Write a 300-word review of the movie 'The Arrival'.\", 'time_to_complete': 30}]\n"
     ]
    }
   ],
   "source": [
    "print(tasks_for_later)"
   ]
  },
  {
   "cell_type": "code",
   "execution_count": 32,
   "id": "d7ab30f7",
   "metadata": {},
   "outputs": [
    {
     "name": "stdout",
     "output_type": "stream",
     "text": [
      "My favourite color is Red\n"
     ]
    }
   ],
   "source": [
    "colors = [\n",
    "         \"Blue\",\n",
    "         \"Green\",\n",
    "         \"Yellow\",\n",
    "         \"Red\"\n",
    "]\n",
    "\n",
    "for color in colors:\n",
    "       prompt = f\"\"\"My favourite color is {color}\"\"\"\n",
    "print(prompt)"
   ]
  },
  {
   "cell_type": "code",
   "execution_count": 35,
   "id": "cb815087",
   "metadata": {},
   "outputs": [
    {
     "name": "stdout",
     "output_type": "stream",
     "text": [
      "Orange and crunchy\n"
     ]
    }
   ],
   "source": [
    "vegetable_descriptions = {\n",
    "    \"carrot\": \"Orange and crunchy\",\n",
    "     \"potato\": \"Brown and starchy\",\n",
    "     \"tomato\": \"Red and juicy\",\n",
    "      \"onion\": \"White and pungent\"\n",
    "}\n",
    "print(vegetable_descriptions[\"carrot\"])\n"
   ]
  },
  {
   "cell_type": "code",
   "execution_count": 37,
   "id": "dac26298",
   "metadata": {},
   "outputs": [
    {
     "name": "stdout",
     "output_type": "stream",
     "text": [
      "30\n"
     ]
    }
   ],
   "source": [
    "person_contact = {\n",
    "    \"name\": \"Isabel\",\n",
    "    \"age\": 29,\n",
    "    \"phone number\": \"+1-234-5678\"\n",
    "}\n",
    "person_contact[\"age\"]=30\n",
    "print(person_contact[\"age\"])    "
   ]
  },
  {
   "cell_type": "code",
   "execution_count": 39,
   "id": "c49b44c5",
   "metadata": {},
   "outputs": [
    {
     "name": "stdout",
     "output_type": "stream",
     "text": [
      "['apple', 'orange', 'banana', 'grape']\n"
     ]
    }
   ],
   "source": [
    "fruit_list = [\"apple\", \"orange\", \"banana\"]\n",
    "fruit_list.append(\"grape\")\n",
    "print(fruit_list)"
   ]
  },
  {
   "cell_type": "code",
   "execution_count": 40,
   "id": "19cc259f",
   "metadata": {},
   "outputs": [
    {
     "data": {
      "text/plain": [
       "bool"
      ]
     },
     "execution_count": 40,
     "metadata": {},
     "output_type": "execute_result"
    }
   ],
   "source": [
    "vegetarian = True\n",
    "\n",
    "type(vegetarian)"
   ]
  },
  {
   "cell_type": "code",
   "execution_count": 41,
   "id": "1983423e",
   "metadata": {},
   "outputs": [
    {
     "name": "stdout",
     "output_type": "stream",
     "text": [
      "Access granted\n"
     ]
    }
   ],
   "source": [
    "age = 20\n",
    "\n",
    "if age >= 18:\n",
    "    print(\"Access granted\")\n",
    "else:\n",
    "    print(\"Access denied\")"
   ]
  },
  {
   "cell_type": "code",
   "execution_count": 42,
   "id": "7595f627",
   "metadata": {},
   "outputs": [
    {
     "name": "stdout",
     "output_type": "stream",
     "text": [
      "Access granted\n"
     ]
    }
   ],
   "source": [
    "username = \"admin\"\n",
    "password = \"1234\"\n",
    "\n",
    "if username == \"admin\" or password == \"admin123\":\n",
    "    print(\"Access granted\")\n",
    "else:\n",
    "    print(\"Access denied\")"
   ]
  },
  {
   "cell_type": "code",
   "execution_count": 46,
   "id": "429bd190",
   "metadata": {},
   "outputs": [
    {
     "name": "stdout",
     "output_type": "stream",
     "text": [
      "['Bob', 'Diana']\n"
     ]
    }
   ],
   "source": [
    "employees = [\n",
    "    {\n",
    "        \"name\": \"Alice\", \n",
    "        \"task_completed\": True\n",
    "    },\n",
    "    {\n",
    "        \"name\": \"Bob\", \n",
    "        \"task_completed\": False\n",
    "    },\n",
    "    {\n",
    "        \"name\": \"Charlie\", \n",
    "        \"task_completed\": True\n",
    "    },\n",
    "    {\n",
    "        \"name\": \"Diana\", \n",
    "        \"task_completed\": False\n",
    "    }\n",
    "]\n",
    "\n",
    "reminder_list = []\n",
    "for employee in employees:\n",
    "    ### ADD MISSING CODE HERE ###:\n",
    "    if not employee[\"task_completed\"]:\n",
    "        reminder_list.append(employee[\"name\"])\n",
    "\n",
    "#send_reminder_email(reminder_list)\n",
    "print(reminder_list)"
   ]
  },
  {
   "cell_type": "code",
   "execution_count": 58,
   "id": "e9f85bad",
   "metadata": {},
   "outputs": [
    {
     "name": "stdout",
     "output_type": "stream",
     "text": [
      "A juicy fruit that is rich in vitamin C, often enjoyed as a snack or in juice form.\n",
      "Blueberry\n",
      "A small, blue fruit that is packed with antioxidants and often used in baking.\n",
      "{'name': 'Blueberry', 'description': 'A small, blue fruit that is packed with antioxidants and often used in baking.'}\n"
     ]
    }
   ],
   "source": [
    "\n",
    "fruit_descriptions = {\n",
    "   \"Citrus\": [\n",
    "       {\n",
    "           \"name\": \"Orange\",\n",
    "           \"description\": \"A juicy fruit that is rich in vitamin C, often enjoyed as a snack or in juice form.\"\n",
    "       },\n",
    "       {\n",
    "           \"name\": \"Lemon\",\n",
    "           \"description\": \"A tart fruit that is commonly used to add flavor to dishes and drinks.\"\n",
    "       }\n",
    "   ],\n",
    "   \"Berries\": [\n",
    "       {\n",
    "           \"name\": \"Strawberry\",  \n",
    "           \"description\": \"A sweet, red fruit that is often used in desserts and smoothies.\"\n",
    "       },\n",
    "       {\n",
    "           \"name\": \"Blueberry\",\n",
    "           \"description\": \"A small, blue fruit that is packed with antioxidants and often used in baking.\"\n",
    "       }\n",
    "   ],\n",
    "   \"Tropical\": [\n",
    "       {\n",
    "           \"name\": \"Mango\",\n",
    "            \"description\": \"A sweet and juicy fruit with a unique flavor, often enjoyed fresh or in smoothies.\"\n",
    "       },\n",
    "       {\n",
    "           \"name\": \"Pineapple\", \n",
    "            \"description\": \"A tropical fruit with a tangy-sweet flavor, great for eating fresh or adding to dishes.\"\n",
    "       }\n",
    "   ]\n",
    "}\n",
    "print(fruit_descriptions[\"Citrus\"][0][\"description\"])  \n",
    "print(fruit_descriptions[\"Berries\"][1][\"name\"]) \n",
    "print(fruit_descriptions[\"Berries\"][1][\"description\"]) \n",
    "print(fruit_descriptions[\"Berries\"][1])\n"
   ]
  },
  {
   "cell_type": "code",
   "execution_count": 65,
   "id": "673d708e",
   "metadata": {},
   "outputs": [
    {
     "name": "stdout",
     "output_type": "stream",
     "text": [
      "A small, blue fruit that is packed with antioxidants and often used in baking.\n"
     ]
    }
   ],
   "source": [
    "for fruit in fruit_descriptions[\"Berries\"]:\n",
    "    #if fruit[\"name\"].startswith(\"B\"): \n",
    "    if fruit[\"name\"] == \"Blueberry\":\n",
    "        print(fruit[\"description\"])\n"
   ]
  },
  {
   "cell_type": "code",
   "execution_count": null,
   "id": "13742df9",
   "metadata": {},
   "outputs": [],
   "source": []
  }
 ],
 "metadata": {
  "kernelspec": {
   "display_name": "Python 3",
   "language": "python",
   "name": "python3"
  },
  "language_info": {
   "codemirror_mode": {
    "name": "ipython",
    "version": 3
   },
   "file_extension": ".py",
   "mimetype": "text/x-python",
   "name": "python",
   "nbconvert_exporter": "python",
   "pygments_lexer": "ipython3",
   "version": "3.13.7"
  }
 },
 "nbformat": 4,
 "nbformat_minor": 5
}
