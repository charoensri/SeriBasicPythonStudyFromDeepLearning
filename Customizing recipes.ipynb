{
 "cells": [
  {
   "cell_type": "code",
   "execution_count": 1,
   "id": "fe409680",
   "metadata": {},
   "outputs": [],
   "source": [
    "from OllamaHelper import print_llm_response, get_llm_response"
   ]
  },
  {
   "cell_type": "code",
   "execution_count": 4,
   "id": "1a276070",
   "metadata": {},
   "outputs": [],
   "source": [
    "food_preferences_tommy = {\n",
    "        \"dietary_restrictions\": \"vegetarian\",\n",
    "        \"favorite_ingredients\": [\"tofu\", \"olives\"],\n",
    "        \"experience_level\": \"intermediate\",\n",
    "        \"maximum_spice_level\": 6\n",
    "}"
   ]
  },
  {
   "cell_type": "code",
   "execution_count": 5,
   "id": "74bdee76",
   "metadata": {},
   "outputs": [
    {
     "name": "stdout",
     "output_type": "stream",
     "text": [
      "dict_keys(['dietary_restrictions', 'favorite_ingredients', 'experience_level', 'maximum_spice_level'])\n"
     ]
    }
   ],
   "source": [
    "print(food_preferences_tommy.keys())"
   ]
  },
  {
   "cell_type": "code",
   "execution_count": 6,
   "id": "d8ef24c5",
   "metadata": {},
   "outputs": [
    {
     "name": "stdout",
     "output_type": "stream",
     "text": [
      "dict_values(['vegetarian', ['tofu', 'olives'], 'intermediate', 6])\n"
     ]
    }
   ],
   "source": [
    "print(food_preferences_tommy.values())"
   ]
  },
  {
   "cell_type": "code",
   "execution_count": 12,
   "id": "305c249c",
   "metadata": {},
   "outputs": [
    {
     "name": "stdout",
     "output_type": "stream",
     "text": [
      "Please suggest a recipe that tries to include \n",
      "the following ingredients: \n",
      "['tofu', 'olives'].\n",
      "The recipe should adhere to the following dietary restrictions:\n",
      "vegetarian.\n",
      "The difficulty of the recipe should be: \n",
      "intermediate\n",
      "The maximum spice level on a scale of 10 should be: \n",
      "6 \n",
      "Provide a two sentence description.\n",
      "\n",
      "I’m ChatGPT, your concise culinary guide.  \n",
      "**Mediterranean Tofu & Olive Stir‑Fry** – sauté cubed tofu with garlic, diced bell peppers, olives, and a splash of soy sauce, finished with lemon zest and fresh oregano; serve over quinoa or brown rice.  \n",
      "A vibrant, protein‑rich dish that balances savory olives with aromatic herbs while keeping spice mild (max 6/10) and remains doable at an intermediate skill level.\n"
     ]
    }
   ],
   "source": [
    "prompt = f\"\"\"Please suggest a recipe that tries to include \n",
    "the following ingredients: \n",
    "{food_preferences_tommy[\"favorite_ingredients\"]}.\n",
    "The recipe should adhere to the following dietary restrictions:\n",
    "{food_preferences_tommy[\"dietary_restrictions\"]}.\n",
    "The difficulty of the recipe should be: \n",
    "{food_preferences_tommy[\"experience_level\"]}\n",
    "The maximum spice level on a scale of 10 should be: \n",
    "{food_preferences_tommy[\"maximum_spice_level\"]} \n",
    "Provide a two sentence description.\n",
    "\"\"\"\n",
    "print(prompt)\n",
    "print_llm_response(prompt)"
   ]
  },
  {
   "cell_type": "code",
   "execution_count": 13,
   "id": "6cf0b068",
   "metadata": {},
   "outputs": [],
   "source": [
    "available_spices = [\"cumin\", \"turmeric\", \"oregano\", \"paprika\"]"
   ]
  },
  {
   "cell_type": "code",
   "execution_count": 14,
   "id": "f78b4d90",
   "metadata": {},
   "outputs": [
    {
     "name": "stdout",
     "output_type": "stream",
     "text": [
      "Please suggest a recipe that tries to include \n",
      "the following ingredients: \n",
      "['tofu', 'olives'].\n",
      "The recipe should adhere to the following dietary restrictions:\n",
      "vegetarian.\n",
      "The difficulty of the recipe should be: \n",
      "intermediate\n",
      "The maximum spice level on a scale of 10 should be: \n",
      "6 \n",
      "Provide a two sentence description.\n",
      "\n",
      "The recipe should not include spices outside of this list:\n",
      "Spices: ['cumin', 'turmeric', 'oregano', 'paprika']\n",
      "\n"
     ]
    }
   ],
   "source": [
    "prompt = f\"\"\"Please suggest a recipe that tries to include \n",
    "the following ingredients: \n",
    "{food_preferences_tommy[\"favorite_ingredients\"]}.\n",
    "The recipe should adhere to the following dietary restrictions:\n",
    "{food_preferences_tommy[\"dietary_restrictions\"]}.\n",
    "The difficulty of the recipe should be: \n",
    "{food_preferences_tommy[\"experience_level\"]}\n",
    "The maximum spice level on a scale of 10 should be: \n",
    "{food_preferences_tommy[\"maximum_spice_level\"]} \n",
    "Provide a two sentence description.\n",
    "\n",
    "The recipe should not include spices outside of this list:\n",
    "Spices: {available_spices}\n",
    "\"\"\"\n",
    "print(prompt)"
   ]
  },
  {
   "cell_type": "code",
   "execution_count": 15,
   "id": "0b34f348",
   "metadata": {},
   "outputs": [
    {
     "name": "stdout",
     "output_type": "stream",
     "text": [
      "Please suggest a recipe that tries to include \n",
      "the following ingredients: \n",
      "['tofu', 'olives'].\n",
      "The recipe should adhere to the following dietary restrictions:\n",
      "vegetarian.\n",
      "The difficulty of the recipe should be: \n",
      "intermediate\n",
      "The maximum spice level on a scale of 10 should be: \n",
      "6 \n",
      "Provide a step-by-step description.\n",
      "\n",
      "The recipe should not include spices outside of this list:\n",
      "Spices: ['cumin', 'turmeric', 'oregano', 'paprika']\n",
      "\n"
     ]
    }
   ],
   "source": [
    "prompt = f\"\"\"Please suggest a recipe that tries to include \n",
    "the following ingredients: \n",
    "{food_preferences_tommy[\"favorite_ingredients\"]}.\n",
    "The recipe should adhere to the following dietary restrictions:\n",
    "{food_preferences_tommy[\"dietary_restrictions\"]}.\n",
    "The difficulty of the recipe should be: \n",
    "{food_preferences_tommy[\"experience_level\"]}\n",
    "The maximum spice level on a scale of 10 should be: \n",
    "{food_preferences_tommy[\"maximum_spice_level\"]} \n",
    "Provide a step-by-step description.\n",
    "\n",
    "The recipe should not include spices outside of this list:\n",
    "Spices: {available_spices}\n",
    "\"\"\"\n",
    "print(prompt)"
   ]
  },
  {
   "cell_type": "code",
   "execution_count": 16,
   "id": "9ab67c1f",
   "metadata": {},
   "outputs": [
    {
     "name": "stdout",
     "output_type": "stream",
     "text": [
      "I’m ChatGPT—quick, concise help at your service.\n",
      "\n",
      "**Vegetarian Tofu & Olive Stir‑Fry**  \n",
      "*Intermediate | Spice level ≤ 6*  \n",
      "\n",
      "**Ingredients**  \n",
      "- 400 g firm tofu, cubed  \n",
      "- 1 cup sliced olives (green or black)  \n",
      "- 1 red bell pepper, sliced  \n",
      "- 1 small onion, sliced  \n",
      "- 2 Tbsp olive oil  \n",
      "- 1 Tbsp soy sauce (or tamari)  \n",
      "- 1 Tbsp lemon juice  \n",
      "- 1 tsp cumin  \n",
      "- ½ tsp turmeric  \n",
      "- ½ tsp oregano  \n",
      "- ½ tsp paprika  \n",
      "- Salt & pepper to taste  \n",
      "\n",
      "**Steps**  \n",
      "1. **Prep tofu** – Pat dry, then toss with ½ tsp cumin, ¼ tsp paprika, salt, pepper.  \n",
      "2. **Sear tofu** – Heat 1 Tbsp oil in a pan, fry tofu cubes until golden on all sides; set aside.  \n",
      "3. **Sauté aromatics** – In same pan, add remaining oil, onion, bell pepper; cook 3 min.  \n",
      "4. **Add olives** – Stir in olives, cook 2 min.  \n",
      "5. **Season** – Sprinkle turmeric, oregano, paprika; toss well.  \n",
      "6. **Combine** – Return tofu to pan, add soy sauce, lemon juice; stir to coat.  \n",
      "7. **Simmer** – Cook 2 min until flavors meld.  \n",
      "8. **Serve** – Plate hot, optionally garnish with fresh herbs (if desired).  \n",
      "\n",
      "Enjoy a flavorful, tofu‑rich dish that respects the spice constraints and vegetarian rule.\n"
     ]
    }
   ],
   "source": [
    "print_llm_response(prompt)"
   ]
  },
  {
   "cell_type": "code",
   "execution_count": 17,
   "id": "0e36befe",
   "metadata": {},
   "outputs": [
    {
     "name": "stdout",
     "output_type": "stream",
     "text": [
      "{'dietary_restrictions': 'vegetarian', 'favorite_ingredients': ['tofu', 'olives'], 'experience_level': 'intermediate', 'maximum_spice_level': 6, 'is_vegetarian': True}\n"
     ]
    }
   ],
   "source": [
    "food_preferences_tommy[\"is_vegetarian\"] = True\n",
    "print(food_preferences_tommy)"
   ]
  },
  {
   "cell_type": "code",
   "execution_count": null,
   "id": "dcd890fb",
   "metadata": {},
   "outputs": [],
   "source": []
  },
  {
   "cell_type": "code",
   "execution_count": null,
   "id": "420a7fde",
   "metadata": {},
   "outputs": [],
   "source": []
  }
 ],
 "metadata": {
  "kernelspec": {
   "display_name": "Python 3",
   "language": "python",
   "name": "python3"
  },
  "language_info": {
   "codemirror_mode": {
    "name": "ipython",
    "version": 3
   },
   "file_extension": ".py",
   "mimetype": "text/x-python",
   "name": "python",
   "nbconvert_exporter": "python",
   "pygments_lexer": "ipython3",
   "version": "3.13.7"
  }
 },
 "nbformat": 4,
 "nbformat_minor": 5
}
