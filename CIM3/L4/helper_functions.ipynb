{
 "cells": [
  {
   "cell_type": "code",
   "execution_count": null,
   "id": "6793f641",
   "metadata": {},
   "outputs": [],
   "source": [
    "from openai import AzureOpenAI, DefaultHttpxClient"
   ]
  },
  {
   "cell_type": "code",
   "execution_count": null,
   "id": "ccf11c43",
   "metadata": {},
   "outputs": [],
   "source": [
    "import ipywidgets as widgets\n",
    "from IPython.display import display, HTML\n",
    "import io\n",
    "import os\n",
    "import base64"
   ]
  },
  {
   "cell_type": "code",
   "execution_count": null,
   "id": "20613caa",
   "metadata": {},
   "outputs": [],
   "source": [
    "client = AzureOpenAI(\n",
    "    api_key=\"abcdefg\",\n",
    "    api_version=\"2024-02-01\",\n",
    "    azure_endpoint = \"https://cour-external-playground.openai.azure.com/\",\n",
    "    http_client=DefaultHttpxClient(verify=False)\n",
    "    )"
   ]
  },
  {
   "cell_type": "code",
   "execution_count": null,
   "id": "1b890360",
   "metadata": {},
   "outputs": [],
   "source": [
    "#\n",
    "\n",
    "# ### If you want to use your own OpenAI key, uncomment these lines below\n",
    "\n",
    "# from openai import OpenAI\n",
    "\n",
    "# ### Add your key as a string\n",
    "# openai_api_key = \"Add your key in here\"\n",
    "\n",
    "# # Set up the OpenAI client\n",
    "# client = OpenAI(api_key=openai_api_key)\n",
    "\n",
    "#"
   ]
  },
  {
   "cell_type": "code",
   "execution_count": null,
   "id": "355a172e",
   "metadata": {},
   "outputs": [],
   "source": [
    "def print_llm_response(prompt):\n",
    "    \"\"\"This function takes as input a prompt, which must be a string enclosed in quotation marks,\n",
    "    and passes it to OpenAI's GPT 4o-mini model. The function then prints the response of the model.\n",
    "    \"\"\"\n",
    "    try:\n",
    "        if not isinstance(prompt, str):\n",
    "            raise ValueError(\"Input must be a string enclosed in quotes.\")\n",
    "        completion = client.chat.completions.create(\n",
    "            model=\"gpt-4o-mini\",\n",
    "            messages=[\n",
    "                {\n",
    "                    \"role\": \"system\",\n",
    "                    \"content\": \"You are a helpful but terse AI assistant who gets straight to the point.\",\n",
    "                },\n",
    "                {\"role\": \"user\", \"content\": prompt},\n",
    "            ],\n",
    "            temperature=0.0,\n",
    "        )\n",
    "        response = completion.choices[0].message.content\n",
    "        print(response)\n",
    "    except TypeError as e:\n",
    "        print(\"Error:\", str(e))"
   ]
  },
  {
   "cell_type": "code",
   "execution_count": null,
   "id": "ba744e40",
   "metadata": {},
   "outputs": [],
   "source": [
    "def get_llm_response(prompt):\n",
    "    \"\"\"This function takes as input a prompt, which must be a string enclosed in quotation marks,\n",
    "    and passes it to OpenAI's GPT 4o-mini model. The function then saves the response of the model as\n",
    "    a string.\n",
    "    \"\"\"\n",
    "    completion = client.chat.completions.create(\n",
    "        model=\"gpt-4o-mini\",\n",
    "        messages=[\n",
    "            {\n",
    "                \"role\": \"system\",\n",
    "                \"content\": \"You are a helpful but terse AI assistant who gets straight to the point.\",\n",
    "            },\n",
    "            {\"role\": \"user\", \"content\": prompt},\n",
    "        ],\n",
    "        temperature=0.0,\n",
    "    )\n",
    "    response = completion.choices[0].message.content\n",
    "    return response"
   ]
  },
  {
   "cell_type": "code",
   "execution_count": null,
   "id": "f378e3d1",
   "metadata": {
    "lines_to_next_cell": 1
   },
   "outputs": [],
   "source": [
    "def read_journal(journal_file):\n",
    "    f = open(journal_file, \"r\")\n",
    "    journal = f.read() \n",
    "    f.close()\n",
    "    return journal"
   ]
  },
  {
   "cell_type": "code",
   "execution_count": null,
   "id": "0083f08c",
   "metadata": {
    "lines_to_next_cell": 1
   },
   "outputs": [],
   "source": [
    "def create_download_link(file_path, description):\n",
    "    with open(file_path, 'rb') as file:\n",
    "        file_data = file.read()\n",
    "        encoded_data = base64.b64encode(file_data).decode()\n",
    "        href = f'<a href=\"data:text/html;base64,{encoded_data}\" download=\"{file_path}\">{description}</a>'\n",
    "        return HTML(href)"
   ]
  },
  {
   "cell_type": "code",
   "execution_count": null,
   "id": "a4659728",
   "metadata": {},
   "outputs": [],
   "source": [
    "def download_file():\n",
    "    \"\"\"\n",
    "    Creates a widget to download a file from the working directory.\n",
    "    \"\"\"\n",
    "    # Text input to specify the file name\n",
    "    file_name_input = widgets.Text(\n",
    "        value='',\n",
    "        placeholder='Enter file name',\n",
    "        description='File:',\n",
    "        disabled=False\n",
    "    )\n",
    "    \n",
    "    # Button to initiate the download\n",
    "    download_button = widgets.Button(\n",
    "        description='Download',\n",
    "        disabled=False,\n",
    "        button_style='', # 'success', 'info', 'warning', 'danger' or ''\n",
    "        tooltip='Download the specified file',\n",
    "        icon='download' # (FontAwesome names without the `fa-` prefix)\n",
    "    )\n",
    "    \n",
    "    # Output widget to display the download link\n",
    "    output = widgets.Output()\n",
    "\n",
    "    def on_button_click(b):\n",
    "        with output:\n",
    "            output.clear_output()\n",
    "            file_name = file_name_input.value\n",
    "            if (not file_name.startswith('.') and not file_name.startswith('_')):\n",
    "                try:\n",
    "                    download_link = create_download_link(file_name, 'Click here to download your file')\n",
    "                    display(download_link)\n",
    "                except Exception as e:\n",
    "                    print(f\"Error: {e}\")\n",
    "            else:\n",
    "                print(\"Please enter a valid file name.\")\n",
    "    \n",
    "    # Attach the button click event to the handler\n",
    "    download_button.on_click(on_button_click)\n",
    "    \n",
    "    # Display the widgets\n",
    "    display(widgets.HBox([file_name_input, download_button]), output)"
   ]
  }
 ],
 "metadata": {
  "jupytext": {
   "cell_metadata_filter": "-all",
   "notebook_metadata_filter": "-all",
   "text_representation": {
    "extension": ".py",
    "format_name": "light"
   }
  },
  "kernelspec": {
   "display_name": "Python 3 (ipykernel)",
   "language": "python",
   "name": "python3"
  }
 },
 "nbformat": 4,
 "nbformat_minor": 5
}
