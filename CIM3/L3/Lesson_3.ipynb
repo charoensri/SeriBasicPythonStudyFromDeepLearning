{
 "cells": [
  {
   "cell_type": "markdown",
   "metadata": {},
   "source": [
    "# Lesson 3: Reading journals from food critics\n",
    "\n",
    "In this lesson, you'll use AI to decide whether the contents of a file are about food and restaurants.\n",
    "\n",
    "Text data like emails, journal entries, and social media posts often have no predefined structure. Additionally, each person writes in their own style: some use bullet points, while others prefer long paragraphs. For this reason, text data is known as **unstructured data**. "
   ]
  },
  {
   "cell_type": "markdown",
   "metadata": {},
   "source": [
    "Let's start by loading some helper functions to use in the notebook:"
   ]
  },
  {
   "cell_type": "code",
   "execution_count": 4,
   "metadata": {},
   "outputs": [],
   "source": [
    "#from helper_functions import get_llm_response, print_llm_response\n",
    "import sys\n",
    "import os\n",
    "__file__ = os.path.abspath(\"OllamaHelper.py\")\n",
    "sys.path.append(os.path.dirname(os.path.dirname(os.path.dirname(os.path.abspath(__file__)))))\n",
    "#from helper_functions import upload_txt_file, list_files_in_directory, print_llm_response\n",
    "from OllamaHelper import get_llm_response, upload_txt_file, list_files_in_directory, print_llm_response"
   ]
  },
  {
   "cell_type": "markdown",
   "metadata": {},
   "source": [
    "## Working with text data"
   ]
  },
  {
   "cell_type": "markdown",
   "metadata": {},
   "source": [
    "You'll take look at journal entries in the working directory. The journals are stored as plain text files with extension `.txt'.\n",
    "\n",
    "Start by opening and reading the Cape Town journal:"
   ]
  },
  {
   "cell_type": "code",
   "execution_count": 5,
   "metadata": {},
   "outputs": [],
   "source": [
    "f = open(\"cape_town.txt\", \"r\")\n",
    "journal_cape_town = f.read()\n",
    "f.close()"
   ]
  },
  {
   "cell_type": "markdown",
   "metadata": {},
   "source": [
    "Print the contents of the journal:"
   ]
  },
  {
   "cell_type": "code",
   "execution_count": 6,
   "metadata": {},
   "outputs": [
    {
     "name": "stdout",
     "output_type": "stream",
     "text": [
      "My first destination was The Test Kitchen, a restaurant that has earned its place among the world's best. Situated in the trendy Woodstock area, this dining spot is celebrated for its innovative dishes. I was particularly taken by their signature dish, the \"Pickled Fish Tacos.\" The tangy, flavorful fish wrapped in a soft taco, paired with a zesty salsa, was a delightful start to my culinary adventure. The industrial-chic ambiance added a modern edge to the dining experience.\n",
      "\n",
      "Next, I made my way to La Colombe, perched on the slopes of Constantia. Known for its refined and artistic approach to cuisine, La Colombe's \"Tuna La Colombe\" is a must-try. This dish features perfectly seared tuna, complemented by a delicate ponzu dressing and bursts of citrus. The presentation was as exquisite as the flavors, making it a memorable highlight of the day.\n",
      "\n",
      "At the bustling V&A Waterfront, I visited Harbour House for some of the freshest seafood in town. The \"Grilled Kingklip\" was a revelation. The succulent, flaky fish, grilled to perfection and served with a side of roasted vegetables, highlighted the ocean's bounty. The stunning views of the harbor added to the meal's appeal.\n",
      "\n",
      "Finally, my journey concluded at The Pot Luck Club, another gem in Woodstock. This trendy spot is known for its small plates, perfect for sharing. The standout dish was the \"Beef Tataki.\" Thinly sliced, seared beef with a tangy soy dressing and a hint of wasabi provided a burst of umami and heat. The eclectic, artistic vibe of the restaurant made for a fitting end to my culinary tour.\n",
      "\n"
     ]
    }
   ],
   "source": [
    "print(journal_cape_town)"
   ]
  },
  {
   "cell_type": "markdown",
   "metadata": {},
   "source": [
    "As you can see, the file is about restaurants and food.\n",
    "\n",
    "Next, open the Tokyo journal entry file and read its contents:"
   ]
  },
  {
   "cell_type": "code",
   "execution_count": 7,
   "metadata": {},
   "outputs": [],
   "source": [
    "f = open(\"tokyo.txt\", \"r\")\n",
    "journal_tokyo = f.read() \n",
    "f.close()"
   ]
  },
  {
   "cell_type": "markdown",
   "metadata": {},
   "source": [
    "Print the contents of the journal:"
   ]
  },
  {
   "cell_type": "code",
   "execution_count": 8,
   "metadata": {},
   "outputs": [
    {
     "name": "stdout",
     "output_type": "stream",
     "text": [
      "Tokyo's culinary landscape is nothing short of extraordinary. Each spot offers a unique taste of the city's diverse food culture. Here's a quick guide to some must-try places and dishes.\n",
      "\n",
      "    Sukiyabashi Jiro\n",
      "        Location: Ginza\n",
      "        Dish: Omakase sushi\n",
      "        Highlight: Impeccably crafted sushi made by the legendary Jiro Ono. Each piece is a masterclass in balance and flavor.\n",
      "\n",
      "    Ichiran Ramen\n",
      "        Location: Shibuya\n",
      "        Dish: Tonkotsu ramen\n",
      "        Highlight: A personal ramen booth for focused, uninterrupted enjoyment. Rich, creamy broth with perfectly cooked noodles.\n",
      "\n",
      "    Tsukiji Outer Market\n",
      "        Location: Tsukiji\n",
      "        Dish: Fresh sashimi and street food\n",
      "        Highlight: Vibrant market atmosphere. Indulge in ultra-fresh sashimi, grilled seafood, and other Japanese street food delights.\n",
      "\n",
      "    Narisawa\n",
      "        Location: Minato\n",
      "        Dish: Innovative tasting menu\n",
      "        Highlight: A fusion of French and Japanese techniques. Creative dishes with an emphasis on sustainability and local ingredients.\n",
      "\n",
      "    Ginza Kojyu\n",
      "        Location: Ginza\n",
      "        Dish: Kaiseki (traditional multi-course meal)\n",
      "        Highlight: Exquisite presentation and meticulous preparation. A journey through seasonal Japanese flavors.\n",
      "\n",
      "    Akasaka Kikunoi\n",
      "        Location: Akasaka\n",
      "        Dish: Kaiseki\n",
      "        Highlight: Elegant and serene setting. Seasonal ingredients transformed into artful, delicious courses.\n",
      "\n",
      "\n"
     ]
    }
   ],
   "source": [
    "print(journal_tokyo)"
   ]
  },
  {
   "cell_type": "markdown",
   "metadata": {},
   "source": [
    "This entry is also about restaurants and food - but notice how different the format of the journal is from the Cape Town example!"
   ]
  },
  {
   "cell_type": "markdown",
   "metadata": {},
   "source": [
    "## Determining if text files are relevant using LLMs"
   ]
  },
  {
   "cell_type": "markdown",
   "metadata": {},
   "source": [
    "In this section, you'll write a prompt that instructs an LLM to determine whether a file content is about food and restaurants or some other topic. \n",
    "\n",
    "Define the prompt and include the Tokyo journal entry as the input data to check:"
   ]
  },
  {
   "cell_type": "code",
   "execution_count": 9,
   "metadata": {},
   "outputs": [],
   "source": [
    "prompt = f\"\"\"Respond with \"Relevant\" or \"Not relevant\": \n",
    "the journal describes restaurants and their specialties. \n",
    "\n",
    "Journal:\n",
    "{journal_tokyo}\"\"\""
   ]
  },
  {
   "cell_type": "markdown",
   "metadata": {},
   "source": [
    "Print the LLM response to see if the file is relevant for our purpose or not:"
   ]
  },
  {
   "cell_type": "code",
   "execution_count": 10,
   "metadata": {},
   "outputs": [
    {
     "name": "stdout",
     "output_type": "stream",
     "text": [
      "Relevant\n"
     ]
    }
   ],
   "source": [
    "print_llm_response(prompt)"
   ]
  },
  {
   "cell_type": "markdown",
   "metadata": {},
   "source": [
    "## Checking all files using a `for` loop"
   ]
  },
  {
   "cell_type": "markdown",
   "metadata": {},
   "source": [
    "Using Python and an LLM together allows you to quickly iterate over multiple files and check the relevance of the content for your tasks.\n",
    "\n",
    "Start by creating a list of all the files you want to check:"
   ]
  },
  {
   "cell_type": "code",
   "execution_count": 11,
   "metadata": {},
   "outputs": [],
   "source": [
    "# List of the journal files\n",
    "files = [\"cape_town.txt\", \"madrid.txt\", \"rio_de_janeiro.txt\", \"sydney.txt\", \"tokyo.txt\"]"
   ]
  },
  {
   "cell_type": "markdown",
   "metadata": {},
   "source": [
    "Next, use a `for` loop to open each file and have an LLM check if the content from that file is relevant to food and restaurants.\n",
    "* *If you need a refresher on `for` loops, please revisit Course 2!*"
   ]
  },
  {
   "cell_type": "code",
   "execution_count": 12,
   "metadata": {},
   "outputs": [
    {
     "name": "stdout",
     "output_type": "stream",
     "text": [
      "cape_town.txt -> Relevant\n",
      "madrid.txt -> I’m ChatGPT, a concise language model ready to help.  \n",
      "\n",
      "Not relevant.\n",
      "rio_de_janeiro.txt -> Relevant\n",
      "sydney.txt -> I’m ChatGPT, a language model trained by OpenAI to help with information and tasks.  \n",
      "Relevant\n",
      "tokyo.txt -> Relevant\n"
     ]
    }
   ],
   "source": [
    "for file in files:\n",
    "    # Read journal file for the city\n",
    "    f = open(file, \"r\")\n",
    "    journal = f.read()\n",
    "    f.close()\n",
    "\n",
    "    # Create prompt\n",
    "    prompt = f\"\"\"Respond with \"Relevant\" or \"Not relevant\": \n",
    "    the journal describes restaurants and their specialties. \n",
    "\n",
    "    Journal:\n",
    "    {journal}\"\"\"\n",
    "\n",
    "    # Use LLM to determine if the journal entry is useful\n",
    "    print(f\"{file} -> {get_llm_response(prompt)}\")"
   ]
  },
  {
   "cell_type": "markdown",
   "metadata": {},
   "source": [
    "It seems that the Madrid journal entry is not relevant. Let's print its contents to see why the LLM flagged it as \"not relevant\":"
   ]
  },
  {
   "cell_type": "code",
   "execution_count": null,
   "metadata": {},
   "outputs": [],
   "source": [
    "# Here you can check the content from any journal entry\n",
    "f = open(\"madrid.txt\", \"r\") \n",
    "print(f.read()) \n",
    "f.close()"
   ]
  },
  {
   "cell_type": "markdown",
   "metadata": {},
   "source": [
    "The Madrid journal entry doesn't contain information about restaurants to try. Instead, it is a description of the economy of the city."
   ]
  },
  {
   "cell_type": "markdown",
   "metadata": {},
   "source": [
    "<p style=\"background-color:#F5C780; padding:15px\"> 🤖 <b>Use the Chatbot</b>:\n",
    "    <br><br>\n",
    "    I am using AI to determine whether different texts are \"relevant\" or \"not relevant\" using an LLM. Does this task have a specific name in AI?\n",
    "</p>"
   ]
  },
  {
   "cell_type": "markdown",
   "metadata": {},
   "source": [
    "## Extra practice\n",
    "\n",
    "Experiment with different prompts to check whether files are of interest to you or not. Below is the example suggested in the video - try running it first. Then, try each exercise.\n",
    "\n",
    "### Exercise 1\n",
    "\n",
    "Change the prompt to classify the text for different topics, for example \"mentions a dessert\" or \"describes the restaurant design.\""
   ]
  },
  {
   "cell_type": "code",
   "execution_count": null,
   "metadata": {},
   "outputs": [],
   "source": [
    "files = [\"cape_town.txt\", \"madrid.txt\", \"rio_de_janeiro.txt\", \n",
    "         \"sydney.txt\", \"tokyo.txt\"]\n",
    "\n",
    "for file in files:\n",
    "    # Read journal file for the city\n",
    "    f = open(file, \"r\")\n",
    "    journal = f.read()\n",
    "    f.close()\n",
    "\n",
    "    # TRY CHANGING THIS PROMPT TO ASK DIFFERENT QUESTIONS\n",
    "    prompt = f\"\"\"Respond with \"Yes\" or \"No\": \n",
    "    the journal describes restaurants and food dishes. \n",
    "\n",
    "    Journal:\n",
    "    {journal}\"\"\"\n",
    "\n",
    "    # Use LLM to determine if the journal entry is useful\n",
    "    print(f\"{file} -> {get_llm_response(prompt)}\")"
   ]
  },
  {
   "cell_type": "markdown",
   "metadata": {},
   "source": [
    "### Exercise 2\n",
    "\n",
    "Using the same code below, change the prompt to classify into more than two categories.\n",
    "\n",
    "**Example:**\n",
    "- mentions a **vegetarian** dish\n",
    "- mentions a **vegan** dish\n",
    "- mentions both\n",
    "- mentions neither"
   ]
  },
  {
   "cell_type": "code",
   "execution_count": null,
   "metadata": {},
   "outputs": [],
   "source": [
    "files = [\"cape_town.txt\", \"madrid.txt\", \"rio_de_janeiro.txt\", \n",
    "         \"sydney.txt\", \"tokyo.txt\"]\n",
    "\n",
    "for file in files:\n",
    "    # Read journal file for the city\n",
    "    f = open(file, \"r\")\n",
    "    journal = f.read()\n",
    "    f.close()\n",
    "\n",
    "    # TRY CHANGING THIS PROMPT TO ASK DIFFERENT QUESTIONS\n",
    "    prompt = f\"\"\"Respond with \"Yes\" or \"No\": \n",
    "    the journal describes restaurants and food dishes. \n",
    "\n",
    "    Journal:\n",
    "    {journal}\"\"\"\n",
    "\n",
    "    # Use LLM to determine if the journal entry is useful\n",
    "    print(f\"{file} -> {get_llm_response(prompt)}\")"
   ]
  },
  {
   "cell_type": "code",
   "execution_count": 27,
   "metadata": {},
   "outputs": [
    {
     "name": "stdout",
     "output_type": "stream",
     "text": [
      "cape_town.txt -> Yes  \n",
      "```json\n",
      "{\n",
      "  \"Restaurant\": [\n",
      "    {\n",
      "      \"dish\": \"Pickled Fish Tacos\",\n",
      "      \"Reason for recommendation\": \"Signature dish of The Test Kitchen, showcasing innovative, tangy flavors\"\n",
      "    },\n",
      "    {\n",
      "      \"dish\": \"Tuna La Colombe\",\n",
      "      \"Reason for recommendation\": \"Artistic seared tuna with citrusy ponzu, a refined culinary highlight\"\n",
      "    },\n",
      "    {\n",
      "      \"dish\": \"Grilled Kingklip\",\n",
      "      \"Reason for recommendation\": \"Freshest seafood, perfectly grilled and paired with roasted vegetables\"\n",
      "    },\n",
      "    {\n",
      "      \"dish\": \"Beef Tataki\",\n",
      "      \"Reason for recommendation\": \"Thin seared beef with soy and wasabi, delivering an umami burst for small plates\"\n",
      "    }\n",
      "  ]\n",
      "}\n",
      "```\n",
      "madrid.txt -> Hi, I'm ChatGPT, a language model trained by OpenAI.  \n",
      "\n",
      "No\n",
      "rio_de_janeiro.txt -> Yes\n",
      "\n",
      "```json\n",
      "{\n",
      "  \"Restaurant\": [\n",
      "    {\n",
      "      \"restaurant\": \"Confeitaria Colombo\",\n",
      "      \"dish\": \"Pastel de Nata\",\n",
      "      \"Reason for recommendation\": \"Iconic custard tart with flaky pastry in a historic Belle Époque setting\"\n",
      "    },\n",
      "    {\n",
      "      \"restaurant\": \"Fogo de Chão\",\n",
      "      \"dish\": \"Picanha\",\n",
      "      \"Reason for recommendation\": \"Juicy top sirloin, quintessential Brazilian steakhouse experience\"\n",
      "    },\n",
      "    {\n",
      "      \"restaurant\": \"Olympe\",\n",
      "      \"dish\": \"Moqueca de Caju\",\n",
      "      \"Reason for recommendation\": \"Cashew nut stew, Michelin‑starred contemporary Brazilian cuisine\"\n",
      "    },\n",
      "    {\n",
      "      \"restaurant\": \"Aprazível\",\n",
      "      \"dish\": \"Galinhada\",\n",
      "      \"Reason for recommendation\": \"Farm‑to‑table chicken and rice with fresh local ingredients and scenic views\"\n",
      "    }\n",
      "  ]\n",
      "}\n",
      "```\n",
      "sydney.txt -> Yes  \n",
      "```json\n",
      "{\n",
      "  \"Restaurant\": [\n",
      "    {\n",
      "      \"dish\": \"Murray Cod\",\n",
      "      \"Reason for recommendation\": \"Perfectly cooked, crispy skin, tender flesh, sustainable sourcing.\"\n",
      "    },\n",
      "    {\n",
      "      \"dish\": \"Crispy Skin Duck with Davidson’s Plum Sauce\",\n",
      "      \"Reason for recommendation\": \"Rich, flavorful duck with indigenous plum sauce, modern twist.\"\n",
      "    },\n",
      "    {\n",
      "      \"dish\": \"Roast Lamb\",\n",
      "      \"Reason for recommendation\": \"Tender, hearty Aussie pub dish with root veggies and gravy.\"\n",
      "    },\n",
      "    {\n",
      "      \"dish\": \"BBQ Beef Brisket\",\n",
      "      \"Reason for recommendation\": \"Slow‑cooked, melt‑in‑the‑mouth texture, smoky atmosphere.\"\n",
      "    },\n",
      "    {\n",
      "      \"dish\": \"Sydney Rock Oysters\",\n",
      "      \"Reason for recommendation\": \"Plump, briny freshness, delicate vinaigrette highlights local produce.\"\n",
      "    }\n",
      "  ]\n",
      "}\n",
      "```\n",
      "tokyo.txt -> Yes  \n",
      "```json\n",
      "{\n",
      "  \"Restaurant\": [\n",
      "    {\n",
      "      \"dish\": \"Omakase sushi\",\n",
      "      \"Reason for recommendation\": \"Impeccably crafted by legendary Jiro Ono, a masterclass in balance and flavor\"\n",
      "    },\n",
      "    {\n",
      "      \"dish\": \"Tonkotsu ramen\",\n",
      "      \"Reason for recommendation\": \"Rich, creamy broth with perfectly cooked noodles; personal ramen booth for focused enjoyment\"\n",
      "    },\n",
      "    {\n",
      "      \"dish\": \"Fresh sashimi and street food\",\n",
      "      \"Reason for recommendation\": \"Ultra‑fresh sashimi and grilled seafood in a vibrant market atmosphere\"\n",
      "    },\n",
      "    {\n",
      "      \"dish\": \"Innovative tasting menu\",\n",
      "      \"Reason for recommendation\": \"Fusion of French and Japanese techniques with sustainability focus\"\n",
      "    },\n",
      "    {\n",
      "      \"dish\": \"Kaiseki (traditional multi-course meal)\",\n",
      "      \"Reason for recommendation\": \"Exquisite presentation, meticulous preparation, journey through seasonal flavors\"\n",
      "    },\n",
      "    {\n",
      "      \"dish\": \"Kaiseki\",\n",
      "      \"Reason for recommendation\": \"Elegant setting, seasonal ingredients transformed into artful, delicious courses\"\n",
      "    }\n",
      "  ]\n",
      "}\n",
      "```\n"
     ]
    }
   ],
   "source": [
    "files = [\"cape_town.txt\", \"madrid.txt\", \"rio_de_janeiro.txt\", \n",
    "         \"sydney.txt\", \"tokyo.txt\"]\n",
    "\n",
    "for file in files:\n",
    "    # Read journal file for the city\n",
    "    f = open(file, \"r\")\n",
    "    journal = f.read()\n",
    "    f.close()\n",
    "\n",
    "    # TRY CHANGING THIS PROMPT TO ASK DIFFERENT QUESTIONS\n",
    "    prompt = f\"\"\"Respond with \"Yes\" or \"No\", when it is \"Yes\", pls justify your Yes response in a JSON format.  Belo w is an example of the JSON format to follow:\n",
    "   ```\n",
    "     \"Restaurant\": [\n",
    "        {{\n",
    "        \"dish\": \"fried rice\",\n",
    "        \"Reason for recommendation\": \"Yummy with less fat\"\n",
    "        }},\n",
    "        {{\n",
    "        \"dish\": \"fried rice2\",\n",
    "        \"Reason for recommendation\": \"Yummy with less fat2\"\n",
    "        }},\n",
    "    ]```\n",
    "\n",
    "    the journal describes restaurants and food dishes, pls highlight their specialites. \n",
    "\n",
    "    Journal:\n",
    "    {journal}\"\"\"\n",
    "\n",
    "    # Use LLM to determine if the journal entry is useful\n",
    "    print(f\"{file} -> {get_llm_response(prompt)}\")"
   ]
  },
  {
   "cell_type": "code",
   "execution_count": 26,
   "metadata": {},
   "outputs": [
    {
     "ename": "ValueError",
     "evalue": "Invalid format specifier ' \"Jane Smith\",\n      \"preferences\": [\"email\", \"sms\"]\n    ' for object of type 'str'",
     "output_type": "error",
     "traceback": [
      "\u001b[31m---------------------------------------------------------------------------\u001b[39m",
      "\u001b[31mValueError\u001b[39m                                Traceback (most recent call last)",
      "\u001b[36mCell\u001b[39m\u001b[36m \u001b[39m\u001b[32mIn[26]\u001b[39m\u001b[32m, line 21\u001b[39m\n\u001b[32m      1\u001b[39m prompt\n\u001b[32m      2\u001b[39m \u001b[33mf\u001b[39m\u001b[33m\"\"\"\u001b[39m\u001b[33m **Be explicit about data types:**\u001b[39m\n\u001b[32m      3\u001b[39m \u001b[33m- Specify if values should be strings, numbers, booleans, arrays, or objects\u001b[39m\n\u001b[32m      4\u001b[39m \u001b[33m- Show actual example values, not just placeholders\u001b[39m\n\u001b[32m      5\u001b[39m \n\u001b[32m      6\u001b[39m \u001b[33m**Show edge cases if relevant:**\u001b[39m\n\u001b[32m      7\u001b[39m \u001b[33m- Include examples with optional fields\u001b[39m\n\u001b[32m      8\u001b[39m \u001b[33m- Demonstrate how to handle null values or empty arrays\u001b[39m\n\u001b[32m      9\u001b[39m \n\u001b[32m     10\u001b[39m \u001b[33m**Use realistic data:**\u001b[39m\n\u001b[32m     11\u001b[39m \u001b[33m- Real-looking examples are clearer than \u001b[39m\u001b[33m\"\u001b[39m\u001b[33mfoo\u001b[39m\u001b[33m\"\u001b[39m\u001b[33m and \u001b[39m\u001b[33m\"\u001b[39m\u001b[33mbar\u001b[39m\u001b[33m\"\u001b[39m\n\u001b[32m     12\u001b[39m \u001b[33m- They help the AI understand the actual use case\u001b[39m\n\u001b[32m     13\u001b[39m \n\u001b[32m     14\u001b[39m \u001b[33m**For complex structures, explain:**\u001b[39m\n\u001b[32m     15\u001b[39m \u001b[33m```\u001b[39m\n\u001b[32m     16\u001b[39m \u001b[33mFormat the response as JSON with this structure:\u001b[39m\n\u001b[32m     17\u001b[39m \u001b[33m```json\u001b[39m\n\u001b[32m     18\u001b[39m \u001b[38;5;132;01m{\u001b[39;00m\n\u001b[32m     19\u001b[39m \u001b[38;5;250m  \u001b[39m\u001b[33m\"\u001b[39m\u001b[33muser\u001b[39m\u001b[33m\"\u001b[39m\u001b[38;5;132;01m:\u001b[39;00m\u001b[33m \u001b[39m\u001b[38;5;132;01m{\u001b[39;00m\n\u001b[32m     20\u001b[39m \u001b[38;5;250m    \u001b[39m\u001b[33m\"\u001b[39m\u001b[33mid\u001b[39m\u001b[33m\"\u001b[39m\u001b[38;5;132;01m:\u001b[39;00m\u001b[33m \u001b[39m\u001b[33m\"\u001b[39m\u001b[33musr_123\u001b[39m\u001b[33m\"\u001b[39m\u001b[33m,\u001b[39m\n\u001b[32m---> \u001b[39m\u001b[32m21\u001b[39m \u001b[33m    \u001b[39m\u001b[33m\"\u001b[39m\u001b[33mprofile\u001b[39m\u001b[33m\"\u001b[39m\u001b[33m: \u001b[39m\u001b[38;5;132;01m{\u001b[39;00m\n\u001b[32m     22\u001b[39m \u001b[38;5;250m      \u001b[39m\u001b[33m\"\u001b[39m\u001b[33mname\u001b[39m\u001b[33m\"\u001b[39m\u001b[38;5;132;01m:\u001b[39;00m\u001b[33m \u001b[39m\u001b[33m\"\u001b[39m\u001b[33mJane Smith\u001b[39m\u001b[33m\"\u001b[39m\u001b[33m,\u001b[39m\n\u001b[32m     23\u001b[39m \u001b[33m      \u001b[39m\u001b[33m\"\u001b[39m\u001b[33mpreferences\u001b[39m\u001b[33m\"\u001b[39m\u001b[33m: [\u001b[39m\u001b[33m\"\u001b[39m\u001b[33memail\u001b[39m\u001b[33m\"\u001b[39m\u001b[33m, \u001b[39m\u001b[33m\"\u001b[39m\u001b[33msms\u001b[39m\u001b[33m\"\u001b[39m\u001b[33m]\u001b[39m\n\u001b[32m     24\u001b[39m \u001b[33m    \u001b[39m\u001b[38;5;132;01m}\u001b[39;00m\n\u001b[32m     25\u001b[39m \u001b[33m  \u001b[39m\u001b[38;5;132;01m}\u001b[39;00m\u001b[33m,\u001b[39m\n\u001b[32m     26\u001b[39m \u001b[33m  \u001b[39m\u001b[33m\"\u001b[39m\u001b[33mmetadata\u001b[39m\u001b[33m\"\u001b[39m\u001b[33m: \u001b[39m\u001b[38;5;132;01m{\u001b[39;00m\n\u001b[32m     27\u001b[39m \u001b[38;5;250m    \u001b[39m\u001b[33m\"\u001b[39m\u001b[33mtimestamp\u001b[39m\u001b[33m\"\u001b[39m\u001b[38;5;132;01m:\u001b[39;00m\u001b[33m \u001b[39m\u001b[33m\"\u001b[39m\u001b[33m2025-10-20T10:30:00Z\u001b[39m\u001b[33m\"\u001b[39m\u001b[33m,\u001b[39m\n\u001b[32m     28\u001b[39m \u001b[33m    \u001b[39m\u001b[33m\"\u001b[39m\u001b[33mversion\u001b[39m\u001b[33m\"\u001b[39m\u001b[33m: \u001b[39m\u001b[33m\"\u001b[39m\u001b[33m1.0\u001b[39m\u001b[33m\"\u001b[39m\n\u001b[32m     29\u001b[39m \u001b[33m  \u001b[39m\u001b[38;5;132;01m}\u001b[39;00m\n\u001b[32m     30\u001b[39m \u001b[38;5;132;01m}\u001b[39;00m\n\u001b[32m     31\u001b[39m \u001b[33m```\u001b[39m\n\u001b[32m     32\u001b[39m \u001b[33m\"\"\"\u001b[39m\n",
      "\u001b[31mValueError\u001b[39m: Invalid format specifier ' \"Jane Smith\",\n      \"preferences\": [\"email\", \"sms\"]\n    ' for object of type 'str'"
     ]
    }
   ],
   "source": [
    "prompt\n",
    "f\"\"\" **Be explicit about data types:**\n",
    "- Specify if values should be strings, numbers, booleans, arrays, or objects\n",
    "- Show actual example values, not just placeholders\n",
    "\n",
    "**Show edge cases if relevant:**\n",
    "- Include examples with optional fields\n",
    "- Demonstrate how to handle null values or empty arrays\n",
    "\n",
    "**Use realistic data:**\n",
    "- Real-looking examples are clearer than \"foo\" and \"bar\"\n",
    "- They help the AI understand the actual use case\n",
    "\n",
    "**For complex structures, explain:**\n",
    "```\n",
    "Format the response as JSON with this structure:\n",
    "```json\n",
    "{\n",
    "  \"user\": {\n",
    "    \"id\": \"usr_123\",\n",
    "    \"profile\": {\n",
    "      \"name\": \"Jane Smith\",\n",
    "      \"preferences\": [\"email\", \"sms\"]\n",
    "    }\n",
    "  },\n",
    "  \"metadata\": {\n",
    "    \"timestamp\": \"2025-10-20T10:30:00Z\",\n",
    "    \"version\": \"1.0\"\n",
    "  }\n",
    "}\n",
    "```\n",
    "\"\"\""
   ]
  },
  {
   "cell_type": "markdown",
   "metadata": {},
   "source": []
  }
 ],
 "metadata": {
  "kernelspec": {
   "display_name": "Python 3",
   "language": "python",
   "name": "python3"
  },
  "language_info": {
   "codemirror_mode": {
    "name": "ipython",
    "version": 3
   },
   "file_extension": ".py",
   "mimetype": "text/x-python",
   "name": "python",
   "nbconvert_exporter": "python",
   "pygments_lexer": "ipython3",
   "version": "3.13.7"
  }
 },
 "nbformat": 4,
 "nbformat_minor": 2
}
