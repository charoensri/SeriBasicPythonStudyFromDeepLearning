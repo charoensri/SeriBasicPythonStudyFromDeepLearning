{
 "cells": [
  {
   "cell_type": "markdown",
   "metadata": {},
   "source": [
    "# Lesson 5: Vacation planning using CSV files\n",
    "\n",
    "In this lesson you'll learn to read in and work with data stored in CSV format. Data of this type looks like a table with rows and columns, and is referred to by programmers as **structured data**.\n",
    "\n",
    "As always, begin by loading the helper functions you'll use:"
   ]
  },
  {
   "cell_type": "code",
   "execution_count": 16,
   "metadata": {},
   "outputs": [],
   "source": [
    "import sys\n",
    "import os\n",
    "__file__ = os.path.abspath(\"OllamaHelper.py\")\n",
    "sys.path.append(os.path.dirname(os.path.dirname(os.path.dirname(os.path.abspath(__file__)))))\n",
    "#from helper_functions import upload_txt_file, list_files_in_directory, print_llm_response\n",
    "from OllamaHelper import *\n",
    "import csv\n",
    "from IPython.display import Markdown"
   ]
  },
  {
   "cell_type": "code",
   "execution_count": null,
   "metadata": {},
   "outputs": [],
   "source": [
    "# Imports\n",
    "#from helper_functions import get_llm_response, print_llm_response, display_table\n",
    "#from IPython.display import Markdown\n",
    "#import csv"
   ]
  },
  {
   "cell_type": "markdown",
   "metadata": {},
   "source": [
    "Note that `import csv` here is new. Don't worry about the details for now, but this line of code will be used later to read in CSV data. You'll learn more about this code in Course 4."
   ]
  },
  {
   "cell_type": "markdown",
   "metadata": {},
   "source": [
    "## Loading data from a CSV file"
   ]
  },
  {
   "cell_type": "markdown",
   "metadata": {},
   "source": [
    "You'll use the file ```itinerary.csv```, which has information about arrival and departure dates for each destination in a trip around the world.\n",
    "\n",
    "Here is the code to load the file - the first part is the same as you've been using up to this point:"
   ]
  },
  {
   "cell_type": "code",
   "execution_count": 2,
   "metadata": {},
   "outputs": [],
   "source": [
    "f = open(\"itinerary.csv\", 'r')"
   ]
  },
  {
   "cell_type": "markdown",
   "metadata": {},
   "source": [
    "The next part, where you read the data in from the file, is different because you are now reading in a CSV file:"
   ]
  },
  {
   "cell_type": "code",
   "execution_count": 3,
   "metadata": {},
   "outputs": [
    {
     "name": "stdout",
     "output_type": "stream",
     "text": [
      "{'Arrival': 'July-01', 'Departure': 'July-08', 'City': 'New York', 'Country': 'USA'}\n",
      "{'Arrival': 'July-09', 'Departure': 'July-16', 'City': 'Rio de Janeiro', 'Country': 'Brazil'}\n",
      "{'Arrival': 'July-17', 'Departure': 'July-24', 'City': 'Cape Town', 'Country': 'South Africa'}\n",
      "{'Arrival': 'July-25', 'Departure': 'August-01', 'City': 'Istanbul', 'Country': 'Turkey'}\n",
      "{'Arrival': 'August-02', 'Departure': 'August-09', 'City': 'Paris', 'Country': 'France'}\n",
      "{'Arrival': 'August-10', 'Departure': 'August-17', 'City': 'Tokyo', 'Country': 'Japan'}\n",
      "{'Arrival': 'August-18', 'Departure': 'August-25', 'City': 'Sydney', 'Country': 'Australia'}\n"
     ]
    }
   ],
   "source": [
    "csv_reader = csv.DictReader(f)\n",
    "itinerary = []\n",
    "for row in csv_reader:\n",
    "    print(row)\n",
    "    itinerary.append(row)"
   ]
  },
  {
   "cell_type": "markdown",
   "metadata": {},
   "source": [
    "Now close the file:"
   ]
  },
  {
   "cell_type": "code",
   "execution_count": 4,
   "metadata": {},
   "outputs": [],
   "source": [
    "f.close()"
   ]
  },
  {
   "cell_type": "markdown",
   "metadata": {},
   "source": [
    "You can print the itinerary to view it's content and use the `type` function to check the datatype:"
   ]
  },
  {
   "cell_type": "code",
   "execution_count": 5,
   "metadata": {},
   "outputs": [
    {
     "name": "stdout",
     "output_type": "stream",
     "text": [
      "[{'Arrival': 'July-01', 'Departure': 'July-08', 'City': 'New York', 'Country': 'USA'}, {'Arrival': 'July-09', 'Departure': 'July-16', 'City': 'Rio de Janeiro', 'Country': 'Brazil'}, {'Arrival': 'July-17', 'Departure': 'July-24', 'City': 'Cape Town', 'Country': 'South Africa'}, {'Arrival': 'July-25', 'Departure': 'August-01', 'City': 'Istanbul', 'Country': 'Turkey'}, {'Arrival': 'August-02', 'Departure': 'August-09', 'City': 'Paris', 'Country': 'France'}, {'Arrival': 'August-10', 'Departure': 'August-17', 'City': 'Tokyo', 'Country': 'Japan'}, {'Arrival': 'August-18', 'Departure': 'August-25', 'City': 'Sydney', 'Country': 'Australia'}]\n"
     ]
    }
   ],
   "source": [
    "print(itinerary)"
   ]
  },
  {
   "cell_type": "code",
   "execution_count": 6,
   "metadata": {},
   "outputs": [
    {
     "data": {
      "text/plain": [
       "list"
      ]
     },
     "execution_count": 6,
     "metadata": {},
     "output_type": "execute_result"
    }
   ],
   "source": [
    "type(itinerary)"
   ]
  },
  {
   "cell_type": "markdown",
   "metadata": {},
   "source": [
    "Now take a look at the first item\n",
    "* Remember the first item in a list has index 0"
   ]
  },
  {
   "cell_type": "code",
   "execution_count": 7,
   "metadata": {},
   "outputs": [
    {
     "name": "stdout",
     "output_type": "stream",
     "text": [
      "{'Arrival': 'July-01', 'Departure': 'July-08', 'City': 'New York', 'Country': 'USA'}\n"
     ]
    }
   ],
   "source": [
    "# Print item 0 \n",
    "print(itinerary[0])"
   ]
  },
  {
   "cell_type": "markdown",
   "metadata": {},
   "source": [
    "This is a dictionary. You can access a particular value by passing in the key - let's look at the `Country` value in the first row of the itinerary:"
   ]
  },
  {
   "cell_type": "code",
   "execution_count": 8,
   "metadata": {},
   "outputs": [
    {
     "name": "stdout",
     "output_type": "stream",
     "text": [
      "USA\n"
     ]
    }
   ],
   "source": [
    "print(itinerary[0][\"Country\"])"
   ]
  },
  {
   "cell_type": "markdown",
   "metadata": {},
   "source": [
    "## Try for yourself!\n",
    "\n",
    "Pause the video and explore other rows in the itinerary list, or individual items in any destination. Modify the code below to explore this world tour!"
   ]
  },
  {
   "cell_type": "code",
   "execution_count": null,
   "metadata": {},
   "outputs": [],
   "source": [
    "print(itinerary[0])\n",
    "print(itinerary[0][\"Country\"])"
   ]
  },
  {
   "cell_type": "markdown",
   "metadata": {},
   "source": [
    "<p style=\"background-color:#F5C780; padding:15px\"> 🤖 <b>Use the Chatbot</b>:\n",
    "    <br><br>\n",
    "    Explain this code line by line:\n",
    "    <br><br>f = open(\"itinerary.csv\", 'r')\n",
    "    <br>csv_reader = csv.DictReader(f)\n",
    "    <br>itinerary = []\n",
    "    <br>for row in csv_reader:\n",
    "    <br>itinerary.append(row)\n",
    "    <br><br>f.close()\n",
    "</p>"
   ]
  },
  {
   "cell_type": "markdown",
   "metadata": {},
   "source": [
    "## Structured Data"
   ]
  },
  {
   "cell_type": "markdown",
   "metadata": {},
   "source": [
    "Let's visualize this itinerary in a more readable way.\n",
    "\n",
    "* Use the ```display_table``` helper function:"
   ]
  },
  {
   "cell_type": "code",
   "execution_count": 9,
   "metadata": {},
   "outputs": [
    {
     "data": {
      "text/html": [
       "<table border=\"1\" class=\"dataframe\">\n",
       "  <thead>\n",
       "    <tr style=\"text-align: right;\">\n",
       "      <th>Arrival</th>\n",
       "      <th>Departure</th>\n",
       "      <th>City</th>\n",
       "      <th>Country</th>\n",
       "    </tr>\n",
       "  </thead>\n",
       "  <tbody>\n",
       "    <tr>\n",
       "      <td>July-01</td>\n",
       "      <td>July-08</td>\n",
       "      <td>New York</td>\n",
       "      <td>USA</td>\n",
       "    </tr>\n",
       "    <tr>\n",
       "      <td>July-09</td>\n",
       "      <td>July-16</td>\n",
       "      <td>Rio de Janeiro</td>\n",
       "      <td>Brazil</td>\n",
       "    </tr>\n",
       "    <tr>\n",
       "      <td>July-17</td>\n",
       "      <td>July-24</td>\n",
       "      <td>Cape Town</td>\n",
       "      <td>South Africa</td>\n",
       "    </tr>\n",
       "    <tr>\n",
       "      <td>July-25</td>\n",
       "      <td>August-01</td>\n",
       "      <td>Istanbul</td>\n",
       "      <td>Turkey</td>\n",
       "    </tr>\n",
       "    <tr>\n",
       "      <td>August-02</td>\n",
       "      <td>August-09</td>\n",
       "      <td>Paris</td>\n",
       "      <td>France</td>\n",
       "    </tr>\n",
       "    <tr>\n",
       "      <td>August-10</td>\n",
       "      <td>August-17</td>\n",
       "      <td>Tokyo</td>\n",
       "      <td>Japan</td>\n",
       "    </tr>\n",
       "    <tr>\n",
       "      <td>August-18</td>\n",
       "      <td>August-25</td>\n",
       "      <td>Sydney</td>\n",
       "      <td>Australia</td>\n",
       "    </tr>\n",
       "  </tbody>\n",
       "</table>"
      ],
      "text/plain": [
       "<IPython.core.display.HTML object>"
      ]
     },
     "metadata": {},
     "output_type": "display_data"
    }
   ],
   "source": [
    "display_table(itinerary)"
   ]
  },
  {
   "cell_type": "markdown",
   "metadata": {},
   "source": [
    "Next, write code to filter the table based on some criterion - in this case if the country is Japan - and then add the information for that stop to a new list called `filtered_data`:"
   ]
  },
  {
   "cell_type": "code",
   "execution_count": 10,
   "metadata": {},
   "outputs": [],
   "source": [
    "# Create an empty list to store the filtered data\n",
    "filtered_data = []\n",
    "\n",
    "# Filter by country\n",
    "for trip_stop in itinerary:\n",
    "    # For example: get the destinations located in \"Japan\"\n",
    "    if trip_stop[\"Country\"] == \"Japan\":\n",
    "        filtered_data.append(trip_stop)"
   ]
  },
  {
   "cell_type": "code",
   "execution_count": 11,
   "metadata": {},
   "outputs": [
    {
     "data": {
      "text/html": [
       "<table border=\"1\" class=\"dataframe\">\n",
       "  <thead>\n",
       "    <tr style=\"text-align: right;\">\n",
       "      <th>Arrival</th>\n",
       "      <th>Departure</th>\n",
       "      <th>City</th>\n",
       "      <th>Country</th>\n",
       "    </tr>\n",
       "  </thead>\n",
       "  <tbody>\n",
       "    <tr>\n",
       "      <td>August-10</td>\n",
       "      <td>August-17</td>\n",
       "      <td>Tokyo</td>\n",
       "      <td>Japan</td>\n",
       "    </tr>\n",
       "  </tbody>\n",
       "</table>"
      ],
      "text/plain": [
       "<IPython.core.display.HTML object>"
      ]
     },
     "metadata": {},
     "output_type": "display_data"
    }
   ],
   "source": [
    "display_table(filtered_data)"
   ]
  },
  {
   "cell_type": "markdown",
   "metadata": {},
   "source": [
    "Note that the `filtered_data` variable only contains one row."
   ]
  },
  {
   "cell_type": "markdown",
   "metadata": {},
   "source": [
    "## Using AI to suggest trip activities"
   ]
  },
  {
   "cell_type": "markdown",
   "metadata": {},
   "source": [
    "Retrieve the first destination and then ask an LLM for suggestions of activities to do in that location during the dates of the visit:"
   ]
  },
  {
   "cell_type": "code",
   "execution_count": 12,
   "metadata": {},
   "outputs": [
    {
     "name": "stdout",
     "output_type": "stream",
     "text": [
      "{'Arrival': 'July-01', 'Departure': 'July-08', 'City': 'New York', 'Country': 'USA'}\n"
     ]
    }
   ],
   "source": [
    "# Select the first destination from the itinerary list (Hint: index=0)\n",
    "trip_stop = itinerary[0]\n",
    "print(trip_stop)"
   ]
  },
  {
   "cell_type": "markdown",
   "metadata": {},
   "source": [
    "Create variables to store all the individual items from ```trip_stop```:"
   ]
  },
  {
   "cell_type": "code",
   "execution_count": 13,
   "metadata": {},
   "outputs": [],
   "source": [
    "city = trip_stop[\"City\"]\n",
    "country = trip_stop[\"Country\"]\n",
    "arrival = trip_stop[\"Arrival\"]\n",
    "departure = trip_stop[\"Departure\"]"
   ]
  },
  {
   "cell_type": "markdown",
   "metadata": {},
   "source": [
    "Write a prompt to get activity suggestions for your trip destination:"
   ]
  },
  {
   "cell_type": "code",
   "execution_count": 14,
   "metadata": {},
   "outputs": [
    {
     "name": "stdout",
     "output_type": "stream",
     "text": [
      "I will visit New York, USA, from July-01 to July-08. \n",
      "Please create a detailed daily itinerary.\n"
     ]
    }
   ],
   "source": [
    "prompt = f\"\"\"I will visit {city}, {country}, from {arrival} to {departure}. \n",
    "Please create a detailed daily itinerary.\"\"\"\n",
    "\n",
    "print(prompt)"
   ]
  },
  {
   "cell_type": "markdown",
   "metadata": {},
   "source": [
    "Use Markdown to display the LLM response nicely in the Jupyter notebook:"
   ]
  },
  {
   "cell_type": "code",
   "execution_count": 17,
   "metadata": {},
   "outputs": [
    {
     "data": {
      "text/markdown": [
       "I’m ChatGPT, a concise AI that gives you quick, useful travel plans.\n",
       "\n",
       "**New York Itinerary – July 1‑8**\n",
       "\n",
       "| Day | Morning | Lunch | Afternoon | Evening |\n",
       "|-----|---------|-------|-----------|---------|\n",
       "| **Jul 1** | Arrive, check into hotel (Mid‑town Manhattan) | Grab a classic NYC bagel | Walk the High Line, visit Chelsea Market | Times‑Square lights, Broadway show (book in advance) |\n",
       "| **Jul 2** | 9 am: Statue of Liberty & Ellis Island (ferry from Battery) | Lunch on Battery Park (seafood) | 3 pm: 9/11 Memorial & Museum | Dinner in Tribeca, optional rooftop bar |\n",
       "| **Jul 3** | 8 am: Central Park (bike or stroll to Bethesda Terrace) | Picnic at The Loeb Boathouse | 2 pm: Museum of Modern Art (MoMA) | Jazz at Lincoln Center or a comedy club |\n",
       "| **Jul 4** | 10 am: Empire State Building (skip‑line) | Lunch in Koreatown (K‑BBQ) | 2 pm: Top‑of‑The‑Rock (Rockefeller Center) | Fireworks at Battery Park (free, crowd‑sourced) |\n",
       "| **Jul 5** | 9 am: Walk across Brooklyn Bridge, explore DUMBO | Brunch at Time Out Market Brooklyn | 2 pm: Brooklyn Museum or street art tour | Sunset cruise on the Hudson, dinner aboard |\n",
       "| **Jul 6** | 10 am: New York Public Library & Bryant Park | Lunch at a deli (pastrami sandwich) | 2 pm: American Museum of Natural History (the dinosaur hall) | Dinner in Hell‑Fire‑Avenue (late‑night eats) |\n",
       "| **Jul 7** | 8 am: Guided tour of the U.S. Capitol & Washington Square Park (by train) – 2‑hour day trip | Lunch in Washington Heights (Cuban cuisine) | Return, relax at hotel | Broadway matinee or Off‑Broadway play |\n",
       "| **Jul 8** | 9 am: Souvenir shopping on Fifth Avenue (Apple Store, Tiffany’s) | Lunch at a Michelin‑starred spot (reserve) | Pack, last‑minute stroll through Bryant Park | Depart from JFK/LaGuardia |\n",
       "\n",
       "**Tips**\n",
       "- Buy “New York CityPASS” or a “NY Pass” for discounted entry.\n",
       "- Use the free Citi Bike system (NYC Bike Share) for short hops.\n",
       "- Reserve Broadway tickets 2–3 weeks ahead via official sites.\n",
       "- Pack light layers—July heat, but evenings can cool.\n",
       "\n",
       "Enjoy your 8‑day NYC adventure!"
      ],
      "text/plain": [
       "<IPython.core.display.Markdown object>"
      ]
     },
     "metadata": {},
     "output_type": "display_data"
    }
   ],
   "source": [
    "# Store the LLM response\n",
    "response = get_llm_response(prompt)\n",
    "\n",
    "# Print in Markdown format\n",
    "display(Markdown(response))"
   ]
  },
  {
   "cell_type": "markdown",
   "metadata": {},
   "source": [
    "## Extra Practice\n",
    "\n",
    "In these exercises, you'll create an itinerary for another stop on the trip! \n",
    "\n",
    "### Exercise 1\n",
    "\n",
    "First, create a filtered dataset for Brazil. You'll need to update the `if` statement to select the right country. "
   ]
  },
  {
   "cell_type": "code",
   "execution_count": null,
   "metadata": {},
   "outputs": [],
   "source": [
    "# Create an empty list to store the filtered data\n",
    "filtered_data = []\n",
    "\n",
    "# Filter by country\n",
    "for trip_stop in itinerary:\n",
    "    # For example: get the destinations located in \"Brazil\"\n",
    "    # Complete code on next line:\n",
    "    if trip_stop[\"Country\"] == \"Brazil\":\n",
    "        filtered_data.append(trip_stop)\n",
    "\n",
    "print(filtered_data)"
   ]
  },
  {
   "cell_type": "markdown",
   "metadata": {},
   "source": [
    "### Exercise 2\n",
    "\n",
    "Next, update the variables to pass in the prompt to the LLM. You'll need to modify the code on the next line to select the first item from `filtered_data` rather than the whole `itinerary`."
   ]
  },
  {
   "cell_type": "code",
   "execution_count": 19,
   "metadata": {},
   "outputs": [
    {
     "name": "stdout",
     "output_type": "stream",
     "text": [
      " The city is: New York\n",
      " The country is: USA\n",
      " The arrival date is: {arrival}\n",
      " The departure date is: {departure}\n"
     ]
    }
   ],
   "source": [
    "trip_stop = itinerary[0]\n",
    "\n",
    "city = trip_stop[\"City\"]\n",
    "country = trip_stop[\"Country\"]\n",
    "arrival = trip_stop[\"Arrival\"]\n",
    "departure = trip_stop[\"Departure\"]\n",
    "\n",
    "print(f\" The city is: {city}\")\n",
    "print(f\" The country is: {country}\")\n",
    "print(\" The arrival date is: {arrival}\")\n",
    "print(\" The departure date is: {departure}\")"
   ]
  },
  {
   "cell_type": "markdown",
   "metadata": {},
   "source": [
    "Now, you can run the prompt to get a new itinerary!"
   ]
  },
  {
   "cell_type": "code",
   "execution_count": 20,
   "metadata": {},
   "outputs": [
    {
     "name": "stdout",
     "output_type": "stream",
     "text": [
      "I’m ChatGPT, a quick‑reply AI that helps you plan trips, answer questions, and provide concise guidance.  \n",
      "\n",
      "---\n",
      "\n",
      "### New York Itinerary – July 1 – July 8\n",
      "\n",
      "**Day 1 – July 1 (Mon): Arrival & Midtown Overview**  \n",
      "- **Morning:** Arrive, check into hotel (e.g., 5th Ave/Manhattan).  \n",
      "- **Afternoon:**  \n",
      "  - Walk to **Rockefeller Center** – tour & Top of the Rock (6 pm).  \n",
      "  - Stroll through **St. Patricks Cathedral**.  \n",
      "- **Evening:** Dinner at **Keen’s Steakhouse** (5 pm).  \n",
      "- **Night:** Times Square, lights & Broadway show (optional).\n",
      "\n",
      "**Day 2 – July 2 (Tue): Central Park & Museum Mile**  \n",
      "- **Morning:** Central Park bike ride (9 am).  \n",
      "- **Late Morning:** Visit **The Metropolitan Museum of Art** (1 pm).  \n",
      "- **Afternoon:** Walk along Museum Mile to **Guggenheim** (3 pm).  \n",
      "- **Evening:** Dinner in the Upper East Side (e.g., **Lure Fishbar**).\n",
      "\n",
      "**Day 3 – July 3 (Wed): Lower Manhattan & Statue of Liberty**  \n",
      "- **Morning:** Battery Park → Statue of Liberty & Ellis Island (10 am).  \n",
      "- **Afternoon:**  \n",
      "  - Visit **9/11 Memorial & Museum** (2 pm).  \n",
      "  - Walk across the **Brooklyn Bridge** (4 pm).  \n",
      "- **Evening:** Dine in Brooklyn Heights (e.g., **L&B Spumoni Gardens**).\n",
      "\n",
      "**Day 4 – July 4 (Thu): Independence Day Celebration**  \n",
      "- **Morning:** Brunch at **Café Lalo** (9 am).  \n",
      "- **Midday:** Head to **Central Park** for the **NYC Fireworks** (8:45 pm).  \n",
      "- **Evening:** Optional fireworks at **Brooklyn Bridge Park** (alternative spot).  \n",
      "\n",
      "**Day 5 – July 5 (Fri): Cultural Brooklyn**  \n",
      "- **Morning:** Explore **Williamsburg** – vintage shops, street art.  \n",
      "- **Afternoon:** Visit **Brooklyn Museum** (2 pm).  \n",
      "- **Evening:** Sunset at **DUMBO** (7 pm).  \n",
      "- **Dinner:** **Juliana’s Pizza** or **The River Café** (if budget permits).\n",
      "\n",
      "**Day 6 – July 6 (Sat): Food & Entertainment**  \n",
      "- **Morning:** Food tour in **Koreatown** (10 am).  \n",
      "- **Afternoon:** Visit **MoMA** (2 pm).  \n",
      "- **Evening:** Attend a concert at **Madison Square Garden** or a comedy show at **Comedy Cellar**.\n",
      "\n",
      "**Day 7 – July 7 (Sun): Day Trip to Hudson Valley**  \n",
      "- **Morning:** Train to **Cold Spring** (9 am).  \n",
      "- **Midday:** Lunch at **Hannah’s Kitchen**.  \n",
      "- **Afternoon:** Explore Hudson Valley vineyards or hike in **Walkway Overlook Park**.  \n",
      "- **Evening:** Return to NYC (6 pm).  \n",
      "\n",
      "**Day 8 – July 8 (Mon): Departure**  \n",
      "- **Morning:** Quick stroll through **Union Square** or last‑minute shopping.  \n",
      "- **Check‑out & head to airport.**\n",
      "\n",
      "**Tips**  \n",
      "- Use **MTA MetroCard** for all subways/bus rides.  \n",
      "- Book tickets for attractions (e.g., Top of the Rock, Statue of Liberty) online in advance.  \n",
      "- Stay hydrated; July can be hot.  \n",
      "\n",
      "Enjoy your trip!\n"
     ]
    }
   ],
   "source": [
    "prompt = f\"\"\"I will visit {city}, {country}, from {arrival} to {departure}. \n",
    "Please create a detailed daily itinerary.\"\"\"\n",
    "\n",
    "print_llm_response(prompt)"
   ]
  },
  {
   "cell_type": "markdown",
   "metadata": {},
   "source": [
    "### Challenge exercise!\n",
    "\n",
    "Complete the code below so that it will **print out the country of every destination** in the `itinerary.csv` file. Ask the chatbot for help if you need it!"
   ]
  },
  {
   "cell_type": "code",
   "execution_count": 18,
   "metadata": {},
   "outputs": [
    {
     "name": "stdout",
     "output_type": "stream",
     "text": [
      "{'Arrival': 'July-01', 'Departure': 'July-08', 'City': 'New York', 'Country': 'USA'}\n",
      "{'Arrival': 'July-09', 'Departure': 'July-16', 'City': 'Rio de Janeiro', 'Country': 'Brazil'}\n",
      "{'Arrival': 'July-17', 'Departure': 'July-24', 'City': 'Cape Town', 'Country': 'South Africa'}\n",
      "{'Arrival': 'July-25', 'Departure': 'August-01', 'City': 'Istanbul', 'Country': 'Turkey'}\n",
      "{'Arrival': 'August-02', 'Departure': 'August-09', 'City': 'Paris', 'Country': 'France'}\n",
      "{'Arrival': 'August-10', 'Departure': 'August-17', 'City': 'Tokyo', 'Country': 'Japan'}\n",
      "{'Arrival': 'August-18', 'Departure': 'August-25', 'City': 'Sydney', 'Country': 'Australia'}\n",
      "USA\n",
      "Brazil\n",
      "South Africa\n",
      "Turkey\n",
      "France\n",
      "Japan\n",
      "Australia\n"
     ]
    }
   ],
   "source": [
    "f = open(\"itinerary.csv\", \"r\")\n",
    "csv_reader = csv.DictReader(f)\n",
    "itinerary = []\n",
    "for row in csv_reader:\n",
    "    print(row)\n",
    "    itinerary.append(row)\n",
    "f.close()\n",
    "\n",
    "# Complete the next two lines to print the country:\n",
    "for trip_stop in itinerary:\n",
    "    print(trip_stop[\"Country\"])"
   ]
  },
  {
   "cell_type": "code",
   "execution_count": null,
   "metadata": {},
   "outputs": [],
   "source": []
  }
 ],
 "metadata": {
  "kernelspec": {
   "display_name": "Python 3",
   "language": "python",
   "name": "python3"
  },
  "language_info": {
   "codemirror_mode": {
    "name": "ipython",
    "version": 3
   },
   "file_extension": ".py",
   "mimetype": "text/x-python",
   "name": "python",
   "nbconvert_exporter": "python",
   "pygments_lexer": "ipython3",
   "version": "3.13.7"
  }
 },
 "nbformat": 4,
 "nbformat_minor": 2
}
