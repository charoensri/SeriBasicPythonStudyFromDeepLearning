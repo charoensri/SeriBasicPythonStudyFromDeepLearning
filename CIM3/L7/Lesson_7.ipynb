{
 "cells": [
  {
   "cell_type": "markdown",
   "metadata": {},
   "source": [
    "# Lesson 7: Creating itineraries for multiple cities"
   ]
  },
  {
   "cell_type": "markdown",
   "metadata": {},
   "source": [
    "In this lesson, you will use everything you have seen so far to plan the perfect vacation around the world!\n",
    "\n",
    "To get started, import some helper functions:"
   ]
  },
  {
   "cell_type": "code",
   "execution_count": 2,
   "metadata": {},
   "outputs": [],
   "source": [
    "import sys\n",
    "import os\n",
    "__file__ = os.path.abspath(\"OllamaHelper.py\")\n",
    "sys.path.append(os.path.dirname(os.path.dirname(os.path.dirname(os.path.abspath(__file__)))))\n",
    "#from helper_functions import upload_txt_file, list_files_in_directory, print_llm_response\n",
    "from OllamaHelper import *\n",
    "import csv\n",
    "from IPython.display import Markdown"
   ]
  },
  {
   "cell_type": "code",
   "execution_count": null,
   "metadata": {
    "notebookRunGroups": {
     "groupValue": "2"
    }
   },
   "outputs": [],
   "source": [
    "#from helper_functions import print_llm_response, get_llm_response, display_table\n",
    "#from IPython.display import Markdown\n",
    "#import csv"
   ]
  },
  {
   "cell_type": "markdown",
   "metadata": {},
   "source": [
    "## Reading travel itineraries from a CSV file"
   ]
  },
  {
   "cell_type": "markdown",
   "metadata": {},
   "source": [
    "First, define a new function that reads data stored in a CSV file and returns it as a dictionary variable:"
   ]
  },
  {
   "cell_type": "code",
   "execution_count": 5,
   "metadata": {},
   "outputs": [],
   "source": [
    "def read_csv(file):\n",
    "    f = open(file, \"r\")\n",
    "    \n",
    "    csv_reader = csv.DictReader(f)\n",
    "    data = []\n",
    "    for row in csv_reader:\n",
    "        data.append(row)\n",
    "    f.close()\n",
    "    \n",
    "    return data"
   ]
  },
  {
   "cell_type": "markdown",
   "metadata": {},
   "source": [
    "Next, load itineraries from `itinerary.csv` using the function you just defined (notice how much less code this is!) and then display the table of itineraries:"
   ]
  },
  {
   "cell_type": "code",
   "execution_count": 6,
   "metadata": {},
   "outputs": [
    {
     "data": {
      "text/html": [
       "<table border=\"1\" class=\"dataframe\">\n",
       "  <thead>\n",
       "    <tr style=\"text-align: right;\">\n",
       "      <th>Arrival</th>\n",
       "      <th>Departure</th>\n",
       "      <th>City</th>\n",
       "      <th>Country</th>\n",
       "    </tr>\n",
       "  </thead>\n",
       "  <tbody>\n",
       "    <tr>\n",
       "      <td>July-01</td>\n",
       "      <td>July-08</td>\n",
       "      <td>New York</td>\n",
       "      <td>USA</td>\n",
       "    </tr>\n",
       "    <tr>\n",
       "      <td>July-09</td>\n",
       "      <td>July-16</td>\n",
       "      <td>Rio de Janeiro</td>\n",
       "      <td>Brazil</td>\n",
       "    </tr>\n",
       "    <tr>\n",
       "      <td>July-17</td>\n",
       "      <td>July-24</td>\n",
       "      <td>Cape Town</td>\n",
       "      <td>South Africa</td>\n",
       "    </tr>\n",
       "    <tr>\n",
       "      <td>July-25</td>\n",
       "      <td>August-01</td>\n",
       "      <td>Istanbul</td>\n",
       "      <td>Turkey</td>\n",
       "    </tr>\n",
       "    <tr>\n",
       "      <td>August-02</td>\n",
       "      <td>August-09</td>\n",
       "      <td>Paris</td>\n",
       "      <td>France</td>\n",
       "    </tr>\n",
       "    <tr>\n",
       "      <td>August-10</td>\n",
       "      <td>August-17</td>\n",
       "      <td>Tokyo</td>\n",
       "      <td>Japan</td>\n",
       "    </tr>\n",
       "    <tr>\n",
       "      <td>August-18</td>\n",
       "      <td>August-25</td>\n",
       "      <td>Sydney</td>\n",
       "      <td>Australia</td>\n",
       "    </tr>\n",
       "  </tbody>\n",
       "</table>"
      ],
      "text/plain": [
       "<IPython.core.display.HTML object>"
      ]
     },
     "metadata": {},
     "output_type": "display_data"
    }
   ],
   "source": [
    "# Read the itinerary.csv file\n",
    "itinerary = read_csv(\"itinerary.csv\")\n",
    "\n",
    "# Display the itinerary\n",
    "display_table(itinerary)"
   ]
  },
  {
   "cell_type": "markdown",
   "metadata": {},
   "source": [
    "## Reading restaurant information from food journal entries"
   ]
  },
  {
   "cell_type": "markdown",
   "metadata": {},
   "source": [
    "Now create a new function called `read_journal` that reads in the contents of a plain text file with '.txt' extension and stores it into a string variable:"
   ]
  },
  {
   "cell_type": "code",
   "execution_count": 7,
   "metadata": {},
   "outputs": [],
   "source": [
    "# The function called 'read_journal'\n",
    "def read_journal(journal_file):\n",
    "    f = open(journal_file, \"r\")\n",
    "    journal = f.read() \n",
    "    f.close()\n",
    "\n",
    "    # Return the journal content\n",
    "    return journal"
   ]
  },
  {
   "cell_type": "markdown",
   "metadata": {},
   "source": [
    "Note that you used this function in an earlier lesson - now you know how it works!\n",
    "\n",
    "You can now use the `read_journal` function to read in a food journal file - let's start with Sydney:"
   ]
  },
  {
   "cell_type": "code",
   "execution_count": 8,
   "metadata": {},
   "outputs": [
    {
     "name": "stdout",
     "output_type": "stream",
     "text": [
      "My culinary adventure began at Saint Peter, a renowned seafood restaurant in Paddington. This place is a temple to Australian seafood, and the \"Murray Cod\" was a revelation. The fish, sourced from the Murray River, was perfectly cooked, with a crispy skin and tender, flaky flesh. It was served with a simple yet flavorful accompaniment of seasonal vegetables, allowing the quality of the fish to shine. The restaurant's dedication to sustainability and nose-to-tail seafood cooking added an educational aspect to the delicious meal.\n",
      "\n",
      "Next, I visited Billy Kwong in Potts Point, where celebrated chef Kylie Kwong puts a unique spin on modern Australian cuisine using native ingredients. The standout dish here was the \"Crispy Skin Duck with Davidsonâ€™s Plum Sauce.\" The duck was cooked to perfection, with a rich, flavorful meat and delightfully crispy skin, complemented by the tart and slightly sweet Davidsonâ€™s plum sauce. This dish was a perfect example of how traditional recipes can be elevated with local, indigenous ingredients, creating something both familiar and new.\n",
      "\n",
      "In search of a true Australian pub experience, I headed to The Lord Nelson Brewery Hotel in The Rocks. This historic pub serves up hearty, classic Australian fare, and the \"Roast Lamb\" was exactly what I was craving. The lamb, roasted to tender perfection, was served with a medley of root vegetables and a rich gravy, making for a comforting and satisfying meal. Paired with one of their house-brewed ales, it was a quintessential Aussie pub experience that I would highly recommend.\n",
      "\n",
      "I couldn't miss out on trying some of the famous Australian barbecue, so I headed to Vic's Meat Market at the Sydney Fish Market. The \"BBQ Beef Brisket\" was a highlight, slow-cooked to achieve a melt-in-the-mouth texture, and served with a tangy barbecue sauce. The smoky, rich flavor of the brisket was enhanced by the vibrant, outdoor setting of the market, where the aroma of grilling meat filled the air.\n",
      "\n",
      "To round off my exploration of local cuisine, I visited Bennelong, located within the iconic Sydney Opera House. This fine dining restaurant celebrates Australian produce in every dish. The \"Sydney Rock Oysters\" were an exquisite start to the meal, served with a delicate vinaigrette that highlighted their briny freshness. The oysters, sourced from local waters, were plump and succulent, offering a pure taste of the sea.\n",
      "\n",
      "\n"
     ]
    }
   ],
   "source": [
    "journal = read_journal(\"sydney.txt\")\n",
    "\n",
    "print(journal)"
   ]
  },
  {
   "cell_type": "markdown",
   "metadata": {},
   "source": [
    "Write a prompt that extracts restaurant and specialty dish information from the journal text and stores it in CSV format:"
   ]
  },
  {
   "cell_type": "code",
   "execution_count": 9,
   "metadata": {},
   "outputs": [
    {
     "name": "stdout",
     "output_type": "stream",
     "text": [
      "Restaurant,Specialty\n",
      "Saint Peter,Murray Cod\n",
      "Billy Kwong,Crispy Skin Duck with Davidson's Plum Sauce\n",
      "The Lord Nelson Brewery Hotel,Roast Lamb\n",
      "Vic's Meat Market,BBQ Beef Brisket\n",
      "Bennelong,Sydney Rock Oysters\n"
     ]
    }
   ],
   "source": [
    "# Write the prompt\n",
    "prompt = f\"\"\"Please extract a comprehensive list of the restaurants \n",
    "and their respective specialties mentioned in the following journal entry. \n",
    "Ensure that each restaurant name is accurately identified and listed. \n",
    "Provide your answer in CSV format, ready to save. \n",
    "Exclude the \"```csv\" declaration, don't add spaces after the comma, include column headers.\n",
    "\n",
    "Format:\n",
    "Restaurant, Specialty\n",
    "Res_1, Sp_1\n",
    "...\n",
    "\n",
    "Journal entry:\n",
    "{journal}\n",
    "\"\"\"\n",
    "\n",
    "# Print the prompt\n",
    "print_llm_response(prompt)"
   ]
  },
  {
   "cell_type": "markdown",
   "metadata": {},
   "source": [
    "Read in restaurant information from `Sydney.csv` file that was created for you and display it using the `display_table` function:"
   ]
  },
  {
   "cell_type": "code",
   "execution_count": 10,
   "metadata": {},
   "outputs": [
    {
     "data": {
      "text/html": [
       "<table border=\"1\" class=\"dataframe\">\n",
       "  <thead>\n",
       "    <tr style=\"text-align: right;\">\n",
       "      <th>Restaurant</th>\n",
       "      <th>Specialty</th>\n",
       "    </tr>\n",
       "  </thead>\n",
       "  <tbody>\n",
       "    <tr>\n",
       "      <td>Saint Peter</td>\n",
       "      <td>Murray Cod</td>\n",
       "    </tr>\n",
       "    <tr>\n",
       "      <td>Billy Kwong</td>\n",
       "      <td>Crispy Skin Duck with Davidsonâ€™s Plum Sauce</td>\n",
       "    </tr>\n",
       "    <tr>\n",
       "      <td>The Lord Nelson Brewery Hotel</td>\n",
       "      <td>Roast Lamb</td>\n",
       "    </tr>\n",
       "    <tr>\n",
       "      <td>Carriageworks Farmers Market</td>\n",
       "      <td>Kangaroo Pie</td>\n",
       "    </tr>\n",
       "    <tr>\n",
       "      <td>Vic's Meat Market</td>\n",
       "      <td>BBQ Beef Brisket</td>\n",
       "    </tr>\n",
       "    <tr>\n",
       "      <td>Bennelong</td>\n",
       "      <td>Sydney Rock Oysters</td>\n",
       "    </tr>\n",
       "  </tbody>\n",
       "</table>"
      ],
      "text/plain": [
       "<IPython.core.display.HTML object>"
      ]
     },
     "metadata": {},
     "output_type": "display_data"
    }
   ],
   "source": [
    "# Use the read_csv function\n",
    "sydney_restaurants = read_csv(\"Sydney.csv\")\n",
    "\n",
    "display_table(sydney_restaurants)"
   ]
  },
  {
   "cell_type": "markdown",
   "metadata": {},
   "source": [
    "## Creating detailed itineraries with restaurant suggestions"
   ]
  },
  {
   "cell_type": "markdown",
   "metadata": {},
   "source": [
    "In this section, you'll combine the data in the journal and the itinerary to create a detailed plan for your visit to Sydney. \n",
    "\n",
    "To access Sydney's data in the ```itinerary``` list, you have to use index '6' since Sydney is the seventh trip destination."
   ]
  },
  {
   "cell_type": "code",
   "execution_count": 11,
   "metadata": {},
   "outputs": [],
   "source": [
    "# Select Sydney from the 'itinerary' list\n",
    "trip_stop = itinerary[6]"
   ]
  },
  {
   "cell_type": "markdown",
   "metadata": {},
   "source": [
    "Next, store all the information from that ```trip_stop```, as well as the restaurant information you read in above, in separate variables:"
   ]
  },
  {
   "cell_type": "code",
   "execution_count": 12,
   "metadata": {},
   "outputs": [],
   "source": [
    "city = trip_stop[\"City\"]\n",
    "country = trip_stop[\"Country\"]\n",
    "arrival = trip_stop[\"Arrival\"]\n",
    "departure = trip_stop[\"Departure\"]\n",
    "restaurants = sydney_restaurants"
   ]
  },
  {
   "cell_type": "code",
   "execution_count": 13,
   "metadata": {},
   "outputs": [
    {
     "data": {
      "text/plain": [
       "list"
      ]
     },
     "execution_count": 13,
     "metadata": {},
     "output_type": "execute_result"
    }
   ],
   "source": [
    "type(restaurants)"
   ]
  },
  {
   "cell_type": "markdown",
   "metadata": {},
   "source": [
    "Pass all of this information in a detailed prompt to an LLM to create a detailed itinerary:"
   ]
  },
  {
   "cell_type": "code",
   "execution_count": 14,
   "metadata": {},
   "outputs": [
    {
     "data": {
      "text/markdown": [
       "**Hi!**  \n",
       "I’m ChatGPT, a quick‑answer AI ready to help you pack your Sydney trip into a tidy, time‑boxed itinerary.\n",
       "\n",
       "---\n",
       "\n",
       "## Sydney Itinerary (18 – 25 Aug)\n",
       "\n",
       "| Day | Date | Breakfast | Morning | Lunch (Restaurant & Specialty) | Afternoon | Dinner | Notes |\n",
       "|-----|------|-----------|---------|--------------------------------|-----------|--------|-------|\n",
       "| **1** | Aug 18 | 08:30 – 09:30 – Hotel breakfast | 10:00 – 12:00 – Stroll Circular Quay, see the Opera House | 12:30 – 13:30 – **Bennelong** – *Sydney Rock Oysters* | 14:00 – 16:30 – Harbour Bridge walk, Harbour foreshore | 19:00 – 20:30 – Local café (e.g., “The Grounds”) | Arrival & settle in |\n",
       "| **2** | Aug 19 | 08:30 – 09:30 – Café “Café 1945” | 10:00 – 11:30 – Explore The Rocks, market stalls | 12:30 – 13:30 – **Saint Peter** – *Murray Cod* | 14:00 – 17:00 – Ferry to Manly, beach & promenade | 19:00 – 20:30 – Seafood bar near Manly | |\n",
       "| **3** | Aug 20 | 08:30 – 09:30 – Hotel breakfast | 09:30 – 12:30 – Sydney Harbour Bridge climb | 12:30 – 13:30 – **Billy Kwong** – *Crispy Skin Duck with Davidson’s Plum Sauce* | 14:00 – 16:30 – Art Gallery of New South Wales | 19:00 – 20:30 – Darling Harbour bar | |\n",
       "| **4** | Aug 21 | 08:30 – 09:30 – Breakfast at “Sushi Garden” | 09:00 – 12:00 – Blue Mountains day trip (Echo Point, Scenic World) | 12:30 – 13:30 – Picnic (bought from the road‑side shop) | 14:00 – 17:30 – Return, rest | 19:00 – 20:30 – Vic’s Meat Market (BBQ Beef Brisket) | Vic’s is in The Rocks, perfect for a hearty dinner |\n",
       "| **5** | Aug 22 | 08:30 – 09:30 – Hotel breakfast | 09:00 – 12:00 – Taronga Zoo | 12:30 – 13:30 – **The Lord Nelson Brewery Hotel** – *Roast Lamb* | 14:00 – 16:00 – Australian Museum | 19:00 – 20:30 – Local pub (e.g., “The Glenmore”) | |\n",
       "| **6** | Aug 23 | 08:30 – 09:30 – Breakfast at “Mr. Jones” | 10:00 – 12:30 – SEA LIFE Sydney Aquarium | 12:30 – 13:30 – Lunch at “Spice Alley” (no listed restaurant) | 14:00 – 16:00 – Shopping at Queen Victoria Building | 19:00 – 20:30 – Rooftop dinner at “The Glenmore” | |\n",
       "| **7** | Aug 24 | 08:30 – 09:30 – Hotel breakfast | 10:00 – 12:00 – Visit Barangaroo Reserve | 12:30 – 13:30 – Lunch at “The Grounds” (free day, no restaurant on list) | 14:00 – 17:00 – Walk along Bondi‑Coogee coastal trail | 19:00 – 20:30 – Farewell drinks | |\n",
       "| **8** | Aug 25 | 08:30 – 09:30 – Final breakfast | 10:00 – 12:00 – Check‑out, last‑minute shopping | 12:30 – 13:30 – Light lunch at “Café 1945” | 14:00 – 15:00 – Head to airport |  | Departure |\n",
       "\n",
       "**Key Points**\n",
       "\n",
       "- **Restaurants (no repeats):** Bennelong, Saint Peter, Billy Kwong, Carriageworks (not used as a restaurant – use as market visit on Day 4), Vic’s Meat Market, The Lord Nelson Brewery Hotel.\n",
       "- **Specialties to try:**\n",
       "  - *Bennelong* – Sydney Rock Oysters\n",
       "  - *Saint Peter* – Murray Cod\n",
       "  - *Billy Kwong* – Crispy Skin Duck with Davidson’s Plum Sauce\n",
       "  - *Vic’s Meat Market* – BBQ Beef Brisket\n",
       "  - *The Lord Nelson Brewery Hotel* – Roast Lamb\n",
       "- **Meals timed** to allow sightseeing in the afternoons; dinner is around 19:00 for easy access to nightlife.\n",
       "- **Day 4** is a full Blue Mountains excursion – use the market at Carriageworks for snacks during the drive back.\n",
       "- **Day 7** is a “free day” to revisit any spot or relax before departure.\n",
       "\n",
       "Enjoy Sydney, and bon appétit!"
      ],
      "text/plain": [
       "<IPython.core.display.Markdown object>"
      ]
     },
     "metadata": {},
     "output_type": "display_data"
    }
   ],
   "source": [
    "# Write the prompt\n",
    "prompt = f\"\"\"I will visit {city}, {country} from {arrival} to {departure}. \n",
    "Create a daily itinerary with detailed activities. \n",
    "Designate times for breakfast, lunch, and dinner. \n",
    "\n",
    "I want to visit the restaurants listed in the restaurant dictionary \n",
    "without repeating any place. Make sure to mention the specialty\n",
    "that I should try at each of them.\n",
    "\n",
    "Restaurant dictionary:\n",
    "{restaurants}\n",
    "\n",
    "\"\"\"\n",
    "\n",
    "response = get_llm_response(prompt)\n",
    "\n",
    "# Print the LLM response in Markdown format\n",
    "display(Markdown(response))"
   ]
  },
  {
   "cell_type": "markdown",
   "metadata": {},
   "source": [
    "## Create detailed itineraries for all the cities in your trip"
   ]
  },
  {
   "cell_type": "markdown",
   "metadata": {},
   "source": [
    "You'll use a 'for' loop to iterate over all the cities in the ```itinerary``` list and create a detailed itinerary for each location:"
   ]
  },
  {
   "cell_type": "code",
   "execution_count": 15,
   "metadata": {},
   "outputs": [
    {
     "name": "stdout",
     "output_type": "stream",
     "text": [
      "Creating detailed itinerary for New York, USA.\n",
      "Creating detailed itinerary for Rio de Janeiro, Brazil.\n",
      "Creating detailed itinerary for Cape Town, South Africa.\n",
      "Creating detailed itinerary for Istanbul, Turkey.\n",
      "Creating detailed itinerary for Paris, France.\n",
      "Creating detailed itinerary for Tokyo, Japan.\n",
      "Creating detailed itinerary for Sydney, Australia.\n"
     ]
    }
   ],
   "source": [
    "# Create an empty dictionary to store the itinerary for each destination\n",
    "detailed_itinerary = {}\n",
    "\n",
    " # Use the 'for' loop over the 'itinerary' list   \n",
    "for trip_stop in itinerary:\n",
    "    city = trip_stop[\"City\"]\n",
    "    country = trip_stop[\"Country\"]\n",
    "    arrival = trip_stop[\"Arrival\"]\n",
    "    departure = trip_stop[\"Departure\"]\n",
    "\n",
    "    rest_dict = read_csv(f\"{city}.csv\")\n",
    "    \n",
    "    print(f\"Creating detailed itinerary for {city}, {country}.\")\n",
    "    \n",
    "    prompt = f\"\"\"I will visit {city}, {country} from {arrival} to {departure}. \n",
    "    Create a daily itinerary with detailed activities. \n",
    "    Designate times for breakfast, lunch, and dinner. \n",
    "\n",
    "    I want to visit the restaurants listed in the restaurant dictionary without repeating any place.\n",
    "    Make sure to mention the specialty that I should try at each of them.\n",
    "\n",
    "    Restaurant dictionary:\n",
    "    {rest_dict}\n",
    "\n",
    "    \"\"\"\n",
    "    # Store the detailed itinerary for the city to the dictionary\n",
    "    detailed_itinerary[city] = get_llm_response(prompt)"
   ]
  },
  {
   "cell_type": "markdown",
   "metadata": {},
   "source": [
    "You can now access the detailed itinerary for any city by passing in the city name as the key to the `detailed_itinerary` dictionary:"
   ]
  },
  {
   "cell_type": "code",
   "execution_count": 16,
   "metadata": {},
   "outputs": [
    {
     "data": {
      "text/markdown": [
       "**Hello, I’m ChatGPT—your quick‑reference travel guide.**\n",
       "\n",
       "---\n",
       "\n",
       "## Tokyo Itinerary (10 Aug – 17 Aug)\n",
       "\n",
       "| Day | Date | Breakfast | Morning | Lunch | Afternoon | Dinner | Evening |\n",
       "|-----|------|-----------|---------|-------|-----------|--------|---------|\n",
       "| **1** | 10 Aug | 7:30‑8:15 : Café on hotel floor | Arrive, check‑in, settle | — | Light walk around Shinjuku Gyoen | 18:30‑20:00 : **Sukiyabashi Jiro** – *Omakase sushi* | Optional stroll on Kabukicho |\n",
       "| **2** | 11 Aug | 7:30‑8:15 : Local bakery | 9:00‑10:30 : Explore Tsukiji Outer Market | 12:00‑12:45 : **Ichiran Ramen** – *Tonkotsu ramen* | 14:00‑17:00 : Ginza shopping & art | 18:30‑20:00 : **Ginza Kojyu** – *Kaiseki* | Night view from Tokyo Tower |\n",
       "| **3** | 12 Aug | 7:30‑8:15 : Asakusa coffee shop | 9:00‑11:30 : Senso‑ji & Nakamise Street | 12:00‑12:45 : **Afuri** – *Yuzu shio ramen* | 14:00‑17:00 : Ueno Park & Museums | 18:30‑20:00 : **Kyubey** – *Sushi* | Roppongi nightlife |\n",
       "| **4** | 13 Aug | 7:30‑8:15 : Odaiba café | 9:00‑12:00 : Odaiba (teamLab Borderless) | 12:00‑12:45 : **Den** – *Creative Japanese* | 14:00‑17:00 : Shimbashi & Ginza | 18:30‑20:00 : **Narisawa** – *Innovative tasting menu* | Harbor cruise |\n",
       "| **5** | 14 Aug | 7:30‑8:15 : Harajuku crepe shop | 9:00‑11:30 : Meiji Shrine & Omotesandō | 12:00‑12:45 : **Tempura Kondo** – *Seasonal tempura* | 14:00‑17:00 : Shibuya Crossing & Hachiko | 18:30‑20:00 : **Akasaka Kikunoi** – *Kaiseki* | Tokyo Sky Tree at night |\n",
       "| **6** | 15 Aug | 7:30‑8:15 : Local café | 9:00‑12:00 : Day trip to Nikko (Toshogu Shrine) | 12:00‑12:45 : Nikko local eatery | 14:00‑18:00 : Return, relax | 18:30‑20:00 : Casual izakaya | Evening walk along Sumida River |\n",
       "| **7** | 16 Aug | 7:30‑8:15 : Hotel breakfast | 9:00‑12:00 : Tokyo National Museum | 12:00‑12:45 : Tsukiji fish market snack | 14:00‑17:00 : Akihabara electronics | 18:30‑20:00 : Street food in Kappabashi | Night karaoke |\n",
       "| **8** | 17 Aug | 7:30‑8:15 : Depart‑day breakfast | 9:00‑11:00 : Final souvenir shopping | 12:00‑12:45 : Quick lunch at airport | — | — | Depart |\n",
       "\n",
       "**Notes**\n",
       "\n",
       "- All restaurants are used once; no repeats.  \n",
       "- Specialty highlighted for each visit.  \n",
       "- Breakfast & lunch times are suggestions; adjust to local opening hours.  \n",
       "- Evening activities are optional; keep them light to rest before departure."
      ],
      "text/plain": [
       "<IPython.core.display.Markdown object>"
      ]
     },
     "metadata": {},
     "output_type": "display_data"
    }
   ],
   "source": [
    "# Print in Markdown format\n",
    "display(Markdown(detailed_itinerary[\"Tokyo\"]))"
   ]
  },
  {
   "cell_type": "markdown",
   "metadata": {},
   "source": [
    "## Try it yourself! \n",
    "\n",
    "Update the code below to check out the itinerary for another city. \n",
    "\n",
    "**Options:**\n",
    "- Cape Town\n",
    "- Istanbul\n",
    "- New York\n",
    "- Paris\n",
    "- Rio de Janeiro\n",
    "- Sydney\n",
    "- Tokyo"
   ]
  },
  {
   "cell_type": "code",
   "execution_count": 18,
   "metadata": {},
   "outputs": [
    {
     "data": {
      "text/markdown": [
       "**Hi!** I’m ChatGPT—quick‑answer AI ready to help plan your NYC trip.\n",
       "\n",
       "---\n",
       "\n",
       "## July 1 – July 8 NYC Itinerary\n",
       "\n",
       "| Day | Time | Activity | Meal | Restaurant & Specialty |\n",
       "|-----|------|----------|------|------------------------|\n",
       "| **Day 1 – July 01** | 08:00‑09:00 | Breakfast at *Ess-a-Bagel* (East Village) | 09:00‑10:00 | Walk to **Wall Street** & **9/11 Memorial** | 12:30‑14:00 | Lunch at **Katz’s Delicatessen** – *Pastrami on rye* | 19:00‑21:00 | Dinner at **The Dead Rabbit** (Financial District) – Irish classics |\n",
       "| **Day 2 – July 02** | 08:00‑09:00 | Breakfast at *Balthazar* (SoHo) | 10:00‑13:00 | Explore **SoHo** shopping & **Greenwich Village** | 18:00‑20:00 | Dinner at **Peter Luger Steak House** – *Porterhouse steak* |\n",
       "| **Day 3 – July 03** | 08:00‑09:00 | Breakfast at *Dominique Ansel* (SoHo) | 10:30‑13:30 | Visit **The High Line** & **Chelsea Market** (shopping) | 19:30‑21:30 | Dinner at **The Modern** (MoMA) – contemporary American |\n",
       "| **Day 4 – July 04** | 08:30‑09:30 | Breakfast at *The Smith* (East Village) | 11:00‑14:00 | Museum day: **Metropolitan Museum of Art** | 19:00‑21:00 | Dinner at **Eleven Madison Park** – *Sunflower seed risotto* |\n",
       "| **Day 5 – July 05** | 08:00‑09:00 | Breakfast at *Joe’s Coffee* (Upper West Side) | 10:00‑13:00 | Walk **Central Park** (Belvedere Castle, Bethesda Terrace) | 19:00‑21:00 | Dinner at **Gramercy Tavern** – *Roasted chicken with seasonal vegetables* |\n",
       "| **Day 6 – July 06** | 08:30‑09:30 | Breakfast at *Café Grumpy* (Brooklyn) | 10:00‑12:00 | Brooklyn Bridge walk & **DUMBO** photo ops | 13:00‑15:00 | Lunch at *Smorgasburg* (summer market) | 18:00‑20:00 | Free evening – explore Times Square at night |\n",
       "| **Day 7 – July 07** | 08:00‑09:00 | Breakfast at *Basilico* (Midtown) | 10:00‑13:00 | Broadway matinee & **Broadway** tour | 19:00‑21:00 | Dinner at *Sushi Nakazawa* (West Village) – omakase |\n",
       "| **Day 8 – July 08** | 08:30‑09:30 | Breakfast at *Lafayette* (Flatiron) | 10:00‑12:00 | Last‑minute shopping at **FAO Schwarz** & **Rockefeller Center** | 13:00‑14:30 | Lunch at *Shake Shack* (Madison Square Park) | 16:00‑18:00 | Pack & depart |\n",
       "\n",
       "**Notes**\n",
       "\n",
       "- All meals are scheduled to give you 2–3 hr for dining; adjust times if needed.  \n",
       "- Each restaurant appears only once; specialties highlighted.  \n",
       "- Activities blend cultural sights, food, and relaxation.  \n",
       "\n",
       "Enjoy your trip!"
      ],
      "text/plain": [
       "<IPython.core.display.Markdown object>"
      ]
     },
     "metadata": {},
     "output_type": "display_data"
    }
   ],
   "source": [
    "# Update the next line of code to view a different city\n",
    "display(Markdown(detailed_itinerary[\"New York\"]))"
   ]
  },
  {
   "cell_type": "markdown",
   "metadata": {},
   "source": [
    "## Congratulations on completing this course! 🎉🎉🎉\n",
    "\n",
    "Please go onto the fourth and final course of this sequence where you'll learn how to extend the capabilities of Python using code written by other programmers!"
   ]
  }
 ],
 "metadata": {
  "kernelspec": {
   "display_name": "Python 3",
   "language": "python",
   "name": "python3"
  },
  "language_info": {
   "codemirror_mode": {
    "name": "ipython",
    "version": 3
   },
   "file_extension": ".py",
   "mimetype": "text/x-python",
   "name": "python",
   "nbconvert_exporter": "python",
   "pygments_lexer": "ipython3",
   "version": "3.13.7"
  }
 },
 "nbformat": 4,
 "nbformat_minor": 2
}
