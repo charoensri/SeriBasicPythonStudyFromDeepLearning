{
 "cells": [
  {
   "cell_type": "code",
   "execution_count": null,
   "id": "9014c448",
   "metadata": {},
   "outputs": [],
   "source": [
    "from openai import AzureOpenAI, DefaultHttpxClient"
   ]
  },
  {
   "cell_type": "code",
   "execution_count": 2,
   "id": "a674f673",
   "metadata": {},
   "outputs": [],
   "source": [
    "import ipywidgets as widgets\n",
    "from IPython.display import display\n",
    "import io\n",
    "import os"
   ]
  },
  {
   "cell_type": "code",
   "execution_count": null,
   "id": "1ced527d",
   "metadata": {},
   "outputs": [],
   "source": [
    "client = AzureOpenAI(\n",
    "    api_key=\"abcdefg\",\n",
    "    api_version=\"2024-02-01\",\n",
    "    azure_endpoint = \"https://cour-external-playground.openai.azure.com/\",\n",
    "    http_client=DefaultHttpxClient(verify=False)\n",
    "    )"
   ]
  },
  {
   "cell_type": "code",
   "execution_count": null,
   "id": "4da2324e",
   "metadata": {},
   "outputs": [],
   "source": [
    "#\n",
    "\n",
    "# ### If you want to use your own OpenAI key, uncomment these lines below\n",
    "\n",
    "# from openai import OpenAI\n",
    "\n",
    "# ### Add your key as a string\n",
    "# openai_api_key = \"Add your key in here\"\n",
    "\n",
    "# # Set up the OpenAI client\n",
    "# client = OpenAI(api_key=openai_api_key)\n",
    "\n",
    "#"
   ]
  },
  {
   "cell_type": "code",
   "execution_count": null,
   "id": "127d2461",
   "metadata": {},
   "outputs": [],
   "source": [
    "def print_llm_response(prompt):\n",
    "    \"\"\"This function takes as input a prompt, which must be a string enclosed in quotation marks,\n",
    "    and passes it to OpenAI's GPT 4o-mini model. The function then prints the response of the model.\n",
    "    \"\"\"\n",
    "    try:\n",
    "        if not isinstance(prompt, str):\n",
    "            raise ValueError(\"Input must be a string enclosed in quotes.\")\n",
    "        completion = client.chat.completions.create(\n",
    "            model=\"gpt-4o-mini\",\n",
    "            messages=[\n",
    "                {\n",
    "                    \"role\": \"system\",\n",
    "                    \"content\": \"You are a helpful but terse AI assistant who gets straight to the point.\",\n",
    "                },\n",
    "                {\"role\": \"user\", \"content\": prompt},\n",
    "            ],\n",
    "            temperature=0.0,\n",
    "        )\n",
    "        response = completion.choices[0].message.content\n",
    "        print(response)\n",
    "    except TypeError as e:\n",
    "        print(\"Error:\", str(e))"
   ]
  },
  {
   "cell_type": "code",
   "execution_count": null,
   "id": "2e8fcf49",
   "metadata": {
    "lines_to_next_cell": 1
   },
   "outputs": [],
   "source": [
    "def upload_txt_file():\n",
    "    \"\"\"\n",
    "    Uploads a text file and saves it to the specified directory.\n",
    "    \n",
    "    Args:\n",
    "        directory (str): The directory where the uploaded file will be saved. \n",
    "        Defaults to the current working directory.\n",
    "    \"\"\"\n",
    "    # Create the file upload widget\n",
    "    upload_widget = widgets.FileUpload(\n",
    "        accept='.txt',  # Accept text files only\n",
    "        multiple=False  # Do not allow multiple uploads\n",
    "    )\n",
    "    # Impose file size limit\n",
    "    output = widgets.Output()\n",
    "    \n",
    "    # Function to handle file upload\n",
    "    def handle_upload(change):\n",
    "        with output:\n",
    "            output.clear_output()\n",
    "            # Read the file content\n",
    "            content = upload_widget.value[0]['content']\n",
    "            name = upload_widget.value[0]['name']\n",
    "            size_in_kb = len(content) / 1024\n",
    "            \n",
    "            if size_in_kb > 3:\n",
    "                print(f\"Your file is too large, please upload a file that doesn't exceed 3KB.\")\n",
    "                return\n",
    "\t\t    \n",
    "            # Save the file to the specified directory\n",
    "            with open(name, 'wb') as f:\n",
    "                f.write(content)\n",
    "            # Confirm the file has been saved\n",
    "            print(f\"The {name} file has been uploaded.\")\n",
    "\n",
    "    # Attach the file upload event to the handler function\n",
    "    upload_widget.observe(handle_upload, names='value')\n",
    "\n",
    "    display(upload_widget, output)"
   ]
  },
  {
   "cell_type": "code",
   "execution_count": null,
   "id": "f92ffbbd",
   "metadata": {},
   "outputs": [],
   "source": [
    "def list_files_in_directory(directory='.'):\n",
    "    \"\"\"\n",
    "    Lists all non-hidden files in the specified directory.\n",
    "    \n",
    "    Args:\n",
    "        directory (str): The directory to list files from. Defaults to the current working directory.\n",
    "    \"\"\"\n",
    "    try:\n",
    "        files = [f for f in os.listdir(directory) if (not f.startswith('.') and not f.startswith('_'))]\n",
    "        for file in files:\n",
    "            print(file)\n",
    "    except Exception as e:\n",
    "        print(f\"An error occurred: {e}\")"
   ]
  }
 ],
 "metadata": {
  "jupytext": {
   "cell_metadata_filter": "-all",
   "notebook_metadata_filter": "-all",
   "text_representation": {
    "extension": ".py",
    "format_name": "light"
   }
  },
  "kernelspec": {
   "display_name": "Python 3",
   "language": "python",
   "name": "python3"
  },
  "language_info": {
   "codemirror_mode": {
    "name": "ipython",
    "version": 3
   },
   "file_extension": ".py",
   "mimetype": "text/x-python",
   "name": "python",
   "nbconvert_exporter": "python",
   "pygments_lexer": "ipython3",
   "version": "3.13.7"
  }
 },
 "nbformat": 4,
 "nbformat_minor": 5
}
