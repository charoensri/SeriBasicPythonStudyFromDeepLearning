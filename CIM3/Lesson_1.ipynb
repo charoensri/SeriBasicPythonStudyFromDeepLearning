{
 "cells": [
  {
   "cell_type": "markdown",
   "metadata": {
    "id": "WMGxBP-yQoCl"
   },
   "source": [
    "# Lesson 1: Using files in Python\n",
    "\n",
    "Hit the play button on the video next to this Jupyter notebook to start the video and follow along as Andrew explains how to work through this lesson.\n",
    "\n",
    "So far, if you have taken the previous courses in this sequence, \n",
    "* You have worked with data that is created and assigned to variables within Jupyter notebooks.\n",
    "* You have created multi-line strings.\n",
    "* You have created lists and dictionaries.\n",
    "* You have automated tasks using `for` loops and `if` statements.\n",
    "\n",
    "\n",
    "In this lesson, you will read files using Python!\n",
    "\n",
    "Let's start by loading some functions you'll use in this notebook:"
   ]
  },
  {
   "cell_type": "code",
   "execution_count": 7,
   "metadata": {},
   "outputs": [],
   "source": [
    "import sys\n",
    "import os\n",
    "__file__ = os.path.abspath(\"OllamaHelper.py\")\n",
    "sys.path.append(os.path.dirname(os.path.dirname(os.path.abspath(__file__))))\n",
    "from OllamaHelper import get_llm_response, print_llm_response\n",
    "from IPython.display import display, Markdown"
   ]
  },
  {
   "cell_type": "markdown",
   "metadata": {},
   "source": [
    "* Write a prompt to create a recipe using `get_llm_response`."
   ]
  },
  {
   "cell_type": "code",
   "execution_count": 8,
   "metadata": {},
   "outputs": [
    {
     "name": "stdout",
     "output_type": "stream",
     "text": [
      "Hi, I’m ChatGPT.\n",
      "\n",
      "**Chicken‑Broccoli Rice Bowl**\n",
      "\n",
      "- **Ingredients:** 1 chicken breast, 1 cup broccoli florets, 1 cup cooked rice, 1 tbsp soy sauce, 1 tsp oil, salt & pepper.  \n",
      "- **1.** Heat oil in a pan, season chicken, cook 3‑4 min per side until browned.  \n",
      "- **2.** Add broccoli, stir‑fry 2‑3 min until crisp‑tender.  \n",
      "- **3.** Stir in rice and soy sauce, cook 1‑2 min until hot. Serve immediately.\n"
     ]
    }
   ],
   "source": [
    "# Write a list of ingredients\n",
    "ingredients = ['chicken', 'broccoli', 'rice']\n",
    "\n",
    "# Write the prompt\n",
    "prompt = f\"\"\"\n",
    "    Create a short recipe that uses the following ingredients:\n",
    "    {ingredients}\n",
    "\"\"\"\n",
    "\n",
    "# Get the response from the LLM\n",
    "response = get_llm_response(prompt)\n",
    "\n",
    "# Print the LLM response\n",
    "print(response)"
   ]
  },
  {
   "cell_type": "markdown",
   "metadata": {},
   "source": [
    "## Opening a text file and saving it as a string"
   ]
  },
  {
   "cell_type": "markdown",
   "metadata": {},
   "source": [
    "You will load data that has already been created and is stored 📁 for you in files.\n",
    "\n",
    "* Start by loading an email that Daniel sent recently. It is stored in a '.txt' file."
   ]
  },
  {
   "cell_type": "code",
   "execution_count": 9,
   "metadata": {},
   "outputs": [],
   "source": [
    "f = open(\"email.txt\", \"r\")\n",
    "email = f.read()\n",
    "f.close()"
   ]
  },
  {
   "cell_type": "markdown",
   "metadata": {},
   "source": [
    "* Print what it is 'inside' the email ✉️."
   ]
  },
  {
   "cell_type": "code",
   "execution_count": 10,
   "metadata": {},
   "outputs": [
    {
     "name": "stdout",
     "output_type": "stream",
     "text": [
      "Subject: My Incredible Journey Around the World!\n",
      "\n",
      "Hi Andrew,\n",
      "\n",
      "I hope you are doing greatl! I just returned from an incredible trip around the world. I started in New York, enjoying a Broadway show and the skyline. In Rio de Janeiro, I soaked up the sun on Copacabana Beach and hiked to Christ the Redeemer. Cape Town amazed me with its natural beauty and safari adventures. Paris was magical with its charming streets and delicious food. Istanbul's Hagia Sophia and Bosphorus cruise were unforgettable. Tokyo dazzled with its neon lights and delicious sushi. Finally, Sydney's Opera House and Bondi Beach were the perfect end to my journey. Can't wait to share more stories and photos when we catch up!\n",
      "\n",
      "Best,\n",
      "\n",
      "Daniel\n"
     ]
    }
   ],
   "source": [
    "print(email)"
   ]
  },
  {
   "cell_type": "markdown",
   "metadata": {},
   "source": [
    "<p style=\"background-color:#F5C780; padding:15px\"> 🤖 <b>Use the Chatbot</b>:\n",
    "    <br><br>\n",
    "    Explain this code line by line:\n",
    "    <br><br>f = open(\"email.txt\", \"r\")\n",
    "    <br>email = f.read()\n",
    "    <br>f.close()\n",
    "</p>"
   ]
  },
  {
   "cell_type": "markdown",
   "metadata": {},
   "source": [
    "<p style=\"background-color:#F5C780; padding:15px\"> 🤖 <b>Use the Chatbot</b>:\n",
    "    <br><br>\n",
    "    What happens if I don't close a file?\n",
    "</p>"
   ]
  },
  {
   "cell_type": "markdown",
   "metadata": {},
   "source": [
    "## Using LLMs to extract bullet points from the email"
   ]
  },
  {
   "cell_type": "markdown",
   "metadata": {},
   "source": [
    "* Create a prompt to extract bullet points from Daniel's email ✉️."
   ]
  },
  {
   "cell_type": "code",
   "execution_count": 11,
   "metadata": {},
   "outputs": [
    {
     "name": "stdout",
     "output_type": "stream",
     "text": [
      "Extract bullet points from the following email. \n",
      "Include the sender information. \n",
      "\n",
      "Email:\n",
      "Subject: My Incredible Journey Around the World!\n",
      "\n",
      "Hi Andrew,\n",
      "\n",
      "I hope you are doing greatl! I just returned from an incredible trip around the world. I started in New York, enjoying a Broadway show and the skyline. In Rio de Janeiro, I soaked up the sun on Copacabana Beach and hiked to Christ the Redeemer. Cape Town amazed me with its natural beauty and safari adventures. Paris was magical with its charming streets and delicious food. Istanbul's Hagia Sophia and Bosphorus cruise were unforgettable. Tokyo dazzled with its neon lights and delicious sushi. Finally, Sydney's Opera House and Bondi Beach were the perfect end to my journey. Can't wait to share more stories and photos when we catch up!\n",
      "\n",
      "Best,\n",
      "\n",
      "Daniel\n"
     ]
    }
   ],
   "source": [
    "prompt = f\"\"\"Extract bullet points from the following email. \n",
    "Include the sender information. \n",
    "\n",
    "Email:\n",
    "{email}\"\"\"\n",
    "\n",
    "print(prompt)"
   ]
  },
  {
   "cell_type": "markdown",
   "metadata": {},
   "source": [
    "* Run the ```get_llm_response``` function to get the response with bullet points."
   ]
  },
  {
   "cell_type": "code",
   "execution_count": 12,
   "metadata": {},
   "outputs": [
    {
     "name": "stdout",
     "output_type": "stream",
     "text": [
      "I’m ChatGPT, a large language model developed by OpenAI.  \n",
      "\n",
      "**Email summary**\n",
      "\n",
      "- **Subject:** My Incredible Journey Around the World!  \n",
      "- **Sender:** Daniel (to Andrew)  \n",
      "- **Highlights:**  \n",
      "  - Started in New York – Broadway show & skyline.  \n",
      "  - Rio de Janeiro – Copacabana Beach & Christ the Redeemer.  \n",
      "  - Cape Town – natural beauty & safari adventures.  \n",
      "  - Paris – charming streets & delicious food.  \n",
      "  - Istanbul – Hagia Sophia & Bosphorus cruise.  \n",
      "  - Tokyo – neon lights & sushi.  \n",
      "  - Sydney – Opera House & Bondi Beach.  \n",
      "- **Closing:** Eager to share stories and photos when catching up.\n"
     ]
    }
   ],
   "source": [
    "bullet_points = get_llm_response(prompt)\n",
    "print(bullet_points)"
   ]
  },
  {
   "cell_type": "markdown",
   "metadata": {},
   "source": [
    "* Print the LLM response in Markdown format."
   ]
  },
  {
   "cell_type": "code",
   "execution_count": null,
   "metadata": {},
   "outputs": [],
   "source": [
    "# Print in Markdown format\n",
    "display(Markdown(bullet_points))"
   ]
  },
  {
   "cell_type": "markdown",
   "metadata": {},
   "source": [
    "## Extra practice\n",
    "\n",
    "Try the exercises below to get an LLM to carry out different tasks using the email text you read in from file:\n",
    "\n",
    "### Exercise 1\n",
    "\n",
    "Complete the code below to identify all the **countries** mentioned in the email."
   ]
  },
  {
   "cell_type": "code",
   "execution_count": 13,
   "metadata": {},
   "outputs": [
    {
     "name": "stdout",
     "output_type": "stream",
     "text": [
      "Hi, I’m ChatGPT—quick‑reply AI.\n",
      "\n",
      "Countries mentioned:\n",
      "- United States (New York)  \n",
      "- Brazil (Rio de Janeiro)  \n",
      "- South Africa (Cape Town)  \n",
      "- France (Paris)  \n",
      "- Turkey (Istanbul)  \n",
      "- Japan (Tokyo)  \n",
      "- Australia (Sydney)\n"
     ]
    }
   ],
   "source": [
    "# Complete the code below to identify all of the countries mentioned \n",
    "# in the email\n",
    "prompt = f\"\"\"identify all of the countries mentioned in the email\n",
    "\n",
    "Email:\n",
    "{email}\n",
    "\"\"\"\n",
    "\n",
    "countries = get_llm_response(prompt)\n",
    "print(countries)"
   ]
  },
  {
   "cell_type": "markdown",
   "metadata": {},
   "source": [
    "### Exercise 2\n",
    "\n",
    "Write code below to list all of the activities that Daniel did on his trip. You'll need to create a prompt and use `get_llm_response`."
   ]
  },
  {
   "cell_type": "code",
   "execution_count": 14,
   "metadata": {},
   "outputs": [
    {
     "name": "stdout",
     "output_type": "stream",
     "text": [
      "I’m ChatGPT—quick, concise, and here to help.\n",
      "\n",
      "**Daniel’s trip activities:**\n",
      "\n",
      "- Broadway show (New York)\n",
      "- Skyline sightseeing (New York)\n",
      "- Sunbathing at Copacabana Beach (Rio de Janeiro)\n",
      "- Hiking to Christ the Redeemer (Rio de Janeiro)\n",
      "- Safari adventure (Cape Town)\n",
      "- Strolling charming streets (Paris)\n",
      "- Dining on delicious food (Paris)\n",
      "- Visiting Hagia Sophia (Istanbul)\n",
      "- Bosphorus cruise (Istanbul)\n",
      "- Experiencing neon lights (Tokyo)\n",
      "- Eating sushi (Tokyo)\n",
      "- Viewing the Opera House (Sydney)\n",
      "- Relaxing at Bondi Beach (Sydney)\n"
     ]
    }
   ],
   "source": [
    "# Write code below to list all of the activities that Daniel did on \n",
    "# his trip. You'll need to create a prompt and use get_llm_response\n",
    "# START YOUR CODE HERE\n",
    "prompt = f\"\"\"List all of the activities that Daniel did on his trip based on the email below. {email}\"\"\"\n",
    "\n",
    "activities = get_llm_response(prompt)\n",
    "print(activities)\n",
    "# END YOUR CODE HERE"
   ]
  },
  {
   "cell_type": "code",
   "execution_count": null,
   "metadata": {},
   "outputs": [],
   "source": []
  }
 ],
 "metadata": {
  "colab": {
   "gpuType": "T4",
   "provenance": []
  },
  "kernelspec": {
   "display_name": "Python 3",
   "language": "python",
   "name": "python3"
  },
  "language_info": {
   "codemirror_mode": {
    "name": "ipython",
    "version": 3
   },
   "file_extension": ".py",
   "mimetype": "text/x-python",
   "name": "python",
   "nbconvert_exporter": "python",
   "pygments_lexer": "ipython3",
   "version": "3.13.7"
  }
 },
 "nbformat": 4,
 "nbformat_minor": 4
}
